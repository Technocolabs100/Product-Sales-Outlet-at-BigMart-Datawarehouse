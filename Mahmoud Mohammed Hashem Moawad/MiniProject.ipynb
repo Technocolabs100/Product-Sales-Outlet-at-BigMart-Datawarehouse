{
 "cells": [
  {
   "cell_type": "code",
   "execution_count": 1,
   "id": "958c9718",
   "metadata": {},
   "outputs": [],
   "source": [
    "import numpy as np\n",
    "import pandas as pd\n",
    "import seaborn as sns\n",
    "from sklearn.preprocessing import StandardScaler"
   ]
  },
  {
   "cell_type": "code",
   "execution_count": 2,
   "id": "3c4e3871",
   "metadata": {},
   "outputs": [
    {
     "name": "stdout",
     "output_type": "stream",
     "text": [
      "df.shape[0]: 8523\n",
      "df_train.shape[0]: 6818\n",
      "df_val.shape[0]: 1705\n"
     ]
    }
   ],
   "source": [
    "data = pd.read_csv(r\"dataset\\Train.csv\")\n",
    "df_val = data.sample(frac=0.2, random_state=1)\n",
    "df_train_notCleaned = data.drop(index=df_val.index)\n",
    "df_train = df_train_notCleaned.copy()\n",
    "\n",
    "print(f\"df.shape[0]: {data.shape[0]}\")\n",
    "print(f\"df_train.shape[0]: {df_train.shape[0]}\")\n",
    "print(f\"df_val.shape[0]: {df_val.shape[0]}\")"
   ]
  },
  {
   "cell_type": "markdown",
   "id": "0d75f536",
   "metadata": {},
   "source": [
    "# Cleaning Phase"
   ]
  },
  {
   "cell_type": "code",
   "execution_count": 3,
   "id": "964ae8c8",
   "metadata": {},
   "outputs": [
    {
     "data": {
      "text/html": [
       "<div>\n",
       "<style scoped>\n",
       "    .dataframe tbody tr th:only-of-type {\n",
       "        vertical-align: middle;\n",
       "    }\n",
       "\n",
       "    .dataframe tbody tr th {\n",
       "        vertical-align: top;\n",
       "    }\n",
       "\n",
       "    .dataframe thead th {\n",
       "        text-align: right;\n",
       "    }\n",
       "</style>\n",
       "<table border=\"1\" class=\"dataframe\">\n",
       "  <thead>\n",
       "    <tr style=\"text-align: right;\">\n",
       "      <th></th>\n",
       "      <th>Item_Identifier</th>\n",
       "      <th>Item_Weight</th>\n",
       "      <th>Item_Fat_Content</th>\n",
       "      <th>Item_Visibility</th>\n",
       "      <th>Item_Type</th>\n",
       "      <th>Item_MRP</th>\n",
       "      <th>Outlet_Identifier</th>\n",
       "      <th>Outlet_Establishment_Year</th>\n",
       "      <th>Outlet_Size</th>\n",
       "      <th>Outlet_Location_Type</th>\n",
       "      <th>Outlet_Type</th>\n",
       "      <th>Item_Outlet_Sales</th>\n",
       "    </tr>\n",
       "  </thead>\n",
       "  <tbody>\n",
       "    <tr>\n",
       "      <th>0</th>\n",
       "      <td>FDA15</td>\n",
       "      <td>9.30</td>\n",
       "      <td>Low Fat</td>\n",
       "      <td>0.016047</td>\n",
       "      <td>Dairy</td>\n",
       "      <td>249.8092</td>\n",
       "      <td>OUT049</td>\n",
       "      <td>1999</td>\n",
       "      <td>Medium</td>\n",
       "      <td>Tier 1</td>\n",
       "      <td>Supermarket Type1</td>\n",
       "      <td>3735.1380</td>\n",
       "    </tr>\n",
       "    <tr>\n",
       "      <th>1</th>\n",
       "      <td>DRC01</td>\n",
       "      <td>5.92</td>\n",
       "      <td>Regular</td>\n",
       "      <td>0.019278</td>\n",
       "      <td>Soft Drinks</td>\n",
       "      <td>48.2692</td>\n",
       "      <td>OUT018</td>\n",
       "      <td>2009</td>\n",
       "      <td>Medium</td>\n",
       "      <td>Tier 3</td>\n",
       "      <td>Supermarket Type2</td>\n",
       "      <td>443.4228</td>\n",
       "    </tr>\n",
       "    <tr>\n",
       "      <th>2</th>\n",
       "      <td>FDN15</td>\n",
       "      <td>17.50</td>\n",
       "      <td>Low Fat</td>\n",
       "      <td>0.016760</td>\n",
       "      <td>Meat</td>\n",
       "      <td>141.6180</td>\n",
       "      <td>OUT049</td>\n",
       "      <td>1999</td>\n",
       "      <td>Medium</td>\n",
       "      <td>Tier 1</td>\n",
       "      <td>Supermarket Type1</td>\n",
       "      <td>2097.2700</td>\n",
       "    </tr>\n",
       "    <tr>\n",
       "      <th>3</th>\n",
       "      <td>FDX07</td>\n",
       "      <td>19.20</td>\n",
       "      <td>Regular</td>\n",
       "      <td>0.000000</td>\n",
       "      <td>Fruits and Vegetables</td>\n",
       "      <td>182.0950</td>\n",
       "      <td>OUT010</td>\n",
       "      <td>1998</td>\n",
       "      <td>NaN</td>\n",
       "      <td>Tier 3</td>\n",
       "      <td>Grocery Store</td>\n",
       "      <td>732.3800</td>\n",
       "    </tr>\n",
       "    <tr>\n",
       "      <th>4</th>\n",
       "      <td>NCD19</td>\n",
       "      <td>8.93</td>\n",
       "      <td>Low Fat</td>\n",
       "      <td>0.000000</td>\n",
       "      <td>Household</td>\n",
       "      <td>53.8614</td>\n",
       "      <td>OUT013</td>\n",
       "      <td>1987</td>\n",
       "      <td>High</td>\n",
       "      <td>Tier 3</td>\n",
       "      <td>Supermarket Type1</td>\n",
       "      <td>994.7052</td>\n",
       "    </tr>\n",
       "  </tbody>\n",
       "</table>\n",
       "</div>"
      ],
      "text/plain": [
       "  Item_Identifier  Item_Weight Item_Fat_Content  Item_Visibility  \\\n",
       "0           FDA15         9.30          Low Fat         0.016047   \n",
       "1           DRC01         5.92          Regular         0.019278   \n",
       "2           FDN15        17.50          Low Fat         0.016760   \n",
       "3           FDX07        19.20          Regular         0.000000   \n",
       "4           NCD19         8.93          Low Fat         0.000000   \n",
       "\n",
       "               Item_Type  Item_MRP Outlet_Identifier  \\\n",
       "0                  Dairy  249.8092            OUT049   \n",
       "1            Soft Drinks   48.2692            OUT018   \n",
       "2                   Meat  141.6180            OUT049   \n",
       "3  Fruits and Vegetables  182.0950            OUT010   \n",
       "4              Household   53.8614            OUT013   \n",
       "\n",
       "   Outlet_Establishment_Year Outlet_Size Outlet_Location_Type  \\\n",
       "0                       1999      Medium               Tier 1   \n",
       "1                       2009      Medium               Tier 3   \n",
       "2                       1999      Medium               Tier 1   \n",
       "3                       1998         NaN               Tier 3   \n",
       "4                       1987        High               Tier 3   \n",
       "\n",
       "         Outlet_Type  Item_Outlet_Sales  \n",
       "0  Supermarket Type1          3735.1380  \n",
       "1  Supermarket Type2           443.4228  \n",
       "2  Supermarket Type1          2097.2700  \n",
       "3      Grocery Store           732.3800  \n",
       "4  Supermarket Type1           994.7052  "
      ]
     },
     "execution_count": 3,
     "metadata": {},
     "output_type": "execute_result"
    }
   ],
   "source": [
    "df_train.head()"
   ]
  },
  {
   "cell_type": "markdown",
   "id": "39985880",
   "metadata": {},
   "source": [
    "we have 1554 product in this train dataset and the other 5 products are in the val dataset"
   ]
  },
  {
   "cell_type": "code",
   "execution_count": 4,
   "id": "1d060c34",
   "metadata": {},
   "outputs": [
    {
     "data": {
      "text/html": [
       "<div>\n",
       "<style scoped>\n",
       "    .dataframe tbody tr th:only-of-type {\n",
       "        vertical-align: middle;\n",
       "    }\n",
       "\n",
       "    .dataframe tbody tr th {\n",
       "        vertical-align: top;\n",
       "    }\n",
       "\n",
       "    .dataframe thead th {\n",
       "        text-align: right;\n",
       "    }\n",
       "</style>\n",
       "<table border=\"1\" class=\"dataframe\">\n",
       "  <thead>\n",
       "    <tr style=\"text-align: right;\">\n",
       "      <th></th>\n",
       "      <th>Item_Weight</th>\n",
       "      <th>Item_Visibility</th>\n",
       "      <th>Item_MRP</th>\n",
       "      <th>Outlet_Establishment_Year</th>\n",
       "      <th>Item_Outlet_Sales</th>\n",
       "    </tr>\n",
       "  </thead>\n",
       "  <tbody>\n",
       "    <tr>\n",
       "      <th>count</th>\n",
       "      <td>5659.000000</td>\n",
       "      <td>6818.000000</td>\n",
       "      <td>6818.000000</td>\n",
       "      <td>6818.000000</td>\n",
       "      <td>6818.000000</td>\n",
       "    </tr>\n",
       "    <tr>\n",
       "      <th>mean</th>\n",
       "      <td>12.862008</td>\n",
       "      <td>0.066256</td>\n",
       "      <td>141.583528</td>\n",
       "      <td>1997.830595</td>\n",
       "      <td>2191.609016</td>\n",
       "    </tr>\n",
       "    <tr>\n",
       "      <th>std</th>\n",
       "      <td>4.653398</td>\n",
       "      <td>0.051477</td>\n",
       "      <td>61.944576</td>\n",
       "      <td>8.385614</td>\n",
       "      <td>1702.515307</td>\n",
       "    </tr>\n",
       "    <tr>\n",
       "      <th>min</th>\n",
       "      <td>4.555000</td>\n",
       "      <td>0.000000</td>\n",
       "      <td>31.290000</td>\n",
       "      <td>1985.000000</td>\n",
       "      <td>33.955800</td>\n",
       "    </tr>\n",
       "    <tr>\n",
       "      <th>25%</th>\n",
       "      <td>8.730000</td>\n",
       "      <td>0.026950</td>\n",
       "      <td>94.719900</td>\n",
       "      <td>1987.000000</td>\n",
       "      <td>856.884600</td>\n",
       "    </tr>\n",
       "    <tr>\n",
       "      <th>50%</th>\n",
       "      <td>12.600000</td>\n",
       "      <td>0.054229</td>\n",
       "      <td>143.215400</td>\n",
       "      <td>1999.000000</td>\n",
       "      <td>1821.628800</td>\n",
       "    </tr>\n",
       "    <tr>\n",
       "      <th>75%</th>\n",
       "      <td>16.850000</td>\n",
       "      <td>0.095374</td>\n",
       "      <td>185.901600</td>\n",
       "      <td>2004.000000</td>\n",
       "      <td>3095.637100</td>\n",
       "    </tr>\n",
       "    <tr>\n",
       "      <th>max</th>\n",
       "      <td>21.350000</td>\n",
       "      <td>0.328391</td>\n",
       "      <td>266.888400</td>\n",
       "      <td>2009.000000</td>\n",
       "      <td>13086.964800</td>\n",
       "    </tr>\n",
       "  </tbody>\n",
       "</table>\n",
       "</div>"
      ],
      "text/plain": [
       "       Item_Weight  Item_Visibility     Item_MRP  Outlet_Establishment_Year  \\\n",
       "count  5659.000000      6818.000000  6818.000000                6818.000000   \n",
       "mean     12.862008         0.066256   141.583528                1997.830595   \n",
       "std       4.653398         0.051477    61.944576                   8.385614   \n",
       "min       4.555000         0.000000    31.290000                1985.000000   \n",
       "25%       8.730000         0.026950    94.719900                1987.000000   \n",
       "50%      12.600000         0.054229   143.215400                1999.000000   \n",
       "75%      16.850000         0.095374   185.901600                2004.000000   \n",
       "max      21.350000         0.328391   266.888400                2009.000000   \n",
       "\n",
       "       Item_Outlet_Sales  \n",
       "count        6818.000000  \n",
       "mean         2191.609016  \n",
       "std          1702.515307  \n",
       "min            33.955800  \n",
       "25%           856.884600  \n",
       "50%          1821.628800  \n",
       "75%          3095.637100  \n",
       "max         13086.964800  "
      ]
     },
     "execution_count": 4,
     "metadata": {},
     "output_type": "execute_result"
    }
   ],
   "source": [
    "df_train.describe()"
   ]
  },
  {
   "cell_type": "code",
   "execution_count": 5,
   "id": "d4a36037",
   "metadata": {
    "scrolled": true
   },
   "outputs": [
    {
     "data": {
      "text/html": [
       "<div>\n",
       "<style scoped>\n",
       "    .dataframe tbody tr th:only-of-type {\n",
       "        vertical-align: middle;\n",
       "    }\n",
       "\n",
       "    .dataframe tbody tr th {\n",
       "        vertical-align: top;\n",
       "    }\n",
       "\n",
       "    .dataframe thead th {\n",
       "        text-align: right;\n",
       "    }\n",
       "</style>\n",
       "<table border=\"1\" class=\"dataframe\">\n",
       "  <thead>\n",
       "    <tr style=\"text-align: right;\">\n",
       "      <th></th>\n",
       "      <th></th>\n",
       "      <th>Item_Weight</th>\n",
       "      <th>Item_Fat_Content</th>\n",
       "      <th>Item_Visibility</th>\n",
       "      <th>Item_Type</th>\n",
       "      <th>Item_MRP</th>\n",
       "      <th>Outlet_Establishment_Year</th>\n",
       "      <th>Outlet_Size</th>\n",
       "      <th>Outlet_Location_Type</th>\n",
       "      <th>Outlet_Type</th>\n",
       "      <th>Item_Outlet_Sales</th>\n",
       "    </tr>\n",
       "    <tr>\n",
       "      <th>Item_Identifier</th>\n",
       "      <th>Outlet_Identifier</th>\n",
       "      <th></th>\n",
       "      <th></th>\n",
       "      <th></th>\n",
       "      <th></th>\n",
       "      <th></th>\n",
       "      <th></th>\n",
       "      <th></th>\n",
       "      <th></th>\n",
       "      <th></th>\n",
       "      <th></th>\n",
       "    </tr>\n",
       "  </thead>\n",
       "  <tbody>\n",
       "    <tr>\n",
       "      <th rowspan=\"5\" valign=\"top\">DRA12</th>\n",
       "      <th>OUT010</th>\n",
       "      <td>11.60</td>\n",
       "      <td>Low Fat</td>\n",
       "      <td>0.068535</td>\n",
       "      <td>Soft Drinks</td>\n",
       "      <td>143.0154</td>\n",
       "      <td>1998</td>\n",
       "      <td>NaN</td>\n",
       "      <td>Tier 3</td>\n",
       "      <td>Grocery Store</td>\n",
       "      <td>283.6308</td>\n",
       "    </tr>\n",
       "    <tr>\n",
       "      <th>OUT013</th>\n",
       "      <td>11.60</td>\n",
       "      <td>Low Fat</td>\n",
       "      <td>0.040912</td>\n",
       "      <td>Soft Drinks</td>\n",
       "      <td>142.3154</td>\n",
       "      <td>1987</td>\n",
       "      <td>High</td>\n",
       "      <td>Tier 3</td>\n",
       "      <td>Supermarket Type1</td>\n",
       "      <td>2552.6772</td>\n",
       "    </tr>\n",
       "    <tr>\n",
       "      <th>OUT017</th>\n",
       "      <td>11.60</td>\n",
       "      <td>Low Fat</td>\n",
       "      <td>0.041178</td>\n",
       "      <td>Soft Drinks</td>\n",
       "      <td>140.3154</td>\n",
       "      <td>2007</td>\n",
       "      <td>NaN</td>\n",
       "      <td>Tier 2</td>\n",
       "      <td>Supermarket Type1</td>\n",
       "      <td>2552.6772</td>\n",
       "    </tr>\n",
       "    <tr>\n",
       "      <th>OUT018</th>\n",
       "      <td>11.60</td>\n",
       "      <td>Low Fat</td>\n",
       "      <td>0.041113</td>\n",
       "      <td>Soft Drinks</td>\n",
       "      <td>142.0154</td>\n",
       "      <td>2009</td>\n",
       "      <td>Medium</td>\n",
       "      <td>Tier 3</td>\n",
       "      <td>Supermarket Type2</td>\n",
       "      <td>850.8924</td>\n",
       "    </tr>\n",
       "    <tr>\n",
       "      <th>OUT035</th>\n",
       "      <td>11.60</td>\n",
       "      <td>LF</td>\n",
       "      <td>0.000000</td>\n",
       "      <td>Soft Drinks</td>\n",
       "      <td>141.9154</td>\n",
       "      <td>2004</td>\n",
       "      <td>Small</td>\n",
       "      <td>Tier 2</td>\n",
       "      <td>Supermarket Type1</td>\n",
       "      <td>992.7078</td>\n",
       "    </tr>\n",
       "    <tr>\n",
       "      <th>...</th>\n",
       "      <th>...</th>\n",
       "      <td>...</td>\n",
       "      <td>...</td>\n",
       "      <td>...</td>\n",
       "      <td>...</td>\n",
       "      <td>...</td>\n",
       "      <td>...</td>\n",
       "      <td>...</td>\n",
       "      <td>...</td>\n",
       "      <td>...</td>\n",
       "      <td>...</td>\n",
       "    </tr>\n",
       "    <tr>\n",
       "      <th rowspan=\"5\" valign=\"top\">NCZ54</th>\n",
       "      <th>OUT019</th>\n",
       "      <td>NaN</td>\n",
       "      <td>Low Fat</td>\n",
       "      <td>0.145952</td>\n",
       "      <td>Household</td>\n",
       "      <td>160.9552</td>\n",
       "      <td>1985</td>\n",
       "      <td>Small</td>\n",
       "      <td>Tier 1</td>\n",
       "      <td>Grocery Store</td>\n",
       "      <td>162.4552</td>\n",
       "    </tr>\n",
       "    <tr>\n",
       "      <th>OUT027</th>\n",
       "      <td>NaN</td>\n",
       "      <td>Low Fat</td>\n",
       "      <td>0.082956</td>\n",
       "      <td>Household</td>\n",
       "      <td>164.0552</td>\n",
       "      <td>1985</td>\n",
       "      <td>Medium</td>\n",
       "      <td>Tier 3</td>\n",
       "      <td>Supermarket Type3</td>\n",
       "      <td>5523.4768</td>\n",
       "    </tr>\n",
       "    <tr>\n",
       "      <th>OUT045</th>\n",
       "      <td>14.65</td>\n",
       "      <td>Low Fat</td>\n",
       "      <td>0.083528</td>\n",
       "      <td>Household</td>\n",
       "      <td>162.4552</td>\n",
       "      <td>2002</td>\n",
       "      <td>NaN</td>\n",
       "      <td>Tier 2</td>\n",
       "      <td>Supermarket Type1</td>\n",
       "      <td>2274.3728</td>\n",
       "    </tr>\n",
       "    <tr>\n",
       "      <th>OUT046</th>\n",
       "      <td>14.65</td>\n",
       "      <td>Low Fat</td>\n",
       "      <td>0.083359</td>\n",
       "      <td>Household</td>\n",
       "      <td>161.9552</td>\n",
       "      <td>1997</td>\n",
       "      <td>Small</td>\n",
       "      <td>Tier 1</td>\n",
       "      <td>Supermarket Type1</td>\n",
       "      <td>4711.2008</td>\n",
       "    </tr>\n",
       "    <tr>\n",
       "      <th>OUT049</th>\n",
       "      <td>14.65</td>\n",
       "      <td>Low Fat</td>\n",
       "      <td>0.083489</td>\n",
       "      <td>Household</td>\n",
       "      <td>161.3552</td>\n",
       "      <td>1999</td>\n",
       "      <td>Medium</td>\n",
       "      <td>Tier 1</td>\n",
       "      <td>Supermarket Type1</td>\n",
       "      <td>7148.0288</td>\n",
       "    </tr>\n",
       "  </tbody>\n",
       "</table>\n",
       "<p>6818 rows × 10 columns</p>\n",
       "</div>"
      ],
      "text/plain": [
       "                                   Item_Weight Item_Fat_Content  \\\n",
       "Item_Identifier Outlet_Identifier                                 \n",
       "DRA12           OUT010                   11.60          Low Fat   \n",
       "                OUT013                   11.60          Low Fat   \n",
       "                OUT017                   11.60          Low Fat   \n",
       "                OUT018                   11.60          Low Fat   \n",
       "                OUT035                   11.60               LF   \n",
       "...                                        ...              ...   \n",
       "NCZ54           OUT019                     NaN          Low Fat   \n",
       "                OUT027                     NaN          Low Fat   \n",
       "                OUT045                   14.65          Low Fat   \n",
       "                OUT046                   14.65          Low Fat   \n",
       "                OUT049                   14.65          Low Fat   \n",
       "\n",
       "                                   Item_Visibility    Item_Type  Item_MRP  \\\n",
       "Item_Identifier Outlet_Identifier                                           \n",
       "DRA12           OUT010                    0.068535  Soft Drinks  143.0154   \n",
       "                OUT013                    0.040912  Soft Drinks  142.3154   \n",
       "                OUT017                    0.041178  Soft Drinks  140.3154   \n",
       "                OUT018                    0.041113  Soft Drinks  142.0154   \n",
       "                OUT035                    0.000000  Soft Drinks  141.9154   \n",
       "...                                            ...          ...       ...   \n",
       "NCZ54           OUT019                    0.145952    Household  160.9552   \n",
       "                OUT027                    0.082956    Household  164.0552   \n",
       "                OUT045                    0.083528    Household  162.4552   \n",
       "                OUT046                    0.083359    Household  161.9552   \n",
       "                OUT049                    0.083489    Household  161.3552   \n",
       "\n",
       "                                   Outlet_Establishment_Year Outlet_Size  \\\n",
       "Item_Identifier Outlet_Identifier                                          \n",
       "DRA12           OUT010                                  1998         NaN   \n",
       "                OUT013                                  1987        High   \n",
       "                OUT017                                  2007         NaN   \n",
       "                OUT018                                  2009      Medium   \n",
       "                OUT035                                  2004       Small   \n",
       "...                                                      ...         ...   \n",
       "NCZ54           OUT019                                  1985       Small   \n",
       "                OUT027                                  1985      Medium   \n",
       "                OUT045                                  2002         NaN   \n",
       "                OUT046                                  1997       Small   \n",
       "                OUT049                                  1999      Medium   \n",
       "\n",
       "                                  Outlet_Location_Type        Outlet_Type  \\\n",
       "Item_Identifier Outlet_Identifier                                           \n",
       "DRA12           OUT010                          Tier 3      Grocery Store   \n",
       "                OUT013                          Tier 3  Supermarket Type1   \n",
       "                OUT017                          Tier 2  Supermarket Type1   \n",
       "                OUT018                          Tier 3  Supermarket Type2   \n",
       "                OUT035                          Tier 2  Supermarket Type1   \n",
       "...                                                ...                ...   \n",
       "NCZ54           OUT019                          Tier 1      Grocery Store   \n",
       "                OUT027                          Tier 3  Supermarket Type3   \n",
       "                OUT045                          Tier 2  Supermarket Type1   \n",
       "                OUT046                          Tier 1  Supermarket Type1   \n",
       "                OUT049                          Tier 1  Supermarket Type1   \n",
       "\n",
       "                                   Item_Outlet_Sales  \n",
       "Item_Identifier Outlet_Identifier                     \n",
       "DRA12           OUT010                      283.6308  \n",
       "                OUT013                     2552.6772  \n",
       "                OUT017                     2552.6772  \n",
       "                OUT018                      850.8924  \n",
       "                OUT035                      992.7078  \n",
       "...                                              ...  \n",
       "NCZ54           OUT019                      162.4552  \n",
       "                OUT027                     5523.4768  \n",
       "                OUT045                     2274.3728  \n",
       "                OUT046                     4711.2008  \n",
       "                OUT049                     7148.0288  \n",
       "\n",
       "[6818 rows x 10 columns]"
      ]
     },
     "execution_count": 5,
     "metadata": {},
     "output_type": "execute_result"
    }
   ],
   "source": [
    "df_train.groupby(['Item_Identifier', 'Outlet_Identifier']).agg(pd.Series.max)"
   ]
  },
  {
   "cell_type": "markdown",
   "id": "afeba45b",
   "metadata": {},
   "source": [
    "**consider the following Notes:**\n",
    "\n",
    "[Item_Weight, Item_Fat_Content, Item_Type] depend on **Item_Identifier** only\n",
    "\n",
    "[Item_Visibility] depend on **both** Item_Identifier and Outlet_Identifier\n",
    "\n",
    "[Item_MRP] the **range** of it depend on Item_Identifier but it **changes slightly** according to Outlet_Identifier"
   ]
  },
  {
   "cell_type": "code",
   "execution_count": 6,
   "id": "67213e4c",
   "metadata": {},
   "outputs": [
    {
     "data": {
      "text/html": [
       "<div>\n",
       "<style scoped>\n",
       "    .dataframe tbody tr th:only-of-type {\n",
       "        vertical-align: middle;\n",
       "    }\n",
       "\n",
       "    .dataframe tbody tr th {\n",
       "        vertical-align: top;\n",
       "    }\n",
       "\n",
       "    .dataframe thead th {\n",
       "        text-align: right;\n",
       "    }\n",
       "</style>\n",
       "<table border=\"1\" class=\"dataframe\">\n",
       "  <thead>\n",
       "    <tr style=\"text-align: right;\">\n",
       "      <th></th>\n",
       "      <th></th>\n",
       "      <th>Item_Weight</th>\n",
       "      <th>Item_Fat_Content</th>\n",
       "      <th>Item_Visibility</th>\n",
       "      <th>Item_Type</th>\n",
       "      <th>Item_MRP</th>\n",
       "      <th>Outlet_Establishment_Year</th>\n",
       "      <th>Outlet_Size</th>\n",
       "      <th>Outlet_Location_Type</th>\n",
       "      <th>Outlet_Type</th>\n",
       "      <th>Item_Outlet_Sales</th>\n",
       "    </tr>\n",
       "    <tr>\n",
       "      <th>Outlet_Identifier</th>\n",
       "      <th>Item_Identifier</th>\n",
       "      <th></th>\n",
       "      <th></th>\n",
       "      <th></th>\n",
       "      <th></th>\n",
       "      <th></th>\n",
       "      <th></th>\n",
       "      <th></th>\n",
       "      <th></th>\n",
       "      <th></th>\n",
       "      <th></th>\n",
       "    </tr>\n",
       "  </thead>\n",
       "  <tbody>\n",
       "    <tr>\n",
       "      <th rowspan=\"5\" valign=\"top\">OUT010</th>\n",
       "      <th>DRA12</th>\n",
       "      <td>11.600</td>\n",
       "      <td>Low Fat</td>\n",
       "      <td>0.068535</td>\n",
       "      <td>Soft Drinks</td>\n",
       "      <td>143.0154</td>\n",
       "      <td>1998</td>\n",
       "      <td>NaN</td>\n",
       "      <td>Tier 3</td>\n",
       "      <td>Grocery Store</td>\n",
       "      <td>283.6308</td>\n",
       "    </tr>\n",
       "    <tr>\n",
       "      <th>DRA24</th>\n",
       "      <td>19.350</td>\n",
       "      <td>Regular</td>\n",
       "      <td>0.066832</td>\n",
       "      <td>Soft Drinks</td>\n",
       "      <td>163.8868</td>\n",
       "      <td>1998</td>\n",
       "      <td>NaN</td>\n",
       "      <td>Tier 3</td>\n",
       "      <td>Grocery Store</td>\n",
       "      <td>327.5736</td>\n",
       "    </tr>\n",
       "    <tr>\n",
       "      <th>DRA59</th>\n",
       "      <td>8.270</td>\n",
       "      <td>Regular</td>\n",
       "      <td>0.214125</td>\n",
       "      <td>Soft Drinks</td>\n",
       "      <td>183.9924</td>\n",
       "      <td>1998</td>\n",
       "      <td>NaN</td>\n",
       "      <td>Tier 3</td>\n",
       "      <td>Grocery Store</td>\n",
       "      <td>185.0924</td>\n",
       "    </tr>\n",
       "    <tr>\n",
       "      <th>DRB13</th>\n",
       "      <td>6.115</td>\n",
       "      <td>Regular</td>\n",
       "      <td>0.011791</td>\n",
       "      <td>Soft Drinks</td>\n",
       "      <td>189.0530</td>\n",
       "      <td>1998</td>\n",
       "      <td>NaN</td>\n",
       "      <td>Tier 3</td>\n",
       "      <td>Grocery Store</td>\n",
       "      <td>948.7650</td>\n",
       "    </tr>\n",
       "    <tr>\n",
       "      <th>DRB25</th>\n",
       "      <td>12.300</td>\n",
       "      <td>Low Fat</td>\n",
       "      <td>0.116261</td>\n",
       "      <td>Soft Drinks</td>\n",
       "      <td>107.0938</td>\n",
       "      <td>1998</td>\n",
       "      <td>NaN</td>\n",
       "      <td>Tier 3</td>\n",
       "      <td>Grocery Store</td>\n",
       "      <td>214.3876</td>\n",
       "    </tr>\n",
       "    <tr>\n",
       "      <th>...</th>\n",
       "      <th>...</th>\n",
       "      <td>...</td>\n",
       "      <td>...</td>\n",
       "      <td>...</td>\n",
       "      <td>...</td>\n",
       "      <td>...</td>\n",
       "      <td>...</td>\n",
       "      <td>...</td>\n",
       "      <td>...</td>\n",
       "      <td>...</td>\n",
       "      <td>...</td>\n",
       "    </tr>\n",
       "    <tr>\n",
       "      <th rowspan=\"5\" valign=\"top\">OUT049</th>\n",
       "      <th>NCY42</th>\n",
       "      <td>6.380</td>\n",
       "      <td>Low Fat</td>\n",
       "      <td>0.015186</td>\n",
       "      <td>Household</td>\n",
       "      <td>144.9470</td>\n",
       "      <td>1999</td>\n",
       "      <td>Medium</td>\n",
       "      <td>Tier 1</td>\n",
       "      <td>Supermarket Type1</td>\n",
       "      <td>3435.5280</td>\n",
       "    </tr>\n",
       "    <tr>\n",
       "      <th>NCY54</th>\n",
       "      <td>8.430</td>\n",
       "      <td>Low Fat</td>\n",
       "      <td>0.177971</td>\n",
       "      <td>Household</td>\n",
       "      <td>174.0422</td>\n",
       "      <td>1999</td>\n",
       "      <td>Medium</td>\n",
       "      <td>Tier 1</td>\n",
       "      <td>Supermarket Type1</td>\n",
       "      <td>2069.3064</td>\n",
       "    </tr>\n",
       "    <tr>\n",
       "      <th>NCZ30</th>\n",
       "      <td>6.590</td>\n",
       "      <td>Low Fat</td>\n",
       "      <td>0.026226</td>\n",
       "      <td>Household</td>\n",
       "      <td>119.0098</td>\n",
       "      <td>1999</td>\n",
       "      <td>Medium</td>\n",
       "      <td>Tier 1</td>\n",
       "      <td>Supermarket Type1</td>\n",
       "      <td>2530.7058</td>\n",
       "    </tr>\n",
       "    <tr>\n",
       "      <th>NCZ42</th>\n",
       "      <td>10.500</td>\n",
       "      <td>LF</td>\n",
       "      <td>0.011305</td>\n",
       "      <td>Household</td>\n",
       "      <td>235.5248</td>\n",
       "      <td>1999</td>\n",
       "      <td>Medium</td>\n",
       "      <td>Tier 1</td>\n",
       "      <td>Supermarket Type1</td>\n",
       "      <td>4740.4960</td>\n",
       "    </tr>\n",
       "    <tr>\n",
       "      <th>NCZ54</th>\n",
       "      <td>14.650</td>\n",
       "      <td>Low Fat</td>\n",
       "      <td>0.083489</td>\n",
       "      <td>Household</td>\n",
       "      <td>161.3552</td>\n",
       "      <td>1999</td>\n",
       "      <td>Medium</td>\n",
       "      <td>Tier 1</td>\n",
       "      <td>Supermarket Type1</td>\n",
       "      <td>7148.0288</td>\n",
       "    </tr>\n",
       "  </tbody>\n",
       "</table>\n",
       "<p>6818 rows × 10 columns</p>\n",
       "</div>"
      ],
      "text/plain": [
       "                                   Item_Weight Item_Fat_Content  \\\n",
       "Outlet_Identifier Item_Identifier                                 \n",
       "OUT010            DRA12                 11.600          Low Fat   \n",
       "                  DRA24                 19.350          Regular   \n",
       "                  DRA59                  8.270          Regular   \n",
       "                  DRB13                  6.115          Regular   \n",
       "                  DRB25                 12.300          Low Fat   \n",
       "...                                        ...              ...   \n",
       "OUT049            NCY42                  6.380          Low Fat   \n",
       "                  NCY54                  8.430          Low Fat   \n",
       "                  NCZ30                  6.590          Low Fat   \n",
       "                  NCZ42                 10.500               LF   \n",
       "                  NCZ54                 14.650          Low Fat   \n",
       "\n",
       "                                   Item_Visibility    Item_Type  Item_MRP  \\\n",
       "Outlet_Identifier Item_Identifier                                           \n",
       "OUT010            DRA12                   0.068535  Soft Drinks  143.0154   \n",
       "                  DRA24                   0.066832  Soft Drinks  163.8868   \n",
       "                  DRA59                   0.214125  Soft Drinks  183.9924   \n",
       "                  DRB13                   0.011791  Soft Drinks  189.0530   \n",
       "                  DRB25                   0.116261  Soft Drinks  107.0938   \n",
       "...                                            ...          ...       ...   \n",
       "OUT049            NCY42                   0.015186    Household  144.9470   \n",
       "                  NCY54                   0.177971    Household  174.0422   \n",
       "                  NCZ30                   0.026226    Household  119.0098   \n",
       "                  NCZ42                   0.011305    Household  235.5248   \n",
       "                  NCZ54                   0.083489    Household  161.3552   \n",
       "\n",
       "                                   Outlet_Establishment_Year Outlet_Size  \\\n",
       "Outlet_Identifier Item_Identifier                                          \n",
       "OUT010            DRA12                                 1998         NaN   \n",
       "                  DRA24                                 1998         NaN   \n",
       "                  DRA59                                 1998         NaN   \n",
       "                  DRB13                                 1998         NaN   \n",
       "                  DRB25                                 1998         NaN   \n",
       "...                                                      ...         ...   \n",
       "OUT049            NCY42                                 1999      Medium   \n",
       "                  NCY54                                 1999      Medium   \n",
       "                  NCZ30                                 1999      Medium   \n",
       "                  NCZ42                                 1999      Medium   \n",
       "                  NCZ54                                 1999      Medium   \n",
       "\n",
       "                                  Outlet_Location_Type        Outlet_Type  \\\n",
       "Outlet_Identifier Item_Identifier                                           \n",
       "OUT010            DRA12                         Tier 3      Grocery Store   \n",
       "                  DRA24                         Tier 3      Grocery Store   \n",
       "                  DRA59                         Tier 3      Grocery Store   \n",
       "                  DRB13                         Tier 3      Grocery Store   \n",
       "                  DRB25                         Tier 3      Grocery Store   \n",
       "...                                                ...                ...   \n",
       "OUT049            NCY42                         Tier 1  Supermarket Type1   \n",
       "                  NCY54                         Tier 1  Supermarket Type1   \n",
       "                  NCZ30                         Tier 1  Supermarket Type1   \n",
       "                  NCZ42                         Tier 1  Supermarket Type1   \n",
       "                  NCZ54                         Tier 1  Supermarket Type1   \n",
       "\n",
       "                                   Item_Outlet_Sales  \n",
       "Outlet_Identifier Item_Identifier                     \n",
       "OUT010            DRA12                     283.6308  \n",
       "                  DRA24                     327.5736  \n",
       "                  DRA59                     185.0924  \n",
       "                  DRB13                     948.7650  \n",
       "                  DRB25                     214.3876  \n",
       "...                                              ...  \n",
       "OUT049            NCY42                    3435.5280  \n",
       "                  NCY54                    2069.3064  \n",
       "                  NCZ30                    2530.7058  \n",
       "                  NCZ42                    4740.4960  \n",
       "                  NCZ54                    7148.0288  \n",
       "\n",
       "[6818 rows x 10 columns]"
      ]
     },
     "execution_count": 6,
     "metadata": {},
     "output_type": "execute_result"
    }
   ],
   "source": [
    "df_train.groupby(['Outlet_Identifier', 'Item_Identifier']).agg(pd.Series.max)"
   ]
  },
  {
   "cell_type": "markdown",
   "id": "57942f4b",
   "metadata": {},
   "source": [
    "**consider the following Notes:**\n",
    "\n",
    "[Outlet_Establishment_Year,\tOutlet_Size\tOutlet_Location_Type, Outlet_Type] depend on **Outlet_Identifier** only\n",
    "\n",
    "[Item_Outlet_Sales] depend on **both** Item_Identifier and Outlet_Identifier"
   ]
  },
  {
   "cell_type": "code",
   "execution_count": 7,
   "id": "bc455996",
   "metadata": {},
   "outputs": [
    {
     "name": "stdout",
     "output_type": "stream",
     "text": [
      "Number of unique elements for every object columns:\n",
      "Item_Identifier: 1554\n",
      "Unique Values: ['FDA15' 'DRC01' 'FDN15' ... 'FDW58' 'FDG40' 'FDM38']\n",
      "==========\n",
      "Item_Fat_Content: 5\n",
      "Unique Values: ['Low Fat' 'Regular' 'low fat' 'LF' 'reg']\n",
      "==========\n",
      "Item_Type: 16\n",
      "Unique Values: ['Dairy' 'Soft Drinks' 'Meat' 'Fruits and Vegetables' 'Household'\n",
      " 'Baking Goods' 'Snack Foods' 'Frozen Foods' 'Breakfast'\n",
      " 'Health and Hygiene' 'Hard Drinks' 'Canned' 'Breads' 'Starchy Foods'\n",
      " 'Others' 'Seafood']\n",
      "==========\n",
      "Outlet_Identifier: 10\n",
      "Unique Values: ['OUT049' 'OUT018' 'OUT010' 'OUT013' 'OUT027' 'OUT045' 'OUT017' 'OUT046'\n",
      " 'OUT035' 'OUT019']\n",
      "==========\n",
      "Outlet_Size: 4\n",
      "Unique Values: ['Medium' nan 'High' 'Small']\n",
      "==========\n",
      "Outlet_Location_Type: 3\n",
      "Unique Values: ['Tier 1' 'Tier 3' 'Tier 2']\n",
      "==========\n",
      "Outlet_Type: 4\n",
      "Unique Values: ['Supermarket Type1' 'Supermarket Type2' 'Grocery Store'\n",
      " 'Supermarket Type3']\n",
      "==========\n"
     ]
    }
   ],
   "source": [
    "print(\"Number of unique elements for every object columns:\")\n",
    "for column in df_train.select_dtypes(include='object').columns:\n",
    "    print(f\"{column}: {len(df_train[column].unique())}\")\n",
    "    print(f\"Unique Values: {df_train[column].unique()}\")\n",
    "    print(\"==========\")"
   ]
  },
  {
   "cell_type": "markdown",
   "id": "6cf3b8f7",
   "metadata": {},
   "source": [
    "**consider the following Notes:**\n",
    "\n",
    "**Item_Identifier:** Actually we don't need it in modelling but we realy need it during preprocessing so we don't need to encode it now\n",
    "\n",
    "**Item_Fat_Content:** can be encoded by ordinal encoding methode\n",
    "\n",
    "**Item_Type:** can be encoded by target encoding methode\n",
    "\n",
    "**Outlet_Identifier:** Actually we don't need it in modelling but we realy need it during preprocessing so we don't need to encode it now\n",
    "\n",
    "**Outlet_Size:** can be encoded by ordinal encoding methode\n",
    "\n",
    "**Outlet_Location_Type:** can be encoded by ordinal encoding methode\n",
    "\n",
    "**Outlet_Type:** can be encoded by target encoding methode"
   ]
  },
  {
   "cell_type": "markdown",
   "id": "4d6deaf8",
   "metadata": {},
   "source": [
    "Let's start by **ordinal encoding** on **Item_Fat_Content**,   **Outlet_Size** and **Outlet_Location_Type**"
   ]
  },
  {
   "cell_type": "code",
   "execution_count": 8,
   "id": "f32d4920",
   "metadata": {
    "scrolled": true
   },
   "outputs": [],
   "source": [
    "def str2int_fat(x, default=None):\n",
    "    str2int_dict = {'low fat':1, 'low_fat':1, 'lf':1, 'regular':2, 'reg':2}\n",
    "    return str2int_dict.get(x.lower(), default)\n",
    "\n",
    "df_train.Item_Fat_Content = df_train.Item_Fat_Content.map(lambda x:str2int_fat(x, None), na_action='ignore')"
   ]
  },
  {
   "cell_type": "code",
   "execution_count": 9,
   "id": "2a007c4b",
   "metadata": {},
   "outputs": [],
   "source": [
    "def str2int_size(x, default=None):\n",
    "    str2int_dict = {'small':0, 's':0, 'medium':1, 'm':1, 'high':2, 'h':2}\n",
    "    return str2int_dict.get(x.lower(), default)\n",
    "\n",
    "df_train.Outlet_Size = df_train.Outlet_Size.map(lambda x:str2int_size(x, None), na_action='ignore')"
   ]
  },
  {
   "cell_type": "code",
   "execution_count": 10,
   "id": "46164200",
   "metadata": {},
   "outputs": [],
   "source": [
    "def str2int_location(x, default=None):\n",
    "    str2int_dict = {'tier 1':1, 'tier_1':1, 't1':1, 'tier 2':2, 'tier_2':2, 't2':2, 'tier 3':3, 'tier_3':3, 't3':3}\n",
    "    return str2int_dict.get(x.lower(), default)\n",
    "\n",
    "df_train.Outlet_Location_Type = df_train.Outlet_Location_Type.map(lambda x:str2int_location(x, None), na_action='ignore')"
   ]
  },
  {
   "cell_type": "code",
   "execution_count": 11,
   "id": "86baff20",
   "metadata": {
    "scrolled": true
   },
   "outputs": [
    {
     "name": "stdout",
     "output_type": "stream",
     "text": [
      "Number of unique elements for every labeled columns:\n",
      "Unique Values: [1 2]\n",
      "==========\n",
      "Unique Values: [ 1. nan  2.  0.]\n",
      "==========\n",
      "Unique Values: [1 3 2]\n",
      "==========\n"
     ]
    }
   ],
   "source": [
    "print(\"Number of unique elements for every labeled columns:\")\n",
    "for column in ['Item_Fat_Content', 'Outlet_Size', 'Outlet_Location_Type']:\n",
    "    print(f\"Unique Values: {df_train[column].unique()}\")\n",
    "    print(\"==========\")"
   ]
  },
  {
   "cell_type": "markdown",
   "id": "5084de64",
   "metadata": {},
   "source": [
    "OK, we have done this step successfully"
   ]
  },
  {
   "cell_type": "markdown",
   "id": "27a19c47",
   "metadata": {},
   "source": [
    "Let's Move to missing values treatment step"
   ]
  },
  {
   "cell_type": "code",
   "execution_count": 12,
   "id": "cd22ff44",
   "metadata": {},
   "outputs": [
    {
     "data": {
      "text/plain": [
       "Item_Identifier                 0\n",
       "Item_Weight                  1159\n",
       "Item_Fat_Content                0\n",
       "Item_Visibility                 0\n",
       "Item_Type                       0\n",
       "Item_MRP                        0\n",
       "Outlet_Identifier               0\n",
       "Outlet_Establishment_Year       0\n",
       "Outlet_Size                  1911\n",
       "Outlet_Location_Type            0\n",
       "Outlet_Type                     0\n",
       "Item_Outlet_Sales               0\n",
       "dtype: int64"
      ]
     },
     "execution_count": 12,
     "metadata": {},
     "output_type": "execute_result"
    }
   ],
   "source": [
    "df_train.isnull().sum()"
   ]
  },
  {
   "cell_type": "markdown",
   "id": "862f1878",
   "metadata": {},
   "source": [
    "**consider the following notes:**\n",
    "\n",
    "There is 1159 cell is null for the item_weight column\n",
    "\n",
    "Item_Weight doesn't change for the same product because it depends on product identifier not outlet identifier\n",
    "\n",
    "Then we can fill item_weight Nans by the weight that this Item_Identifier has in another row (another outlet)"
   ]
  },
  {
   "cell_type": "code",
   "execution_count": 13,
   "id": "11982e8d",
   "metadata": {},
   "outputs": [
    {
     "name": "stdout",
     "output_type": "stream",
     "text": [
      "Note there is 7 products we don't know its weight\n"
     ]
    }
   ],
   "source": [
    "n_NA_Weight_Products = df_train.groupby(['Item_Identifier'])['Item_Weight'].agg(pd.Series.median).isnull().sum()\n",
    "print(f\"Note there is {n_NA_Weight_Products} products we don't know its weight\")"
   ]
  },
  {
   "cell_type": "code",
   "execution_count": 14,
   "id": "fc3fccd9",
   "metadata": {},
   "outputs": [
    {
     "name": "stdout",
     "output_type": "stream",
     "text": [
      "Products that we don't know its weight\n",
      "DRH11 :  1\n",
      "FDE52 :  1\n",
      "FDK57 :  1\n",
      "FDM27 :  2\n",
      "FDP15 :  1\n",
      "FDQ04 :  1\n",
      "FDQ60 :  1\n"
     ]
    }
   ],
   "source": [
    "NA_Weight_Products = df_train.groupby(['Item_Identifier'])['Item_Weight'].agg(pd.Series.median).isnull()\n",
    "print(\"Products that we don't know its weight\")\n",
    "for Item_Identifier in NA_Weight_Products[NA_Weight_Products].index:\n",
    "    print(Item_Identifier, \": \",df_train.query(f\"Item_Identifier == '{Item_Identifier}'\").shape[0])"
   ]
  },
  {
   "cell_type": "markdown",
   "id": "910ac454",
   "metadata": {},
   "source": [
    "There is only one sample for each of these products"
   ]
  },
  {
   "cell_type": "code",
   "execution_count": 15,
   "id": "d7f721da",
   "metadata": {},
   "outputs": [],
   "source": [
    "Item_Weight = df_train.groupby(['Item_Identifier'])['Item_Weight'].agg(pd.Series.median)\n",
    "def fillna_weight(row, default=100):\n",
    "    row['Item_Weight'] = Item_Weight.get(row['Item_Identifier'], default)\n",
    "    return row\n",
    "df_train = df_train.apply(fillna_weight, axis=1)"
   ]
  },
  {
   "cell_type": "markdown",
   "id": "a7ee0f6b",
   "metadata": {},
   "source": [
    "Repeat the same methodolgy for outlet_size "
   ]
  },
  {
   "cell_type": "code",
   "execution_count": 16,
   "id": "335ec219",
   "metadata": {},
   "outputs": [
    {
     "name": "stdout",
     "output_type": "stream",
     "text": [
      "Note there is 3 outlets we don't know its size\n"
     ]
    }
   ],
   "source": [
    "n_NA_Size_Outlets = df_train.groupby(['Outlet_Identifier'])['Outlet_Size'].median().isnull().sum()\n",
    "print(f\"Note there is {n_NA_Size_Outlets} outlets we don't know its size\")"
   ]
  },
  {
   "cell_type": "code",
   "execution_count": 17,
   "id": "4ccc29a8",
   "metadata": {},
   "outputs": [
    {
     "name": "stdout",
     "output_type": "stream",
     "text": [
      "Products that we don't know its weight\n",
      "OUT010 :  428\n",
      "OUT017 :  732\n",
      "OUT045 :  751\n"
     ]
    }
   ],
   "source": [
    "NA_Size_Outlets = df_train.groupby(['Outlet_Identifier'])['Outlet_Size'].median().isnull()\n",
    "print(\"Products that we don't know its weight\")\n",
    "for Outlet_Identifier in NA_Size_Outlets[NA_Size_Outlets].index:\n",
    "    print(Outlet_Identifier, \": \",df_train.query(f\"Outlet_Identifier == '{Outlet_Identifier}'\").shape[0])"
   ]
  },
  {
   "cell_type": "code",
   "execution_count": 18,
   "id": "6d45d55d",
   "metadata": {},
   "outputs": [
    {
     "data": {
      "text/plain": [
       "True"
      ]
     },
     "execution_count": 18,
     "metadata": {},
     "output_type": "execute_result"
    }
   ],
   "source": [
    "df_train.Outlet_Size.isnull().sum() == (428 + 732 + 751)"
   ]
  },
  {
   "cell_type": "markdown",
   "id": "8bed217b",
   "metadata": {},
   "source": [
    "Unfortunately, the Nan value here is because it doesn't exist but for item_wieght it was because it doesn't recorded\n",
    "\n",
    "So we can't apply the same methodolgy and we have to approximate it late"
   ]
  },
  {
   "cell_type": "markdown",
   "id": "3b74cf24",
   "metadata": {},
   "source": [
    "Let's gain more info to write the more suitable function"
   ]
  },
  {
   "cell_type": "code",
   "execution_count": 19,
   "id": "6a01dbc0",
   "metadata": {},
   "outputs": [
    {
     "data": {
      "text/plain": [
       "array(['Grocery Store', 'Supermarket Type1'], dtype=object)"
      ]
     },
     "execution_count": 19,
     "metadata": {},
     "output_type": "execute_result"
    }
   ],
   "source": [
    "df_train[df_train.Outlet_Size.isnull()]['Outlet_Type'].unique()"
   ]
  },
  {
   "cell_type": "markdown",
   "id": "23d120dc",
   "metadata": {},
   "source": [
    "All the nulls are for 'Grocery Store' and 'Supermarket Type1'"
   ]
  },
  {
   "cell_type": "code",
   "execution_count": null,
   "id": "39d7f741",
   "metadata": {},
   "outputs": [],
   "source": []
  },
  {
   "cell_type": "code",
   "execution_count": 20,
   "id": "37d2e729",
   "metadata": {},
   "outputs": [
    {
     "data": {
      "image/png": "[encoded data removed]",
      "text/plain": [
       "<Figure size 432x288 with 1 Axes>"
      ]
     },
     "metadata": {
      "needs_background": "light"
     },
     "output_type": "display_data"
    }
   ],
   "source": [
    "sns.stripplot(data = df_train, x ='Outlet_Size', y='Outlet_Establishment_Year', hue='Outlet_Type');"
   ]
  },
  {
   "cell_type": "code",
   "execution_count": 21,
   "id": "d85fdca0",
   "metadata": {},
   "outputs": [
    {
     "data": {
      "text/plain": [
       "array([1998, 2002, 2007], dtype=int64)"
      ]
     },
     "execution_count": 21,
     "metadata": {},
     "output_type": "execute_result"
    }
   ],
   "source": [
    "df_train[df_train['Outlet_Size'].isnull()]['Outlet_Establishment_Year'].unique()"
   ]
  },
  {
   "cell_type": "code",
   "execution_count": 22,
   "id": "2c1e2c06",
   "metadata": {},
   "outputs": [
    {
     "data": {
      "text/plain": [
       "array(['Grocery Store'], dtype=object)"
      ]
     },
     "execution_count": 22,
     "metadata": {},
     "output_type": "execute_result"
    }
   ],
   "source": [
    "df_train.query(\"Outlet_Establishment_Year == 1998\").Outlet_Type.unique() # this will be filled by zero because all grocery stores that we have is small"
   ]
  },
  {
   "cell_type": "code",
   "execution_count": 23,
   "id": "8e29e66a",
   "metadata": {},
   "outputs": [
    {
     "data": {
      "text/plain": [
       "array(['Supermarket Type1'], dtype=object)"
      ]
     },
     "execution_count": 23,
     "metadata": {},
     "output_type": "execute_result"
    }
   ],
   "source": [
    "df_train.query(\"Outlet_Establishment_Year == 2002\").Outlet_Type.unique() # this will be filled by zero because all Supermarket Type1 that established after 2000 is small"
   ]
  },
  {
   "cell_type": "code",
   "execution_count": 24,
   "id": "7fec7e5e",
   "metadata": {},
   "outputs": [
    {
     "data": {
      "text/plain": [
       "array(['Supermarket Type1'], dtype=object)"
      ]
     },
     "execution_count": 24,
     "metadata": {},
     "output_type": "execute_result"
    }
   ],
   "source": [
    "df_train.query(\"Outlet_Establishment_Year == 2007\").Outlet_Type.unique() # this will be filled by zero because all Supermarket Type1 that established after 2000 is small"
   ]
  },
  {
   "cell_type": "markdown",
   "id": "3a8e41ed",
   "metadata": {},
   "source": [
    "The above lines of codes says that all null values for outlet_size is 0 but we have to write a general function acoording to the above plot"
   ]
  },
  {
   "cell_type": "code",
   "execution_count": 25,
   "id": "a08b0e6e",
   "metadata": {},
   "outputs": [],
   "source": [
    "def fillna_size(row, default=None):\n",
    "    \"\"\"\n",
    "    This is a general function that describe the above graph\n",
    "    We made it general to be suited for val data also\n",
    "    \"\"\"\n",
    "    if row['Outlet_Type'] == 'Supermarket Type1':\n",
    "        if row['Outlet_Establishment_Year'] > 2000: row['Outlet_Size'] = 0\n",
    "        elif row['Outlet_Establishment_Year'] > 1997.5: row['Outlet_Size'] = 1\n",
    "        elif row['Outlet_Establishment_Year'] > 1995: row['Outlet_Size'] = 0\n",
    "        else: row['Outlet_Size'] = 2\n",
    "    else:\n",
    "        d = {'Grocery Store':0, 'Supermarket Type2':1, 'Supermarket Type3':1}\n",
    "        row['Outlet_Size'] = d.get(row['Outlet_Type'], default)\n",
    "    \n",
    "    return row\n",
    "\n",
    "df_train = df_train.apply(lambda x: fillna_size(x, None), axis=1)"
   ]
  },
  {
   "cell_type": "markdown",
   "id": "69faadc1",
   "metadata": {},
   "source": [
    "Let's do some feature engineering to encode Item_type and Outlet_type"
   ]
  },
  {
   "cell_type": "code",
   "execution_count": 26,
   "id": "dadd0a58",
   "metadata": {},
   "outputs": [],
   "source": [
    "df_train_temp = df_train.copy()"
   ]
  },
  {
   "cell_type": "code",
   "execution_count": 27,
   "id": "b49f8590",
   "metadata": {
    "scrolled": false
   },
   "outputs": [],
   "source": [
    "temp = df_train_temp.groupby('Item_Type')[['Item_Weight','Item_Fat_Content']].mean()\n",
    "str2int_Item_Type = ((temp.iloc[:,0]**3) * (temp.iloc[:,1] ** 3)).sort_values().astype(int)\n",
    "df_train_temp.Item_Type = df_train_temp.Item_Type.map(str2int_Item_Type)"
   ]
  },
  {
   "cell_type": "code",
   "execution_count": 28,
   "id": "67026916",
   "metadata": {},
   "outputs": [],
   "source": [
    "scaler = StandardScaler()\n",
    "df_train_temp[['Outlet_Establishment_Year', 'Outlet_Size', 'Outlet_Location_Type']] = scaler.fit_transform(df_train_temp[['Outlet_Establishment_Year', 'Outlet_Size', 'Outlet_Location_Type']])\n",
    "str2int_Outelet_Type = df_train_temp.groupby('Outlet_Type')[['Outlet_Establishment_Year','Outlet_Size', 'Outlet_Location_Type']].mean().sum(axis=1)\n",
    "df_train_temp.Outlet_Type = df_train_temp.Outlet_Type.map(str2int_Outelet_Type)"
   ]
  },
  {
   "cell_type": "code",
   "execution_count": 29,
   "id": "25439104",
   "metadata": {},
   "outputs": [],
   "source": [
    "df_train[['Item_Type', 'Outlet_Type']] = df_train_temp[['Item_Type', 'Outlet_Type']]"
   ]
  },
  {
   "cell_type": "code",
   "execution_count": 30,
   "id": "99938ed1",
   "metadata": {},
   "outputs": [
    {
     "data": {
      "text/html": [
       "<div>\n",
       "<style scoped>\n",
       "    .dataframe tbody tr th:only-of-type {\n",
       "        vertical-align: middle;\n",
       "    }\n",
       "\n",
       "    .dataframe tbody tr th {\n",
       "        vertical-align: top;\n",
       "    }\n",
       "\n",
       "    .dataframe thead th {\n",
       "        text-align: right;\n",
       "    }\n",
       "</style>\n",
       "<table border=\"1\" class=\"dataframe\">\n",
       "  <thead>\n",
       "    <tr style=\"text-align: right;\">\n",
       "      <th></th>\n",
       "      <th>Item_Identifier</th>\n",
       "      <th>Item_Weight</th>\n",
       "      <th>Item_Fat_Content</th>\n",
       "      <th>Item_Visibility</th>\n",
       "      <th>Item_Type</th>\n",
       "      <th>Item_MRP</th>\n",
       "      <th>Outlet_Identifier</th>\n",
       "      <th>Outlet_Establishment_Year</th>\n",
       "      <th>Outlet_Size</th>\n",
       "      <th>Outlet_Location_Type</th>\n",
       "      <th>Outlet_Type</th>\n",
       "      <th>Item_Outlet_Sales</th>\n",
       "    </tr>\n",
       "  </thead>\n",
       "  <tbody>\n",
       "    <tr>\n",
       "      <th>0</th>\n",
       "      <td>FDA15</td>\n",
       "      <td>9.30</td>\n",
       "      <td>1</td>\n",
       "      <td>0.016047</td>\n",
       "      <td>6595</td>\n",
       "      <td>249.8092</td>\n",
       "      <td>OUT049</td>\n",
       "      <td>1999</td>\n",
       "      <td>1</td>\n",
       "      <td>1</td>\n",
       "      <td>-0.235608</td>\n",
       "      <td>3735.1380</td>\n",
       "    </tr>\n",
       "    <tr>\n",
       "      <th>1</th>\n",
       "      <td>DRC01</td>\n",
       "      <td>5.92</td>\n",
       "      <td>2</td>\n",
       "      <td>0.019278</td>\n",
       "      <td>2644</td>\n",
       "      <td>48.2692</td>\n",
       "      <td>OUT018</td>\n",
       "      <td>2009</td>\n",
       "      <td>1</td>\n",
       "      <td>3</td>\n",
       "      <td>3.067833</td>\n",
       "      <td>443.4228</td>\n",
       "    </tr>\n",
       "    <tr>\n",
       "      <th>2</th>\n",
       "      <td>FDN15</td>\n",
       "      <td>17.50</td>\n",
       "      <td>1</td>\n",
       "      <td>0.016760</td>\n",
       "      <td>8601</td>\n",
       "      <td>141.6180</td>\n",
       "      <td>OUT049</td>\n",
       "      <td>1999</td>\n",
       "      <td>1</td>\n",
       "      <td>1</td>\n",
       "      <td>-0.235608</td>\n",
       "      <td>2097.2700</td>\n",
       "    </tr>\n",
       "    <tr>\n",
       "      <th>3</th>\n",
       "      <td>FDX07</td>\n",
       "      <td>19.20</td>\n",
       "      <td>2</td>\n",
       "      <td>0.000000</td>\n",
       "      <td>7661</td>\n",
       "      <td>182.0950</td>\n",
       "      <td>OUT010</td>\n",
       "      <td>1998</td>\n",
       "      <td>0</td>\n",
       "      <td>3</td>\n",
       "      <td>-1.672425</td>\n",
       "      <td>732.3800</td>\n",
       "    </tr>\n",
       "    <tr>\n",
       "      <th>4</th>\n",
       "      <td>NCD19</td>\n",
       "      <td>8.93</td>\n",
       "      <td>1</td>\n",
       "      <td>0.000000</td>\n",
       "      <td>2486</td>\n",
       "      <td>53.8614</td>\n",
       "      <td>OUT013</td>\n",
       "      <td>1987</td>\n",
       "      <td>2</td>\n",
       "      <td>3</td>\n",
       "      <td>-0.235608</td>\n",
       "      <td>994.7052</td>\n",
       "    </tr>\n",
       "  </tbody>\n",
       "</table>\n",
       "</div>"
      ],
      "text/plain": [
       "  Item_Identifier  Item_Weight  Item_Fat_Content  Item_Visibility  Item_Type  \\\n",
       "0           FDA15         9.30                 1         0.016047       6595   \n",
       "1           DRC01         5.92                 2         0.019278       2644   \n",
       "2           FDN15        17.50                 1         0.016760       8601   \n",
       "3           FDX07        19.20                 2         0.000000       7661   \n",
       "4           NCD19         8.93                 1         0.000000       2486   \n",
       "\n",
       "   Item_MRP Outlet_Identifier  Outlet_Establishment_Year  Outlet_Size  \\\n",
       "0  249.8092            OUT049                       1999            1   \n",
       "1   48.2692            OUT018                       2009            1   \n",
       "2  141.6180            OUT049                       1999            1   \n",
       "3  182.0950            OUT010                       1998            0   \n",
       "4   53.8614            OUT013                       1987            2   \n",
       "\n",
       "   Outlet_Location_Type  Outlet_Type  Item_Outlet_Sales  \n",
       "0                     1    -0.235608          3735.1380  \n",
       "1                     3     3.067833           443.4228  \n",
       "2                     1    -0.235608          2097.2700  \n",
       "3                     3    -1.672425           732.3800  \n",
       "4                     3    -0.235608           994.7052  "
      ]
     },
     "execution_count": 30,
     "metadata": {},
     "output_type": "execute_result"
    }
   ],
   "source": [
    "df_train.head()"
   ]
  },
  {
   "cell_type": "markdown",
   "id": "dd7a711a",
   "metadata": {},
   "source": [
    "Last step is to encode ITem_Identifier and Outlet_Identifier"
   ]
  },
  {
   "cell_type": "markdown",
   "id": "1bf01a01",
   "metadata": {},
   "source": [
    "As we said that item identifier, Item weight, Item_Fat_Content and Item_Type aren't changed for the same product\n",
    "\n",
    "So If we tried to use them to encode the Item_Identifier it will be good thing\n",
    "\n",
    "But let's build our model on this data as it is without any changes"
   ]
  },
  {
   "cell_type": "code",
   "execution_count": 31,
   "id": "6718067f",
   "metadata": {},
   "outputs": [
    {
     "data": {
      "text/html": [
       "<div>\n",
       "<style scoped>\n",
       "    .dataframe tbody tr th:only-of-type {\n",
       "        vertical-align: middle;\n",
       "    }\n",
       "\n",
       "    .dataframe tbody tr th {\n",
       "        vertical-align: top;\n",
       "    }\n",
       "\n",
       "    .dataframe thead th {\n",
       "        text-align: right;\n",
       "    }\n",
       "</style>\n",
       "<table border=\"1\" class=\"dataframe\">\n",
       "  <thead>\n",
       "    <tr style=\"text-align: right;\">\n",
       "      <th></th>\n",
       "      <th>Item_Weight</th>\n",
       "      <th>Item_Fat_Content</th>\n",
       "      <th>Item_Type</th>\n",
       "    </tr>\n",
       "    <tr>\n",
       "      <th>Item_Identifier</th>\n",
       "      <th></th>\n",
       "      <th></th>\n",
       "      <th></th>\n",
       "    </tr>\n",
       "  </thead>\n",
       "  <tbody>\n",
       "    <tr>\n",
       "      <th>DRA12</th>\n",
       "      <td>11.600</td>\n",
       "      <td>1.0</td>\n",
       "      <td>2644.0</td>\n",
       "    </tr>\n",
       "    <tr>\n",
       "      <th>DRA24</th>\n",
       "      <td>19.350</td>\n",
       "      <td>2.0</td>\n",
       "      <td>2644.0</td>\n",
       "    </tr>\n",
       "    <tr>\n",
       "      <th>DRA59</th>\n",
       "      <td>8.270</td>\n",
       "      <td>2.0</td>\n",
       "      <td>2644.0</td>\n",
       "    </tr>\n",
       "    <tr>\n",
       "      <th>DRB01</th>\n",
       "      <td>7.390</td>\n",
       "      <td>1.0</td>\n",
       "      <td>2644.0</td>\n",
       "    </tr>\n",
       "    <tr>\n",
       "      <th>DRB13</th>\n",
       "      <td>6.115</td>\n",
       "      <td>2.0</td>\n",
       "      <td>2644.0</td>\n",
       "    </tr>\n",
       "    <tr>\n",
       "      <th>...</th>\n",
       "      <td>...</td>\n",
       "      <td>...</td>\n",
       "      <td>...</td>\n",
       "    </tr>\n",
       "    <tr>\n",
       "      <th>NCZ30</th>\n",
       "      <td>6.590</td>\n",
       "      <td>1.0</td>\n",
       "      <td>2486.0</td>\n",
       "    </tr>\n",
       "    <tr>\n",
       "      <th>NCZ41</th>\n",
       "      <td>19.850</td>\n",
       "      <td>1.0</td>\n",
       "      <td>2230.0</td>\n",
       "    </tr>\n",
       "    <tr>\n",
       "      <th>NCZ42</th>\n",
       "      <td>10.500</td>\n",
       "      <td>1.0</td>\n",
       "      <td>2486.0</td>\n",
       "    </tr>\n",
       "    <tr>\n",
       "      <th>NCZ53</th>\n",
       "      <td>9.600</td>\n",
       "      <td>1.0</td>\n",
       "      <td>2230.0</td>\n",
       "    </tr>\n",
       "    <tr>\n",
       "      <th>NCZ54</th>\n",
       "      <td>14.650</td>\n",
       "      <td>1.0</td>\n",
       "      <td>2486.0</td>\n",
       "    </tr>\n",
       "  </tbody>\n",
       "</table>\n",
       "<p>1554 rows × 3 columns</p>\n",
       "</div>"
      ],
      "text/plain": [
       "                 Item_Weight  Item_Fat_Content  Item_Type\n",
       "Item_Identifier                                          \n",
       "DRA12                 11.600               1.0     2644.0\n",
       "DRA24                 19.350               2.0     2644.0\n",
       "DRA59                  8.270               2.0     2644.0\n",
       "DRB01                  7.390               1.0     2644.0\n",
       "DRB13                  6.115               2.0     2644.0\n",
       "...                      ...               ...        ...\n",
       "NCZ30                  6.590               1.0     2486.0\n",
       "NCZ41                 19.850               1.0     2230.0\n",
       "NCZ42                 10.500               1.0     2486.0\n",
       "NCZ53                  9.600               1.0     2230.0\n",
       "NCZ54                 14.650               1.0     2486.0\n",
       "\n",
       "[1554 rows x 3 columns]"
      ]
     },
     "execution_count": 31,
     "metadata": {},
     "output_type": "execute_result"
    }
   ],
   "source": [
    "df_train.groupby('Item_Identifier').median()[['Item_Weight', 'Item_Fat_Content', 'Item_Type']]"
   ]
  },
  {
   "cell_type": "code",
   "execution_count": 32,
   "id": "719843d0",
   "metadata": {},
   "outputs": [],
   "source": [
    "df_train_temp = df_train.copy()"
   ]
  },
  {
   "cell_type": "code",
   "execution_count": 33,
   "id": "2c4f6db9",
   "metadata": {},
   "outputs": [],
   "source": [
    "from sklearn.preprocessing import MinMaxScaler\n",
    "scaler = MinMaxScaler()\n",
    "df_train_temp[['Item_Weight', 'Item_Fat_Content', 'Item_Type', 'Outlet_Establishment_Year', 'Outlet_Size', 'Outlet_Location_Type', 'Outlet_Type']] = scaler.fit_transform(df_train_temp[['Item_Weight', 'Item_Fat_Content', 'Item_Type', 'Outlet_Establishment_Year', 'Outlet_Size', 'Outlet_Location_Type', 'Outlet_Type']])"
   ]
  },
  {
   "cell_type": "code",
   "execution_count": 34,
   "id": "c158a02b",
   "metadata": {},
   "outputs": [],
   "source": [
    "handle_item = df_train_temp.groupby('Item_Identifier').median()[['Item_Weight', 'Item_Fat_Content', 'Item_Type']].sum(1)\n",
    "handle_outlet = df_train_temp.groupby('Outlet_Identifier').median()[['Outlet_Establishment_Year', 'Outlet_Size', 'Outlet_Location_Type', 'Outlet_Type']].sum(1)"
   ]
  },
  {
   "cell_type": "code",
   "execution_count": 35,
   "id": "498af554",
   "metadata": {},
   "outputs": [],
   "source": [
    "df_train.Item_Identifier = df_train.Item_Identifier.map(handle_item)\n",
    "df_train.Outlet_Identifier = df_train.Outlet_Identifier.map(handle_outlet)"
   ]
  },
  {
   "cell_type": "code",
   "execution_count": 36,
   "id": "a51828b1",
   "metadata": {},
   "outputs": [],
   "source": [
    "df_val.Item_Identifier = df_val.Item_Identifier.map(handle_item)\n",
    "df_val.Outlet_Identifier = df_val.Outlet_Identifier.map(handle_outlet)"
   ]
  },
  {
   "cell_type": "code",
   "execution_count": 37,
   "id": "2a6904c5",
   "metadata": {},
   "outputs": [],
   "source": [
    "X_train = df_train.drop(['Item_Weight', 'Item_Fat_Content', 'Item_Type', 'Outlet_Establishment_Year', 'Outlet_Size', 'Outlet_Location_Type', 'Outlet_Type', 'Item_Outlet_Sales'], axis=1)\n",
    "y_train = df_train['Item_Outlet_Sales']\n",
    "X_train.fillna(0, inplace=True)"
   ]
  },
  {
   "cell_type": "code",
   "execution_count": 38,
   "id": "2af15fa4",
   "metadata": {},
   "outputs": [],
   "source": [
    "X_val = df_val.drop(['Item_Weight', 'Item_Fat_Content', 'Item_Type', 'Outlet_Establishment_Year', 'Outlet_Size', 'Outlet_Location_Type', 'Outlet_Type', 'Item_Outlet_Sales'], axis=1)\n",
    "y_val = df_val['Item_Outlet_Sales']\n",
    "X_val.fillna(0, inplace=True)"
   ]
  },
  {
   "cell_type": "code",
   "execution_count": 39,
   "id": "c88e0116",
   "metadata": {},
   "outputs": [
    {
     "data": {
      "text/plain": [
       "RandomForestRegressor()"
      ]
     },
     "execution_count": 39,
     "metadata": {},
     "output_type": "execute_result"
    }
   ],
   "source": [
    "from sklearn.ensemble import RandomForestRegressor\n",
    "model = RandomForestRegressor()\n",
    "model.fit(X_train, y_train)"
   ]
  },
  {
   "cell_type": "code",
   "execution_count": 40,
   "id": "a76ff921",
   "metadata": {
    "scrolled": true
   },
   "outputs": [
    {
     "name": "stdout",
     "output_type": "stream",
     "text": [
      "0.9369972617948652\n",
      "0.5514273324031779\n"
     ]
    }
   ],
   "source": [
    "print(model.score(X_train, y_train))\n",
    "print(model.score(X_val, y_val))"
   ]
  },
  {
   "cell_type": "code",
   "execution_count": null,
   "id": "c37b5d06",
   "metadata": {},
   "outputs": [],
   "source": []
  },
  {
   "cell_type": "markdown",
   "id": "e49c5d9f",
   "metadata": {},
   "source": [
    "Finally we have cleaned numerical data Let's explore it"
   ]
  },
  {
   "cell_type": "markdown",
   "id": "64271b74",
   "metadata": {},
   "source": [
    "# Exploring Phase"
   ]
  },
  {
   "cell_type": "code",
   "execution_count": 41,
   "id": "4aa29593",
   "metadata": {},
   "outputs": [
    {
     "data": {
      "image/png": "[encoded data removed]",
      "text/plain": [
       "<Figure size 432x288 with 1 Axes>"
      ]
     },
     "metadata": {
      "needs_background": "light"
     },
     "output_type": "display_data"
    }
   ],
   "source": [
    "sns.histplot(df_train[\"Item_Outlet_Sales\"]);"
   ]
  },
  {
   "cell_type": "markdown",
   "id": "c0319bff",
   "metadata": {},
   "source": [
    "Target variable is not normalized"
   ]
  },
  {
   "cell_type": "code",
   "execution_count": 69,
   "id": "4435e45e",
   "metadata": {},
   "outputs": [
    {
     "name": "stdout",
     "output_type": "stream",
     "text": [
      "Most of products are sold in 4 outlets only\n"
     ]
    },
    {
     "data": {
      "image/png": "[encoded data removed]",
      "text/plain": [
       "<Figure size 1080x504 with 1 Axes>"
      ]
     },
     "metadata": {
      "needs_background": "light"
     },
     "output_type": "display_data"
    }
   ],
   "source": [
    "feq_t = df_train_notCleaned.Item_Identifier.value_counts()\n",
    "ax = sns.barplot(x = feq_t.index, y = feq_t)\n",
    "ax.figure.set_size_inches(15,7)\n",
    "ax.set_yticks(range(10))\n",
    "ax.grid(True, axis='y')\n",
    "print(f\"Most of products are sold in {feq_t.mode()[0]} outlets only\")"
   ]
  },
  {
   "cell_type": "code",
   "execution_count": 70,
   "id": "05d6a5bd",
   "metadata": {
    "scrolled": false
   },
   "outputs": [
    {
     "name": "stdout",
     "output_type": "stream",
     "text": [
      "Most of products are sold in 4 outlets only\n"
     ]
    },
    {
     "data": {
      "image/png": "[encoded data removed]",
      "text/plain": [
       "<Figure size 1080x504 with 1 Axes>"
      ]
     },
     "metadata": {
      "needs_background": "light"
     },
     "output_type": "display_data"
    }
   ],
   "source": [
    "feq_t = df_train_notCleaned.Item_Identifier.value_counts()\n",
    "ax = sns.histplot(feq_t)\n",
    "ax.figure.set_size_inches(15,7)\n",
    "ax.grid(True, axis='y')\n",
    "print(f\"Most of products are sold in {feq_t.mode()[0]} outlets only\")"
   ]
  },
  {
   "cell_type": "code",
   "execution_count": 71,
   "id": "2ff13044",
   "metadata": {},
   "outputs": [
    {
     "name": "stdout",
     "output_type": "stream",
     "text": [
      "2 of outlets buy about 400 products but the others buy around 750 products\n"
     ]
    },
    {
     "data": {
      "image/png": "[encoded data removed]",
      "text/plain": [
       "<Figure size 1080x504 with 1 Axes>"
      ]
     },
     "metadata": {
      "needs_background": "light"
     },
     "output_type": "display_data"
    }
   ],
   "source": [
    "feq_t = df_train_notCleaned.Outlet_Identifier.value_counts()\n",
    "ax = sns.barplot(x = feq_t.index, y = feq_t)\n",
    "ax.figure.set_size_inches(15,7)\n",
    "ax.set_ylabel(\"Number Of Products\")\n",
    "ax.set_xlabel(\"Outlets\")\n",
    "ax.grid(True, axis='y')\n",
    "print(f\"2 of outlets buy about 400 products but the others buy around 750 products\")"
   ]
  },
  {
   "cell_type": "markdown",
   "id": "f98d4ad5",
   "metadata": {},
   "source": [
    "The above figures tells us that the some features in the data is imbalanced and we have to rebalance it"
   ]
  },
  {
   "cell_type": "code",
   "execution_count": 45,
   "id": "b10b4b53",
   "metadata": {},
   "outputs": [
    {
     "data": {
      "image/png": "[encoded data removed]",
      "text/plain": [
       "<Figure size 432x288 with 1 Axes>"
      ]
     },
     "metadata": {
      "needs_background": "light"
     },
     "output_type": "display_data"
    }
   ],
   "source": [
    "sns.stripplot(data=df_train, x=\"Item_Fat_Content\", y=\"Item_Weight\");"
   ]
  },
  {
   "cell_type": "markdown",
   "id": "4123585b",
   "metadata": {},
   "source": [
    "Ok there is no relation between \"Item_Fat_Content\" and \"Item_Weight\""
   ]
  },
  {
   "cell_type": "code",
   "execution_count": 46,
   "id": "37024ca7",
   "metadata": {},
   "outputs": [
    {
     "data": {
      "image/png": "[encoded data removed]",
      "text/plain": [
       "<Figure size 432x288 with 1 Axes>"
      ]
     },
     "metadata": {
      "needs_background": "light"
     },
     "output_type": "display_data"
    }
   ],
   "source": [
    "sns.scatterplot(data=df_train, x=\"Item_Weight\", y=\"Item_MRP\", hue=\"Item_Fat_Content\", palette=['blue', 'green']);"
   ]
  },
  {
   "cell_type": "markdown",
   "id": "d2ce4b82",
   "metadata": {},
   "source": [
    "Ok there is no relation between \"Item_Fat_Content\", \"Item_Weight\" and \"Item_MRP\""
   ]
  },
  {
   "cell_type": "code",
   "execution_count": 47,
   "id": "e355e1a1",
   "metadata": {},
   "outputs": [
    {
     "data": {
      "image/png": "[encoded data removed]",
      "text/plain": [
       "<Figure size 432x288 with 1 Axes>"
      ]
     },
     "metadata": {
      "needs_background": "light"
     },
     "output_type": "display_data"
    }
   ],
   "source": [
    "sns.stripplot(data=df_train, x=\"Item_Type\", y=\"Item_Weight\", hue=\"Item_Fat_Content\");"
   ]
  },
  {
   "cell_type": "markdown",
   "id": "33e19b4d",
   "metadata": {},
   "source": [
    "It seems that some Item_Types is completely low fat and this fat content increases gradually"
   ]
  },
  {
   "cell_type": "code",
   "execution_count": null,
   "id": "1587aeac",
   "metadata": {},
   "outputs": [],
   "source": []
  },
  {
   "cell_type": "code",
   "execution_count": null,
   "id": "44d91269",
   "metadata": {},
   "outputs": [],
   "source": []
  },
  {
   "cell_type": "markdown",
   "id": "b248944e",
   "metadata": {},
   "source": [
    "# Moeling Phase"
   ]
  },
  {
   "cell_type": "code",
   "execution_count": 48,
   "id": "21c5e64e",
   "metadata": {},
   "outputs": [],
   "source": [
    "import numpy as np\n",
    "import pandas as pd\n",
    "import seaborn as sns\n",
    "from xgboost import XGBRegressor\n",
    "from sklearn.metrics import r2_score\n",
    "from sklearn.pipeline import Pipeline\n",
    "from sklearn.linear_model import Ridge\n",
    "from sklearn.linear_model import Lasso\n",
    "from sklearn.model_selection import KFold\n",
    "from sklearn.preprocessing import MinMaxScaler\n",
    "from sklearn.tree import DecisionTreeRegressor\n",
    "from sklearn.metrics import mean_absolute_error\n",
    "from sklearn.preprocessing import StandardScaler\n",
    "from sklearn.model_selection import GridSearchCV\n",
    "from sklearn.linear_model import LinearRegression\n",
    "from sklearn.ensemble import RandomForestRegressor\n",
    "from sklearn.preprocessing import PolynomialFeatures\n",
    "\n",
    "\n",
    "data = pd.read_csv(r\"dataset\\Train.csv\")\n",
    "df_val = data.sample(frac=0.2, random_state=1)\n",
    "df_train = data.drop(index=df_val.index)\n",
    "X_train, y_train = df_train.drop(\"Item_Outlet_Sales\", axis=1), df_train[\"Item_Outlet_Sales\"]\n",
    "X_valid, y_valid = df_val.drop(\"Item_Outlet_Sales\", axis=1), df_val[\"Item_Outlet_Sales\"]\n",
    "\n",
    "\n",
    "\n",
    "model = RandomForestRegressor(random_state=1)\n",
    "class CatOrdinalEncodingTransformer():\n",
    "    def __init__(self, default=0):\n",
    "        self.default=default\n",
    "\n",
    "    def transform(self,X,y=None):\n",
    "        X = X.copy()\n",
    "        X.Item_Fat_Content = X.Item_Fat_Content.map(lambda x:self.str2int_fat.get(x.lower(), self.default), na_action='ignore')\n",
    "        X.Outlet_Size = X.Outlet_Size.map(lambda x:self.str2int_size.get(x.lower(), self.default), na_action='ignore')\n",
    "        X.Outlet_Location_Type = X.Outlet_Location_Type.map(lambda x:self.str2int_location.get(x.lower(), self.default), na_action='ignore')\n",
    "        return X\n",
    "\n",
    "    def fit(self, X, y=None):\n",
    "        self.str2int_fat = {'low fat':1, 'low_fat':1, 'lf':1, 'regular':2, 'reg':2}\n",
    "        self.str2int_size = {'small':1, 's':1, 'medium':2, 'm':2, 'high':3, 'h':3}\n",
    "        self.str2int_location = {'tier 1':1, 'tier_1':1, 't1':1, 'tier 2':2, 'tier_2':2, 't2':2, 'tier 3':3, 'tier_3':3, 't3':3}\n",
    "        return self\n",
    "catOrdinalEncoding = Pipeline([\n",
    "    (\"catOrdinalEncoding\", CatOrdinalEncodingTransformer())\n",
    "])\n",
    "\n",
    "class FillNaTransformer():\n",
    "    def __init__(self, default=0):\n",
    "        self.default=default\n",
    "\n",
    "    def __fillna_size(self, row, default=None):\n",
    "        \"\"\"\n",
    "        This is a general function that describe the above graph\n",
    "        We made it general to be suited for val data also\n",
    "        \"\"\"\n",
    "        if row['Outlet_Type'] == 'Supermarket Type1':\n",
    "            if row['Outlet_Establishment_Year'] > 2000: row['Outlet_Size'] = 1\n",
    "            elif row['Outlet_Establishment_Year'] > 1997.5: row['Outlet_Size'] = 2\n",
    "            elif row['Outlet_Establishment_Year'] > 1995: row['Outlet_Size'] = 1\n",
    "            else: row['Outlet_Size'] = 3\n",
    "        else:\n",
    "            d = {'Grocery Store':1, 'Supermarket Type2':2, 'Supermarket Type3':2}\n",
    "            row['Outlet_Size'] = d.get(row['Outlet_Type'], default)\n",
    "\n",
    "        return row\n",
    "    \n",
    "    def __fillna_weight(self, row, default=0):\n",
    "        row['Item_Weight'] = self.Item_Weight.get(row['Item_Identifier'], self.default)\n",
    "        return row\n",
    "    \n",
    "    def transform(self,X,y=None):\n",
    "        X = X.copy()\n",
    "        X = X.apply(lambda row: self.__fillna_weight(row, self.default), axis=1)\n",
    "        X = X.apply(lambda row: self.__fillna_size(row, self.default), axis=1)\n",
    "        return X\n",
    "\n",
    "    def fit(self, X, y=None):\n",
    "        self.Item_Weight = X.groupby(['Item_Identifier'])['Item_Weight'].agg(pd.Series.median)\n",
    "        return self\n",
    "fillNA = Pipeline([\n",
    "    (\"fillNA\", FillNaTransformer(0))\n",
    "])\n",
    "\n",
    "class CatNominalEncodingTransformer():\n",
    "    def __init__(self, default=0):\n",
    "        self.default=default\n",
    "    \n",
    "    def __self_mul(self, df):\n",
    "        m = 1\n",
    "        for col in df:\n",
    "            m = m * df[col]\n",
    "        return m\n",
    "    \n",
    "    def transform(self,X,y=None):\n",
    "        X = X.copy()\n",
    "        X.Item_Type = X.Item_Type.map(self.str2int_Item_Type)\n",
    "        X.Outlet_Type = X.Outlet_Type.map(self.str2int_Outelet_Type)\n",
    "        return X\n",
    "\n",
    "    def fit(self, X, y=None):\n",
    "        X = X.copy()\n",
    "        scaler = StandardScaler()\n",
    "        cols = ['Outlet_Establishment_Year', 'Outlet_Size', 'Outlet_Location_Type']\n",
    "        X[cols] = scaler.fit_transform(X[cols])\n",
    "        self.str2int_Outelet_Type = X.groupby('Outlet_Type')[cols].mean().sum(axis=1)\n",
    "        \n",
    "        temp = X.groupby('Item_Type')[['Item_Weight','Item_Fat_Content']].mean()\n",
    "        temp = temp**3\n",
    "        self.str2int_Item_Type = self.__self_mul(temp).astype(int)\n",
    "\n",
    "        return self\n",
    "catNominalEncoding = Pipeline([\n",
    "    (\"catNominalEncoding\", CatNominalEncodingTransformer())\n",
    "])\n",
    "\n",
    "class IdentifierEncodingTransformer():\n",
    "    def __init__(self, default=0):\n",
    "        self.default=default\n",
    "\n",
    "    def transform(self,X,y=None):\n",
    "        X = X.copy()\n",
    "\n",
    "        X.Item_Identifier = X.Item_Identifier.map(self.handle_item)\n",
    "        X.Outlet_Identifier = X.Outlet_Identifier.map(self.handle_outlet)\n",
    "\n",
    "        return X\n",
    "\n",
    "    def fit(self, X, y=None):\n",
    "        X = X.copy()\n",
    "\n",
    "        self.handle_item = (X.groupby('Item_Identifier').median()[['Item_Weight', 'Item_Fat_Content', 'Item_Type']] * [7,5,2]).sum(1)\n",
    "        self.handle_outlet = (X.groupby('Outlet_Identifier').median()[['Outlet_Establishment_Year', 'Outlet_Size', 'Outlet_Location_Type', 'Outlet_Type']] * [2,1,1,2]).sum(1)\n",
    "        return self\n",
    "identifierEncoding = Pipeline([\n",
    "    (\"identifierEncoding\", IdentifierEncodingTransformer())\n",
    "])\n",
    "\n",
    "\n",
    "class TempTransformer():\n",
    "    def __init__(self, default=0):\n",
    "        self.default=default\n",
    "\n",
    "    def transform(self,X,y=None):\n",
    "        X = X.copy()\n",
    "        cols0=['Item_Weight', 'Item_Fat_Content', 'Item_Type', 'Outlet_Establishment_Year', 'Outlet_Size', 'Outlet_Location_Type', 'Outlet_Type']\n",
    "        cols1=['Outlet_Identifier', 'Item_Identifier']\n",
    "        X.drop(columns=cols0, inplace=True)\n",
    "        X.fillna(self.means, inplace=True)\n",
    "\n",
    "        return X\n",
    "\n",
    "    def fit(self, X, y=None):\n",
    "        self.means = {}\n",
    "        for col in X.select_dtypes(exclude='object').columns:\n",
    "            self.means[col] = X[col].mean()\n",
    "        return self"
   ]
  },
  {
   "cell_type": "markdown",
   "id": "adf7be8e",
   "metadata": {},
   "source": [
    "In the above cell we have reapted all the cleaning steps model it in the pipeline"
   ]
  },
  {
   "cell_type": "code",
   "execution_count": 49,
   "id": "d50ca648",
   "metadata": {},
   "outputs": [],
   "source": [
    "preprocessing0 = Pipeline([('catOrdinalEncoding', CatOrdinalEncodingTransformer())\n",
    "                              ,('fillNA', FillNaTransformer())\n",
    "                              ,('catNominalEncoding', CatNominalEncodingTransformer())\n",
    "                              ,('identifierEncoding', IdentifierEncodingTransformer())\n",
    "                              ,('TempTransformer', TempTransformer())\n",
    "                              ,('scaling', StandardScaler())\n",
    "#                               ,('poly', PolynomialFeatures(degree=6))\n",
    "                             ])\n",
    "\n",
    "X_train_tranformed = preprocessing0.fit_transform(X_train)\n",
    "X_valid_tranformed = preprocessing0.transform(X_valid)"
   ]
  },
  {
   "cell_type": "code",
   "execution_count": 50,
   "id": "2fe70538",
   "metadata": {},
   "outputs": [
    {
     "data": {
      "text/plain": [
       "2    0.695078\n",
       "3    0.252027\n",
       "0    0.076424\n",
       "1    0.075246\n",
       "Name: MI Scores, dtype: float64"
      ]
     },
     "execution_count": 50,
     "metadata": {},
     "output_type": "execute_result"
    }
   ],
   "source": [
    "from sklearn.feature_selection import mutual_info_regression\n",
    "\n",
    "mi_scores = mutual_info_regression(X_train_tranformed, y_train)\n",
    "mi_scores = pd.Series(mi_scores, name=\"MI Scores\") # , index=X_train_tranformed.columns)\n",
    "mi_scores = mi_scores.sort_values(ascending=False)\n",
    "mi_scores"
   ]
  },
  {
   "cell_type": "code",
   "execution_count": 51,
   "id": "03398f26",
   "metadata": {},
   "outputs": [],
   "source": [
    "scores = []\n",
    "\n",
    "def tryModels(estimators, preprocessing,X_train, X_valid, y_train, y_valid):\n",
    "    X_train = preprocessing.fit_transform(X_train)\n",
    "    X_valid = preprocessing.transform(X_valid)\n",
    "    for estimator in estimators:\n",
    "        print(f\"{estimator}\")\n",
    "        estimator.fit(X_train, y_train)\n",
    "        y_train_estimated = estimator.predict(X_train)\n",
    "        y_valid_estimated = estimator.predict(X_valid)\n",
    "\n",
    "        r2_train = r2_score(y_train, y_train_estimated)\n",
    "        r2_valid = r2_score(y_valid, y_valid_estimated)\n",
    "        \n",
    "        mae_train = mean_absolute_error(y_train, y_train_estimated)\n",
    "        mae_valid = mean_absolute_error(y_valid, y_valid_estimated)\n",
    "\n",
    "\n",
    "        print(f'r2_train: {r2_train}')\n",
    "        print(f'r2_valid: {r2_valid}')\n",
    "        \n",
    "        print(f'mae_train: {mae_train}')\n",
    "        print(f'mae_valid: {mae_valid}')\n",
    "        scores.append((estimator, r2_valid))\n",
    "    return estimators\n",
    "\n",
    "def custom_croos_validation(estimator, data, y_name, preprocessing, fit_params = {}, xgb=False):\n",
    "    R2_valid_li = []\n",
    "\n",
    "    X_data = data.drop(columns=y_name)\n",
    "    y_data = data[y_name]\n",
    "\n",
    "    for train_index, valid_index in KFold(shuffle=True, random_state=20).split(data):\n",
    "        X_train_cv, X_valid_cv, y_train_cv, y_valid_cv = X_data.iloc[train_index], X_data.iloc[valid_index], y_data.iloc[train_index], y_data.iloc[valid_index]\n",
    "\n",
    "        X_train_cv_tranformed = preprocessing.fit_transform(X_train_cv)\n",
    "        X_valid_cv_tranformed = preprocessing.transform(X_valid_cv)\n",
    "        \n",
    "        xgb_fit_params = {'eval_set':[(X_valid_cv_tranformed, y_valid_cv)]} if xgb else {}\n",
    "        estimator.fit(X_train_cv_tranformed, y_train_cv , **xgb_fit_params,**fit_params)\n",
    "\n",
    "        print(estimator.score(X_train_cv_tranformed, y_train_cv))\n",
    "        print(estimator.score(X_valid_cv_tranformed, y_valid_cv))\n",
    "        R2_valid_li.append(estimator.score(X_valid_cv_tranformed, y_valid_cv))\n",
    "\n",
    "        print('------------------')\n",
    "    return np.mean(R2_valid_li), np.std(R2_valid_li)"
   ]
  },
  {
   "cell_type": "code",
   "execution_count": 52,
   "id": "e1776569",
   "metadata": {},
   "outputs": [
    {
     "name": "stdout",
     "output_type": "stream",
     "text": [
      "0.5440830370763944\n",
      "0.5247196291973277\n",
      "------------------\n",
      "0.5496555619411589\n",
      "0.5017025565832121\n",
      "------------------\n",
      "0.5452532404355601\n",
      "0.511001617641416\n",
      "------------------\n",
      "0.5390773302704334\n",
      "0.538746763833656\n",
      "------------------\n",
      "0.5468297394652955\n",
      "0.5018843155058379\n",
      "------------------\n"
     ]
    },
    {
     "data": {
      "text/plain": [
       "(0.5156109765522899, 0.01429226199890176)"
      ]
     },
     "execution_count": 52,
     "metadata": {},
     "output_type": "execute_result"
    }
   ],
   "source": [
    "preprocessing1 = Pipeline([('catOrdinalEncoding', CatOrdinalEncodingTransformer())\n",
    "                              ,('fillNA', FillNaTransformer())\n",
    "                              ,('catNominalEncoding', CatNominalEncodingTransformer())\n",
    "                              ,('identifierEncoding', IdentifierEncodingTransformer())\n",
    "                              ,('TempTransformer', TempTransformer())\n",
    "                              ,('scaling', StandardScaler())\n",
    "                              ,('poly', PolynomialFeatures(degree=6))\n",
    "                             ])\n",
    "LR = LinearRegression()\n",
    "custom_croos_validation(LR, data, \"Item_Outlet_Sales\", preprocessing1)"
   ]
  },
  {
   "cell_type": "code",
   "execution_count": 53,
   "id": "77f3d10b",
   "metadata": {},
   "outputs": [
    {
     "name": "stdout",
     "output_type": "stream",
     "text": [
      "0.5440064805468683\n",
      "0.5251974406509933\n",
      "------------------\n",
      "0.5495807464604345\n",
      "0.5018326742827348\n",
      "------------------\n",
      "0.5451752212245397\n",
      "0.5112820970729519\n",
      "------------------\n",
      "0.5390049701048205\n",
      "0.5386306883213955\n",
      "------------------\n",
      "0.5467580880110117\n",
      "0.5013137562267316\n",
      "------------------\n"
     ]
    },
    {
     "data": {
      "text/plain": [
       "(0.5156513313109614, 0.014386039074958112)"
      ]
     },
     "execution_count": 53,
     "metadata": {},
     "output_type": "execute_result"
    }
   ],
   "source": [
    "preprocessing2 = Pipeline([('catOrdinalEncoding', CatOrdinalEncodingTransformer())\n",
    "                              ,('fillNA', FillNaTransformer())\n",
    "                              ,('catNominalEncoding', CatNominalEncodingTransformer())\n",
    "                              ,('identifierEncoding', IdentifierEncodingTransformer())\n",
    "                              ,('TempTransformer', TempTransformer())\n",
    "                              ,('scaling', StandardScaler())\n",
    "                              ,('poly', PolynomialFeatures(degree=6))\n",
    "                             ])\n",
    "LR = Ridge()\n",
    "custom_croos_validation(LR, data, \"Item_Outlet_Sales\", preprocessing2)"
   ]
  },
  {
   "cell_type": "markdown",
   "id": "1bed2d04",
   "metadata": {},
   "source": [
    "Let's do Grid Search for Rondom Forest"
   ]
  },
  {
   "cell_type": "code",
   "execution_count": 54,
   "id": "45ac1317",
   "metadata": {},
   "outputs": [],
   "source": [
    "param_grid={\n",
    "#             'max_features':range(2,5,1)\n",
    "#             ,'max_depth':range(1,20, 2)\\\n",
    "            'min_samples_split': range(2,102, 10)\\\n",
    "            ,'min_samples_leaf':range(1,101, 10)\\\n",
    "#             ,'max_samples':np.arange(0.1,1,0.1)\n",
    "           }\n",
    "GS = GridSearchCV(RandomForestRegressor(oob_score=True, max_depth=9, max_features=3, max_samples=0.8), param_grid=param_grid, scoring='r2', n_jobs=-1, cv=5, return_train_score=True)"
   ]
  },
  {
   "cell_type": "code",
   "execution_count": 55,
   "id": "7b1df6c6",
   "metadata": {},
   "outputs": [
    {
     "data": {
      "text/plain": [
       "GridSearchCV(cv=5,\n",
       "             estimator=RandomForestRegressor(max_depth=9, max_features=3,\n",
       "                                             max_samples=0.8, oob_score=True),\n",
       "             n_jobs=-1,\n",
       "             param_grid={'min_samples_leaf': range(1, 101, 10),\n",
       "                         'min_samples_split': range(2, 102, 10)},\n",
       "             return_train_score=True, scoring='r2')"
      ]
     },
     "execution_count": 55,
     "metadata": {},
     "output_type": "execute_result"
    }
   ],
   "source": [
    "X_data = data.drop(columns=\"Item_Outlet_Sales\")\n",
    "y_data = data[\"Item_Outlet_Sales\"]\n",
    "X_data_tranformed = preprocessing0.fit_transform(X_data)\n",
    "\n",
    "GS.fit(X_data_tranformed, y_data)"
   ]
  },
  {
   "cell_type": "code",
   "execution_count": 56,
   "id": "15238ecc",
   "metadata": {},
   "outputs": [
    {
     "data": {
      "text/plain": [
       "{'min_samples_leaf': 11, 'min_samples_split': 22}"
      ]
     },
     "execution_count": 56,
     "metadata": {},
     "output_type": "execute_result"
    }
   ],
   "source": [
    "GS.best_params_"
   ]
  },
  {
   "cell_type": "code",
   "execution_count": 57,
   "id": "3e551f2f",
   "metadata": {},
   "outputs": [
    {
     "data": {
      "text/plain": [
       "0.5890550464201295"
      ]
     },
     "execution_count": 57,
     "metadata": {},
     "output_type": "execute_result"
    }
   ],
   "source": [
    "GS.best_score_"
   ]
  },
  {
   "cell_type": "code",
   "execution_count": 58,
   "id": "14629d1b",
   "metadata": {},
   "outputs": [
    {
     "data": {
      "text/plain": [
       "0.5926885101935147"
      ]
     },
     "execution_count": 58,
     "metadata": {},
     "output_type": "execute_result"
    }
   ],
   "source": [
    "GS.best_estimator_.oob_score_"
   ]
  },
  {
   "cell_type": "code",
   "execution_count": 59,
   "id": "a1929069",
   "metadata": {},
   "outputs": [
    {
     "name": "stdout",
     "output_type": "stream",
     "text": [
      "0.6296865727426282\n",
      "0.6017955626321818\n",
      "------------------\n",
      "0.6391330815084321\n",
      "0.5654920013007751\n",
      "------------------\n",
      "0.6315214126331573\n",
      "0.5930980435714317\n",
      "------------------\n",
      "0.6224483259088247\n",
      "0.6059163279821647\n",
      "------------------\n",
      "0.6323976051897132\n",
      "0.584139227758333\n",
      "------------------\n"
     ]
    },
    {
     "data": {
      "text/plain": [
       "(0.5900882326489773, 0.014401488775291422)"
      ]
     },
     "execution_count": 59,
     "metadata": {},
     "output_type": "execute_result"
    }
   ],
   "source": [
    "RFR1 = RandomForestRegressor(max_depth=9, max_features=3, max_samples=0.8, min_samples_leaf= 11, min_samples_split= 52,random_state=1)\n",
    "custom_croos_validation(RFR1, data, \"Item_Outlet_Sales\", preprocessing0)"
   ]
  },
  {
   "cell_type": "code",
   "execution_count": 60,
   "id": "6726fdb7",
   "metadata": {},
   "outputs": [
    {
     "name": "stdout",
     "output_type": "stream",
     "text": [
      "0.6172954120268317\n",
      "0.6007471621187017\n",
      "------------------\n",
      "0.625840740185134\n",
      "0.567782410494138\n",
      "------------------\n",
      "0.6188879115795274\n",
      "0.5902320753977608\n",
      "------------------\n",
      "0.604140290082384\n",
      "0.598095523324023\n",
      "------------------\n",
      "0.6168768450702935\n",
      "0.5771189252449116\n",
      "------------------\n"
     ]
    },
    {
     "data": {
      "text/plain": [
       "(0.586795219315907, 0.012564100641249189)"
      ]
     },
     "execution_count": 60,
     "metadata": {},
     "output_type": "execute_result"
    }
   ],
   "source": [
    "RFR2 = RandomForestRegressor(max_depth=9, max_features=3, max_samples=0.7, min_samples_split= 100,random_state=1, oob_score=True)\n",
    "custom_croos_validation(RFR2, data, \"Item_Outlet_Sales\", preprocessing0)"
   ]
  },
  {
   "cell_type": "markdown",
   "id": "66f6d1bd",
   "metadata": {},
   "source": [
    "RFR1 is better"
   ]
  },
  {
   "cell_type": "markdown",
   "id": "64548b11",
   "metadata": {},
   "source": [
    "Let's jump to XGBRegressor"
   ]
  },
  {
   "cell_type": "code",
   "execution_count": 61,
   "id": "32c2cb34",
   "metadata": {},
   "outputs": [
    {
     "name": "stdout",
     "output_type": "stream",
     "text": [
      "Best score: 0.5970158627048887 with lr= 0.36999999999999994\n"
     ]
    },
    {
     "data": {
      "image/png": "[encoded data removed]",
      "text/plain": [
       "<Figure size 432x288 with 1 Axes>"
      ]
     },
     "metadata": {
      "needs_background": "light"
     },
     "output_type": "display_data"
    }
   ],
   "source": [
    "def get_score(lr):\n",
    "    my_model = XGBRegressor(n_estimators= 500, learning_rate= lr) # Your code here\n",
    "    my_model.fit(X_train_tranformed, y_train, eval_set=[(X_valid_tranformed, y_valid)], verbose=False, early_stopping_rounds=5)\n",
    "    r2 = my_model.score(X_valid_tranformed, y_valid)\n",
    "    return r2\n",
    "\n",
    "scores = {lr:get_score(lr) for lr in np.arange(0.01, 0.705, 0.02)}\n",
    "\n",
    "sns.lineplot(y= scores.values(), x= scores.keys());\n",
    "best_score = max(scores.items(), key= lambda x:x[1])\n",
    "print(f\"Best score: {best_score[1]} with lr= {best_score[0]}\")"
   ]
  },
  {
   "cell_type": "code",
   "execution_count": 62,
   "id": "ed0dc27b",
   "metadata": {},
   "outputs": [
    {
     "name": "stdout",
     "output_type": "stream",
     "text": [
      "=======\n",
      "For XGB\n",
      "=======\n",
      "0.6076412346728418\n",
      "0.6065212193388556\n",
      "------------------\n",
      "0.6287757900348168\n",
      "0.5774052386655356\n",
      "------------------\n",
      "0.6163917523450648\n",
      "0.5952856987818143\n",
      "------------------\n",
      "0.6107919551674954\n",
      "0.6210180959501577\n",
      "------------------\n",
      "0.6212566321891071\n",
      "0.5849608260880982\n",
      "------------------\n",
      "mean: 0.5970382157648922, std: 0.01548774003816217\n",
      "\n",
      "================\n",
      "For RandomForest\n",
      "================\n",
      "0.6297265707367699\n",
      "0.6018772134378318\n",
      "------------------\n",
      "0.6391564047263172\n",
      "0.5655313166838409\n",
      "------------------\n",
      "0.6307636172882056\n",
      "0.5939715003380229\n",
      "------------------\n",
      "0.6222710056839704\n",
      "0.6058305210271622\n",
      "------------------\n",
      "0.6318995178870486\n",
      "0.5859569706583323\n",
      "------------------\n",
      "mean: 0.5906335044290381, std: 0.014286373368704643\n"
     ]
    }
   ],
   "source": [
    "print(\"=======\")\n",
    "print(\"For XGB\")\n",
    "print(\"=======\")\n",
    "XGBR = XGBRegressor(n_estimators= 500, learning_rate=0.37, max_depth=3) # Your code here\n",
    "fit_params = {'verbose':False, 'early_stopping_rounds':5}\n",
    "mean, std = custom_croos_validation(XGBR, data, \"Item_Outlet_Sales\", preprocessing0, xgb=True,fit_params = fit_params)\n",
    "print(f\"mean: {mean}, std: {std}\")\n",
    "print(\"\")\n",
    "print(\"================\")\n",
    "print(\"For RandomForest\")\n",
    "print(\"================\")\n",
    "RFR = RandomForestRegressor(max_depth=9, max_features=3, max_samples=0.8, max_leaf_nodes=1000, min_samples_leaf= 11, min_samples_split= 52,random_state=1)\n",
    "mean, std = custom_croos_validation(RFR, data, \"Item_Outlet_Sales\", preprocessing0)\n",
    "print(f\"mean: {mean}, std: {std}\")"
   ]
  },
  {
   "cell_type": "markdown",
   "id": "182c04b2",
   "metadata": {},
   "source": [
    "XGB is better"
   ]
  },
  {
   "cell_type": "markdown",
   "id": "cbc47fdc",
   "metadata": {},
   "source": [
    "Let's go to test prediction"
   ]
  },
  {
   "cell_type": "code",
   "execution_count": 63,
   "id": "ed699d78",
   "metadata": {},
   "outputs": [],
   "source": [
    "model = XGBR"
   ]
  },
  {
   "cell_type": "code",
   "execution_count": 64,
   "id": "60e71b57",
   "metadata": {},
   "outputs": [],
   "source": [
    "test_data = pd.read_csv(r\"dataset\\Test.csv\")\n",
    "test_data_tranformed = preprocessing0.transform(test_data)\n",
    "preds_test = model.predict(test_data_tranformed)"
   ]
  },
  {
   "cell_type": "code",
   "execution_count": 65,
   "id": "9960e5da",
   "metadata": {},
   "outputs": [],
   "source": [
    "Output = pd.DataFrame({\n",
    "    \"Item_Identifier\": test_data['Item_Identifier'],\n",
    "    \"Outlet_Identifier\": test_data['Outlet_Identifier'],\n",
    "    \"Item_Outlet_Sales\": preds_test})\n",
    "Output.Item_Outlet_Sales = Output.Item_Outlet_Sales.apply(lambda x:0 if x<0 else x)\n",
    "file_name_XGB = \"XGBoost_fineTuned_BigMart.csv\"\n",
    "file_name_RFR = \"RandomForest_fineTuned_BigMart.csv\"\n",
    "Output.to_csv(file_name_XGB, index=False)"
   ]
  },
  {
   "cell_type": "code",
   "execution_count": null,
   "id": "854568a0",
   "metadata": {},
   "outputs": [],
   "source": []
  },
  {
   "cell_type": "code",
   "execution_count": null,
   "id": "17f2362a",
   "metadata": {},
   "outputs": [],
   "source": []
  },
  {
   "cell_type": "code",
   "execution_count": null,
   "id": "3a99af31",
   "metadata": {},
   "outputs": [],
   "source": []
  },
  {
   "cell_type": "code",
   "execution_count": null,
   "id": "53076974",
   "metadata": {},
   "outputs": [],
   "source": []
  },
  {
   "cell_type": "markdown",
   "id": "589c1234",
   "metadata": {},
   "source": [
    "My best score for BigMart test data on [analyticsvidhya](https://datahack.analyticsvidhya.com/) is 1159.5608405832"
   ]
  },
  {
   "cell_type": "markdown",
   "id": "5a74f09b",
   "metadata": {},
   "source": [
    "# Written by Mahmoud Mohammed Hashem Moawad"
   ]
  },
  {
   "cell_type": "markdown",
   "id": "445a7d9f",
   "metadata": {},
   "source": [
    "# The END"
   ]
  }
 ],
 "metadata": {
  "kernelspec": {
   "display_name": "Python 3 (ipykernel)",
   "language": "python",
   "name": "python3"
  },
  "language_info": {
   "codemirror_mode": {
    "name": "ipython",
    "version": 3
   },
   "file_extension": ".py",
   "mimetype": "text/x-python",
   "name": "python",
   "nbconvert_exporter": "python",
   "pygments_lexer": "ipython3",
   "version": "3.8.12"
  }
 },
 "nbformat": 4,
 "nbformat_minor": 5
}

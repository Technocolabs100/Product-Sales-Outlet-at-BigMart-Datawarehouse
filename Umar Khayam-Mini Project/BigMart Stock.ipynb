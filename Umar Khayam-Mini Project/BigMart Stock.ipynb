{
 "cells": [
  {
   "cell_type": "markdown",
   "id": "be0b1cb9",
   "metadata": {},
   "source": [
    "# Libraries"
   ]
  },
  {
   "cell_type": "code",
   "execution_count": 1041,
   "id": "60bb84ec",
   "metadata": {},
   "outputs": [],
   "source": [
    "import pandas as pd\n",
    "import matplotlib.pyplot as plt\n",
    "import seaborn as sns\n",
    "import numpy as np\n",
    "from sklearn.preprocessing import LabelEncoder\n",
    "from sklearn.model_selection import train_test_split"
   ]
  },
  {
   "cell_type": "markdown",
   "id": "494cff3f",
   "metadata": {},
   "source": [
    "# Dataset Cleaning"
   ]
  },
  {
   "cell_type": "code",
   "execution_count": 1042,
   "id": "88159202",
   "metadata": {},
   "outputs": [
    {
     "data": {
      "text/html": [
       "<div>\n",
       "<style scoped>\n",
       "    .dataframe tbody tr th:only-of-type {\n",
       "        vertical-align: middle;\n",
       "    }\n",
       "\n",
       "    .dataframe tbody tr th {\n",
       "        vertical-align: top;\n",
       "    }\n",
       "\n",
       "    .dataframe thead th {\n",
       "        text-align: right;\n",
       "    }\n",
       "</style>\n",
       "<table border=\"1\" class=\"dataframe\">\n",
       "  <thead>\n",
       "    <tr style=\"text-align: right;\">\n",
       "      <th></th>\n",
       "      <th>Item_Identifier</th>\n",
       "      <th>Item_Weight</th>\n",
       "      <th>Item_Fat_Content</th>\n",
       "      <th>Item_Visibility</th>\n",
       "      <th>Item_Type</th>\n",
       "      <th>Item_MRP</th>\n",
       "      <th>Outlet_Identifier</th>\n",
       "      <th>Outlet_Establishment_Year</th>\n",
       "      <th>Outlet_Size</th>\n",
       "      <th>Outlet_Location_Type</th>\n",
       "      <th>Outlet_Type</th>\n",
       "      <th>Item_Outlet_Sales</th>\n",
       "    </tr>\n",
       "  </thead>\n",
       "  <tbody>\n",
       "    <tr>\n",
       "      <th>0</th>\n",
       "      <td>FDA15</td>\n",
       "      <td>9.30</td>\n",
       "      <td>Low Fat</td>\n",
       "      <td>0.016047</td>\n",
       "      <td>Dairy</td>\n",
       "      <td>249.8092</td>\n",
       "      <td>OUT049</td>\n",
       "      <td>1999</td>\n",
       "      <td>Medium</td>\n",
       "      <td>Tier 1</td>\n",
       "      <td>Supermarket Type1</td>\n",
       "      <td>3735.1380</td>\n",
       "    </tr>\n",
       "    <tr>\n",
       "      <th>1</th>\n",
       "      <td>DRC01</td>\n",
       "      <td>5.92</td>\n",
       "      <td>Regular</td>\n",
       "      <td>0.019278</td>\n",
       "      <td>Soft Drinks</td>\n",
       "      <td>48.2692</td>\n",
       "      <td>OUT018</td>\n",
       "      <td>2009</td>\n",
       "      <td>Medium</td>\n",
       "      <td>Tier 3</td>\n",
       "      <td>Supermarket Type2</td>\n",
       "      <td>443.4228</td>\n",
       "    </tr>\n",
       "    <tr>\n",
       "      <th>2</th>\n",
       "      <td>FDN15</td>\n",
       "      <td>17.50</td>\n",
       "      <td>Low Fat</td>\n",
       "      <td>0.016760</td>\n",
       "      <td>Meat</td>\n",
       "      <td>141.6180</td>\n",
       "      <td>OUT049</td>\n",
       "      <td>1999</td>\n",
       "      <td>Medium</td>\n",
       "      <td>Tier 1</td>\n",
       "      <td>Supermarket Type1</td>\n",
       "      <td>2097.2700</td>\n",
       "    </tr>\n",
       "    <tr>\n",
       "      <th>3</th>\n",
       "      <td>FDX07</td>\n",
       "      <td>19.20</td>\n",
       "      <td>Regular</td>\n",
       "      <td>0.000000</td>\n",
       "      <td>Fruits and Vegetables</td>\n",
       "      <td>182.0950</td>\n",
       "      <td>OUT010</td>\n",
       "      <td>1998</td>\n",
       "      <td>NaN</td>\n",
       "      <td>Tier 3</td>\n",
       "      <td>Grocery Store</td>\n",
       "      <td>732.3800</td>\n",
       "    </tr>\n",
       "    <tr>\n",
       "      <th>4</th>\n",
       "      <td>NCD19</td>\n",
       "      <td>8.93</td>\n",
       "      <td>Low Fat</td>\n",
       "      <td>0.000000</td>\n",
       "      <td>Household</td>\n",
       "      <td>53.8614</td>\n",
       "      <td>OUT013</td>\n",
       "      <td>1987</td>\n",
       "      <td>High</td>\n",
       "      <td>Tier 3</td>\n",
       "      <td>Supermarket Type1</td>\n",
       "      <td>994.7052</td>\n",
       "    </tr>\n",
       "  </tbody>\n",
       "</table>\n",
       "</div>"
      ],
      "text/plain": [
       "  Item_Identifier  Item_Weight Item_Fat_Content  Item_Visibility  \\\n",
       "0           FDA15         9.30          Low Fat         0.016047   \n",
       "1           DRC01         5.92          Regular         0.019278   \n",
       "2           FDN15        17.50          Low Fat         0.016760   \n",
       "3           FDX07        19.20          Regular         0.000000   \n",
       "4           NCD19         8.93          Low Fat         0.000000   \n",
       "\n",
       "               Item_Type  Item_MRP Outlet_Identifier  \\\n",
       "0                  Dairy  249.8092            OUT049   \n",
       "1            Soft Drinks   48.2692            OUT018   \n",
       "2                   Meat  141.6180            OUT049   \n",
       "3  Fruits and Vegetables  182.0950            OUT010   \n",
       "4              Household   53.8614            OUT013   \n",
       "\n",
       "   Outlet_Establishment_Year Outlet_Size Outlet_Location_Type  \\\n",
       "0                       1999      Medium               Tier 1   \n",
       "1                       2009      Medium               Tier 3   \n",
       "2                       1999      Medium               Tier 1   \n",
       "3                       1998         NaN               Tier 3   \n",
       "4                       1987        High               Tier 3   \n",
       "\n",
       "         Outlet_Type  Item_Outlet_Sales  \n",
       "0  Supermarket Type1          3735.1380  \n",
       "1  Supermarket Type2           443.4228  \n",
       "2  Supermarket Type1          2097.2700  \n",
       "3      Grocery Store           732.3800  \n",
       "4  Supermarket Type1           994.7052  "
      ]
     },
     "execution_count": 1042,
     "metadata": {},
     "output_type": "execute_result"
    }
   ],
   "source": [
    "df=pd.read_csv('Train.csv')\n",
    "df.head()"
   ]
  },
  {
   "cell_type": "code",
   "execution_count": 1043,
   "id": "7752556d",
   "metadata": {},
   "outputs": [
    {
     "name": "stdout",
     "output_type": "stream",
     "text": [
      "<class 'pandas.core.frame.DataFrame'>\n",
      "RangeIndex: 8523 entries, 0 to 8522\n",
      "Data columns (total 12 columns):\n",
      " #   Column                     Non-Null Count  Dtype  \n",
      "---  ------                     --------------  -----  \n",
      " 0   Item_Identifier            8523 non-null   object \n",
      " 1   Item_Weight                7060 non-null   float64\n",
      " 2   Item_Fat_Content           8523 non-null   object \n",
      " 3   Item_Visibility            8523 non-null   float64\n",
      " 4   Item_Type                  8523 non-null   object \n",
      " 5   Item_MRP                   8523 non-null   float64\n",
      " 6   Outlet_Identifier          8523 non-null   object \n",
      " 7   Outlet_Establishment_Year  8523 non-null   int64  \n",
      " 8   Outlet_Size                6113 non-null   object \n",
      " 9   Outlet_Location_Type       8523 non-null   object \n",
      " 10  Outlet_Type                8523 non-null   object \n",
      " 11  Item_Outlet_Sales          8523 non-null   float64\n",
      "dtypes: float64(4), int64(1), object(7)\n",
      "memory usage: 799.2+ KB\n"
     ]
    }
   ],
   "source": [
    "df.info()"
   ]
  },
  {
   "cell_type": "markdown",
   "id": "49ed3af0",
   "metadata": {},
   "source": [
    " #### To check how many feature has null values"
   ]
  },
  {
   "cell_type": "code",
   "execution_count": 1044,
   "id": "aac338b1",
   "metadata": {},
   "outputs": [
    {
     "data": {
      "text/plain": [
       "Item_Identifier                 0\n",
       "Item_Weight                  1463\n",
       "Item_Fat_Content                0\n",
       "Item_Visibility                 0\n",
       "Item_Type                       0\n",
       "Item_MRP                        0\n",
       "Outlet_Identifier               0\n",
       "Outlet_Establishment_Year       0\n",
       "Outlet_Size                  2410\n",
       "Outlet_Location_Type            0\n",
       "Outlet_Type                     0\n",
       "Item_Outlet_Sales               0\n",
       "dtype: int64"
      ]
     },
     "execution_count": 1044,
     "metadata": {},
     "output_type": "execute_result"
    }
   ],
   "source": [
    "df.isnull().sum()"
   ]
  },
  {
   "cell_type": "code",
   "execution_count": 1045,
   "id": "9db66f76",
   "metadata": {},
   "outputs": [],
   "source": [
    "dataset=df.copy(deep=True)"
   ]
  },
  {
   "cell_type": "markdown",
   "id": "4d31ab04",
   "metadata": {},
   "source": [
    " #### Finding correlation between features by Pearson method"
   ]
  },
  {
   "cell_type": "code",
   "execution_count": 1046,
   "id": "8b1058b6",
   "metadata": {},
   "outputs": [
    {
     "data": {
      "text/html": [
       "<style  type=\"text/css\" >\n",
       "#T_6e509_row0_col0,#T_6e509_row1_col1,#T_6e509_row2_col2,#T_6e509_row3_col3,#T_6e509_row4_col4,#T_6e509_row5_col5,#T_6e509_row6_col6,#T_6e509_row7_col7{\n",
       "            background-color:  #b40426;\n",
       "            color:  #f1f1f1;\n",
       "        }#T_6e509_row0_col1{\n",
       "            background-color:  #6485ec;\n",
       "            color:  #000000;\n",
       "        }#T_6e509_row0_col2,#T_6e509_row5_col3,#T_6e509_row7_col0{\n",
       "            background-color:  #4358cb;\n",
       "            color:  #f1f1f1;\n",
       "        }#T_6e509_row0_col3,#T_6e509_row5_col4{\n",
       "            background-color:  #5977e3;\n",
       "            color:  #000000;\n",
       "        }#T_6e509_row0_col4{\n",
       "            background-color:  #9bbcff;\n",
       "            color:  #000000;\n",
       "        }#T_6e509_row0_col5{\n",
       "            background-color:  #85a8fc;\n",
       "            color:  #000000;\n",
       "        }#T_6e509_row0_col6{\n",
       "            background-color:  #9fbfff;\n",
       "            color:  #000000;\n",
       "        }#T_6e509_row0_col7{\n",
       "            background-color:  #6c8ff1;\n",
       "            color:  #000000;\n",
       "        }#T_6e509_row1_col0,#T_6e509_row1_col2,#T_6e509_row4_col0,#T_6e509_row4_col2,#T_6e509_row4_col5,#T_6e509_row4_col6,#T_6e509_row4_col7,#T_6e509_row5_col2,#T_6e509_row6_col1,#T_6e509_row6_col2,#T_6e509_row6_col3,#T_6e509_row6_col4{\n",
       "            background-color:  #3b4cc0;\n",
       "            color:  #f1f1f1;\n",
       "        }#T_6e509_row1_col3,#T_6e509_row2_col0{\n",
       "            background-color:  #465ecf;\n",
       "            color:  #f1f1f1;\n",
       "        }#T_6e509_row1_col4{\n",
       "            background-color:  #b3cdfb;\n",
       "            color:  #000000;\n",
       "        }#T_6e509_row1_col5{\n",
       "            background-color:  #7da0f9;\n",
       "            color:  #000000;\n",
       "        }#T_6e509_row1_col6,#T_6e509_row7_col4{\n",
       "            background-color:  #7597f6;\n",
       "            color:  #000000;\n",
       "        }#T_6e509_row1_col7,#T_6e509_row7_col1{\n",
       "            background-color:  #455cce;\n",
       "            color:  #f1f1f1;\n",
       "        }#T_6e509_row2_col1{\n",
       "            background-color:  #688aef;\n",
       "            color:  #000000;\n",
       "        }#T_6e509_row2_col3{\n",
       "            background-color:  #5e7de7;\n",
       "            color:  #000000;\n",
       "        }#T_6e509_row2_col4,#T_6e509_row2_col6{\n",
       "            background-color:  #9ebeff;\n",
       "            color:  #000000;\n",
       "        }#T_6e509_row2_col5,#T_6e509_row5_col7{\n",
       "            background-color:  #84a7fc;\n",
       "            color:  #000000;\n",
       "        }#T_6e509_row2_col7,#T_6e509_row3_col4{\n",
       "            background-color:  #f5c2aa;\n",
       "            color:  #000000;\n",
       "        }#T_6e509_row3_col0,#T_6e509_row3_col2{\n",
       "            background-color:  #3c4ec2;\n",
       "            color:  #f1f1f1;\n",
       "        }#T_6e509_row3_col1{\n",
       "            background-color:  #5470de;\n",
       "            color:  #000000;\n",
       "        }#T_6e509_row3_col5{\n",
       "            background-color:  #6b8df0;\n",
       "            color:  #000000;\n",
       "        }#T_6e509_row3_col6{\n",
       "            background-color:  #81a4fb;\n",
       "            color:  #000000;\n",
       "        }#T_6e509_row3_col7{\n",
       "            background-color:  #5a78e4;\n",
       "            color:  #000000;\n",
       "        }#T_6e509_row4_col1{\n",
       "            background-color:  #82a6fb;\n",
       "            color:  #000000;\n",
       "        }#T_6e509_row4_col3{\n",
       "            background-color:  #e4d9d2;\n",
       "            color:  #000000;\n",
       "        }#T_6e509_row5_col0{\n",
       "            background-color:  #4055c8;\n",
       "            color:  #f1f1f1;\n",
       "        }#T_6e509_row5_col1{\n",
       "            background-color:  #6180e9;\n",
       "            color:  #000000;\n",
       "        }#T_6e509_row5_col6{\n",
       "            background-color:  #f5c4ac;\n",
       "            color:  #000000;\n",
       "        }#T_6e509_row6_col0{\n",
       "            background-color:  #3e51c5;\n",
       "            color:  #f1f1f1;\n",
       "        }#T_6e509_row6_col5{\n",
       "            background-color:  #f0cdbb;\n",
       "            color:  #000000;\n",
       "        }#T_6e509_row6_col7{\n",
       "            background-color:  #dadce0;\n",
       "            color:  #000000;\n",
       "        }#T_6e509_row7_col2{\n",
       "            background-color:  #edd2c3;\n",
       "            color:  #000000;\n",
       "        }#T_6e509_row7_col3{\n",
       "            background-color:  #4e68d8;\n",
       "            color:  #000000;\n",
       "        }#T_6e509_row7_col5{\n",
       "            background-color:  #9dbdff;\n",
       "            color:  #000000;\n",
       "        }#T_6e509_row7_col6{\n",
       "            background-color:  #efcebd;\n",
       "            color:  #000000;\n",
       "        }</style><table id=\"T_6e509_\" ><thead>    <tr>        <th class=\"blank level0\" ></th>        <th class=\"col_heading level0 col0\" >Item_Weight</th>        <th class=\"col_heading level0 col1\" >Item_Visibility</th>        <th class=\"col_heading level0 col2\" >Item_MRP</th>        <th class=\"col_heading level0 col3\" >Outlet_Establishment_Year</th>        <th class=\"col_heading level0 col4\" >Outlet_Size</th>        <th class=\"col_heading level0 col5\" >Outlet_Location_Type</th>        <th class=\"col_heading level0 col6\" >Outlet_Type</th>        <th class=\"col_heading level0 col7\" >Item_Outlet_Sales</th>    </tr></thead><tbody>\n",
       "                <tr>\n",
       "                        <th id=\"T_6e509_level0_row0\" class=\"row_heading level0 row0\" >Item_Weight</th>\n",
       "                        <td id=\"T_6e509_row0_col0\" class=\"data row0 col0\" >1.000000</td>\n",
       "                        <td id=\"T_6e509_row0_col1\" class=\"data row0 col1\" >-0.014048</td>\n",
       "                        <td id=\"T_6e509_row0_col2\" class=\"data row0 col2\" >0.027141</td>\n",
       "                        <td id=\"T_6e509_row0_col3\" class=\"data row0 col3\" >-0.011588</td>\n",
       "                        <td id=\"T_6e509_row0_col4\" class=\"data row0 col4\" >-0.015656</td>\n",
       "                        <td id=\"T_6e509_row0_col5\" class=\"data row0 col5\" >0.004715</td>\n",
       "                        <td id=\"T_6e509_row0_col6\" class=\"data row0 col6\" >-0.001088</td>\n",
       "                        <td id=\"T_6e509_row0_col7\" class=\"data row0 col7\" >0.014123</td>\n",
       "            </tr>\n",
       "            <tr>\n",
       "                        <th id=\"T_6e509_level0_row1\" class=\"row_heading level0 row1\" >Item_Visibility</th>\n",
       "                        <td id=\"T_6e509_row1_col0\" class=\"data row1 col0\" >-0.014048</td>\n",
       "                        <td id=\"T_6e509_row1_col1\" class=\"data row1 col1\" >1.000000</td>\n",
       "                        <td id=\"T_6e509_row1_col2\" class=\"data row1 col2\" >-0.001315</td>\n",
       "                        <td id=\"T_6e509_row1_col3\" class=\"data row1 col3\" >-0.074834</td>\n",
       "                        <td id=\"T_6e509_row1_col4\" class=\"data row1 col4\" >0.087796</td>\n",
       "                        <td id=\"T_6e509_row1_col5\" class=\"data row1 col5\" >-0.028099</td>\n",
       "                        <td id=\"T_6e509_row1_col6\" class=\"data row1 col6\" >-0.173468</td>\n",
       "                        <td id=\"T_6e509_row1_col7\" class=\"data row1 col7\" >-0.128625</td>\n",
       "            </tr>\n",
       "            <tr>\n",
       "                        <th id=\"T_6e509_level0_row2\" class=\"row_heading level0 row2\" >Item_MRP</th>\n",
       "                        <td id=\"T_6e509_row2_col0\" class=\"data row2 col0\" >0.027141</td>\n",
       "                        <td id=\"T_6e509_row2_col1\" class=\"data row2 col1\" >-0.001315</td>\n",
       "                        <td id=\"T_6e509_row2_col2\" class=\"data row2 col2\" >1.000000</td>\n",
       "                        <td id=\"T_6e509_row2_col3\" class=\"data row2 col3\" >0.005020</td>\n",
       "                        <td id=\"T_6e509_row2_col4\" class=\"data row2 col4\" >-0.002473</td>\n",
       "                        <td id=\"T_6e509_row2_col5\" class=\"data row2 col5\" >0.000232</td>\n",
       "                        <td id=\"T_6e509_row2_col6\" class=\"data row2 col6\" >-0.001975</td>\n",
       "                        <td id=\"T_6e509_row2_col7\" class=\"data row2 col7\" >0.567574</td>\n",
       "            </tr>\n",
       "            <tr>\n",
       "                        <th id=\"T_6e509_level0_row3\" class=\"row_heading level0 row3\" >Outlet_Establishment_Year</th>\n",
       "                        <td id=\"T_6e509_row3_col0\" class=\"data row3 col0\" >-0.011588</td>\n",
       "                        <td id=\"T_6e509_row3_col1\" class=\"data row3 col1\" >-0.074834</td>\n",
       "                        <td id=\"T_6e509_row3_col2\" class=\"data row3 col2\" >0.005020</td>\n",
       "                        <td id=\"T_6e509_row3_col3\" class=\"data row3 col3\" >1.000000</td>\n",
       "                        <td id=\"T_6e509_row3_col4\" class=\"data row3 col4\" >0.470343</td>\n",
       "                        <td id=\"T_6e509_row3_col5\" class=\"data row3 col5\" >-0.089216</td>\n",
       "                        <td id=\"T_6e509_row3_col6\" class=\"data row3 col6\" >-0.122304</td>\n",
       "                        <td id=\"T_6e509_row3_col7\" class=\"data row3 col7\" >-0.049135</td>\n",
       "            </tr>\n",
       "            <tr>\n",
       "                        <th id=\"T_6e509_level0_row4\" class=\"row_heading level0 row4\" >Outlet_Size</th>\n",
       "                        <td id=\"T_6e509_row4_col0\" class=\"data row4 col0\" >-0.015656</td>\n",
       "                        <td id=\"T_6e509_row4_col1\" class=\"data row4 col1\" >0.087796</td>\n",
       "                        <td id=\"T_6e509_row4_col2\" class=\"data row4 col2\" >-0.002473</td>\n",
       "                        <td id=\"T_6e509_row4_col3\" class=\"data row4 col3\" >0.470343</td>\n",
       "                        <td id=\"T_6e509_row4_col4\" class=\"data row4 col4\" >1.000000</td>\n",
       "                        <td id=\"T_6e509_row4_col5\" class=\"data row4 col5\" >-0.290216</td>\n",
       "                        <td id=\"T_6e509_row4_col6\" class=\"data row4 col6\" >-0.432062</td>\n",
       "                        <td id=\"T_6e509_row4_col7\" class=\"data row4 col7\" >-0.172477</td>\n",
       "            </tr>\n",
       "            <tr>\n",
       "                        <th id=\"T_6e509_level0_row5\" class=\"row_heading level0 row5\" >Outlet_Location_Type</th>\n",
       "                        <td id=\"T_6e509_row5_col0\" class=\"data row5 col0\" >0.004715</td>\n",
       "                        <td id=\"T_6e509_row5_col1\" class=\"data row5 col1\" >-0.028099</td>\n",
       "                        <td id=\"T_6e509_row5_col2\" class=\"data row5 col2\" >0.000232</td>\n",
       "                        <td id=\"T_6e509_row5_col3\" class=\"data row5 col3\" >-0.089216</td>\n",
       "                        <td id=\"T_6e509_row5_col4\" class=\"data row5 col4\" >-0.290216</td>\n",
       "                        <td id=\"T_6e509_row5_col5\" class=\"data row5 col5\" >1.000000</td>\n",
       "                        <td id=\"T_6e509_row5_col6\" class=\"data row5 col6\" >0.467219</td>\n",
       "                        <td id=\"T_6e509_row5_col7\" class=\"data row5 col7\" >0.089367</td>\n",
       "            </tr>\n",
       "            <tr>\n",
       "                        <th id=\"T_6e509_level0_row6\" class=\"row_heading level0 row6\" >Outlet_Type</th>\n",
       "                        <td id=\"T_6e509_row6_col0\" class=\"data row6 col0\" >-0.001088</td>\n",
       "                        <td id=\"T_6e509_row6_col1\" class=\"data row6 col1\" >-0.173468</td>\n",
       "                        <td id=\"T_6e509_row6_col2\" class=\"data row6 col2\" >-0.001975</td>\n",
       "                        <td id=\"T_6e509_row6_col3\" class=\"data row6 col3\" >-0.122304</td>\n",
       "                        <td id=\"T_6e509_row6_col4\" class=\"data row6 col4\" >-0.432062</td>\n",
       "                        <td id=\"T_6e509_row6_col5\" class=\"data row6 col5\" >0.467219</td>\n",
       "                        <td id=\"T_6e509_row6_col6\" class=\"data row6 col6\" >1.000000</td>\n",
       "                        <td id=\"T_6e509_row6_col7\" class=\"data row6 col7\" >0.401522</td>\n",
       "            </tr>\n",
       "            <tr>\n",
       "                        <th id=\"T_6e509_level0_row7\" class=\"row_heading level0 row7\" >Item_Outlet_Sales</th>\n",
       "                        <td id=\"T_6e509_row7_col0\" class=\"data row7 col0\" >0.014123</td>\n",
       "                        <td id=\"T_6e509_row7_col1\" class=\"data row7 col1\" >-0.128625</td>\n",
       "                        <td id=\"T_6e509_row7_col2\" class=\"data row7 col2\" >0.567574</td>\n",
       "                        <td id=\"T_6e509_row7_col3\" class=\"data row7 col3\" >-0.049135</td>\n",
       "                        <td id=\"T_6e509_row7_col4\" class=\"data row7 col4\" >-0.172477</td>\n",
       "                        <td id=\"T_6e509_row7_col5\" class=\"data row7 col5\" >0.089367</td>\n",
       "                        <td id=\"T_6e509_row7_col6\" class=\"data row7 col6\" >0.401522</td>\n",
       "                        <td id=\"T_6e509_row7_col7\" class=\"data row7 col7\" >1.000000</td>\n",
       "            </tr>\n",
       "    </tbody></table>"
      ],
      "text/plain": [
       "<pandas.io.formats.style.Styler at 0x7fcfea6ff5e0>"
      ]
     },
     "execution_count": 1046,
     "metadata": {},
     "output_type": "execute_result"
    }
   ],
   "source": [
    "label_encoder = LabelEncoder()\n",
    "dataset['Outlet_Type']=label_encoder.fit_transform(dataset['Outlet_Type'])\n",
    "dataset['Outlet_Location_Type']=label_encoder.fit_transform(dataset['Outlet_Location_Type'])\n",
    "dataset['Outlet_Size']=label_encoder.fit_transform(dataset['Outlet_Size'])\n",
    "corr=dataset.corr(method ='pearson')\n",
    "corr.style.background_gradient(cmap='coolwarm')"
   ]
  },
  {
   "cell_type": "markdown",
   "id": "4a71adf3",
   "metadata": {},
   "source": [
    " #### Tried to find correlation with establishment year but it was giving only some years"
   ]
  },
  {
   "cell_type": "code",
   "execution_count": 1047,
   "id": "52ad3bd5",
   "metadata": {},
   "outputs": [
    {
     "data": {
      "text/html": [
       "<div>\n",
       "<style scoped>\n",
       "    .dataframe tbody tr th:only-of-type {\n",
       "        vertical-align: middle;\n",
       "    }\n",
       "\n",
       "    .dataframe tbody tr th {\n",
       "        vertical-align: top;\n",
       "    }\n",
       "\n",
       "    .dataframe thead th {\n",
       "        text-align: right;\n",
       "    }\n",
       "</style>\n",
       "<table border=\"1\" class=\"dataframe\">\n",
       "  <thead>\n",
       "    <tr style=\"text-align: right;\">\n",
       "      <th>Outlet_Establishment_Year</th>\n",
       "      <th>1985</th>\n",
       "      <th>1987</th>\n",
       "      <th>1997</th>\n",
       "      <th>1999</th>\n",
       "      <th>2004</th>\n",
       "      <th>2009</th>\n",
       "    </tr>\n",
       "  </thead>\n",
       "  <tbody>\n",
       "    <tr>\n",
       "      <th>Outlet_Size</th>\n",
       "      <td>Medium</td>\n",
       "      <td>High</td>\n",
       "      <td>Small</td>\n",
       "      <td>Medium</td>\n",
       "      <td>Small</td>\n",
       "      <td>Medium</td>\n",
       "    </tr>\n",
       "  </tbody>\n",
       "</table>\n",
       "</div>"
      ],
      "text/plain": [
       "Outlet_Establishment_Year    1985  1987   1997    1999   2004    2009\n",
       "Outlet_Size                Medium  High  Small  Medium  Small  Medium"
      ]
     },
     "execution_count": 1047,
     "metadata": {},
     "output_type": "execute_result"
    }
   ],
   "source": [
    "mode_of_Outlet_Establishment_Year=df.pivot_table(values='Outlet_Size', columns='Outlet_Establishment_Year', aggfunc='last')\n",
    "mode_of_Outlet_Establishment_Year"
   ]
  },
  {
   "cell_type": "markdown",
   "id": "f5481a28",
   "metadata": {},
   "source": [
    " ####  So, most grocery store are small and most Supermarket Type1 is Small etc..\n",
    " #### So, I am filling Groceray store which has Nan of outlet size in row with small. "
   ]
  },
  {
   "cell_type": "code",
   "execution_count": 1048,
   "id": "6c6934cf",
   "metadata": {},
   "outputs": [
    {
     "data": {
      "text/html": [
       "<div>\n",
       "<style scoped>\n",
       "    .dataframe tbody tr th:only-of-type {\n",
       "        vertical-align: middle;\n",
       "    }\n",
       "\n",
       "    .dataframe tbody tr th {\n",
       "        vertical-align: top;\n",
       "    }\n",
       "\n",
       "    .dataframe thead th {\n",
       "        text-align: right;\n",
       "    }\n",
       "</style>\n",
       "<table border=\"1\" class=\"dataframe\">\n",
       "  <thead>\n",
       "    <tr style=\"text-align: right;\">\n",
       "      <th>Outlet_Type</th>\n",
       "      <th>Grocery Store</th>\n",
       "      <th>Supermarket Type1</th>\n",
       "      <th>Supermarket Type2</th>\n",
       "      <th>Supermarket Type3</th>\n",
       "    </tr>\n",
       "  </thead>\n",
       "  <tbody>\n",
       "    <tr>\n",
       "      <th>Outlet_Size</th>\n",
       "      <td>Small</td>\n",
       "      <td>Small</td>\n",
       "      <td>Medium</td>\n",
       "      <td>Medium</td>\n",
       "    </tr>\n",
       "  </tbody>\n",
       "</table>\n",
       "</div>"
      ],
      "text/plain": [
       "Outlet_Type Grocery Store Supermarket Type1 Supermarket Type2  \\\n",
       "Outlet_Size         Small             Small            Medium   \n",
       "\n",
       "Outlet_Type Supermarket Type3  \n",
       "Outlet_Size            Medium  "
      ]
     },
     "execution_count": 1048,
     "metadata": {},
     "output_type": "execute_result"
    }
   ],
   "source": [
    "mode_of_Outlet_Type=df.pivot_table(values='Outlet_Size', columns='Outlet_Type', aggfunc='last')\n",
    "mode_of_Outlet_Type"
   ]
  },
  {
   "cell_type": "code",
   "execution_count": 1049,
   "id": "22125f12",
   "metadata": {},
   "outputs": [],
   "source": [
    "missing_values=df['Outlet_Size'].isnull()\n",
    "df.loc[missing_values, 'Outlet_Size'] = df.loc[missing_values,'Outlet_Type'].apply(lambda x: mode_of_Outlet_Type[x])"
   ]
  },
  {
   "cell_type": "markdown",
   "id": "1d3ebedb",
   "metadata": {},
   "source": [
    "#### Dropping all the rows which has NaN values"
   ]
  },
  {
   "cell_type": "code",
   "execution_count": 1050,
   "id": "b5aeb88e",
   "metadata": {},
   "outputs": [],
   "source": [
    "df=df.dropna(axis=0)"
   ]
  },
  {
   "cell_type": "markdown",
   "id": "1dc9d7e2",
   "metadata": {},
   "source": [
    "#### Now checking the unique values of each columns and make them correct."
   ]
  },
  {
   "cell_type": "code",
   "execution_count": 1051,
   "id": "b9ded683",
   "metadata": {},
   "outputs": [
    {
     "data": {
      "text/plain": [
       "array(['Low Fat', 'Regular', 'low fat', 'LF', 'reg'], dtype=object)"
      ]
     },
     "execution_count": 1051,
     "metadata": {},
     "output_type": "execute_result"
    }
   ],
   "source": [
    "df['Item_Fat_Content'].unique()"
   ]
  },
  {
   "cell_type": "markdown",
   "id": "218202eb",
   "metadata": {},
   "source": [
    "#### As we can see Low fat==LF & low fat. And Regular==rg"
   ]
  },
  {
   "cell_type": "code",
   "execution_count": 1052,
   "id": "68087fd9",
   "metadata": {},
   "outputs": [],
   "source": [
    "replace_values = {'reg' : 'Regular', 'LF' : 'Low Fat', 'low fat' : 'Low Fat' }                                                                                          \n",
    "\n",
    "df= df.replace({\"Item_Fat_Content\": replace_values})  \n"
   ]
  },
  {
   "cell_type": "code",
   "execution_count": 1053,
   "id": "e23c0650",
   "metadata": {},
   "outputs": [
    {
     "data": {
      "text/plain": [
       "array(['Low Fat', 'Regular'], dtype=object)"
      ]
     },
     "execution_count": 1053,
     "metadata": {},
     "output_type": "execute_result"
    }
   ],
   "source": [
    "df['Item_Fat_Content'].unique()"
   ]
  },
  {
   "cell_type": "markdown",
   "id": "bd65a163",
   "metadata": {},
   "source": [
    "#### Filling visibility NaN values with mean"
   ]
  },
  {
   "cell_type": "code",
   "execution_count": 1054,
   "id": "268b1e47",
   "metadata": {},
   "outputs": [],
   "source": [
    "df_model=df['Item_Visibility'].fillna(value=df['Item_Visibility'].mean())\n"
   ]
  },
  {
   "cell_type": "code",
   "execution_count": null,
   "id": "ba925610",
   "metadata": {},
   "outputs": [],
   "source": []
  },
  {
   "cell_type": "markdown",
   "id": "81fb572a",
   "metadata": {},
   "source": [
    " ## Handling Outliers"
   ]
  },
  {
   "cell_type": "markdown",
   "id": "058351e2",
   "metadata": {},
   "source": [
    "### Checking outliers with Box-Plot"
   ]
  },
  {
   "cell_type": "markdown",
   "id": "4ef3a30f",
   "metadata": {},
   "source": [
    "#### Item_MRP with Item_Type"
   ]
  },
  {
   "cell_type": "code",
   "execution_count": 1055,
   "id": "4af5af91",
   "metadata": {},
   "outputs": [
    {
     "data": {
      "text/plain": [
       "<AxesSubplot:xlabel='Item_MRP', ylabel='Item_Type'>"
      ]
     },
     "execution_count": 1055,
     "metadata": {},
     "output_type": "execute_result"
    },
    {
     "data": {
      "image/png": "[encoded data removed]",
      "text/plain": [
       "<Figure size 432x288 with 1 Axes>"
      ]
     },
     "metadata": {
      "needs_background": "light"
     },
     "output_type": "display_data"
    }
   ],
   "source": [
    "sns.boxplot(data=df, x='Item_MRP',y='Item_Type')"
   ]
  },
  {
   "cell_type": "markdown",
   "id": "9983b0f5",
   "metadata": {},
   "source": [
    "#### Item_Weight with Item_Type"
   ]
  },
  {
   "cell_type": "code",
   "execution_count": 1056,
   "id": "d63212a6",
   "metadata": {},
   "outputs": [
    {
     "data": {
      "text/plain": [
       "<AxesSubplot:xlabel='Item_Weight', ylabel='Item_Type'>"
      ]
     },
     "execution_count": 1056,
     "metadata": {},
     "output_type": "execute_result"
    },
    {
     "data": {
      "image/png": "[encoded data removed]",
      "text/plain": [
       "<Figure size 432x288 with 1 Axes>"
      ]
     },
     "metadata": {
      "needs_background": "light"
     },
     "output_type": "display_data"
    }
   ],
   "source": [
    "sns.boxplot(data=df, x='Item_Weight',y='Item_Type')"
   ]
  },
  {
   "cell_type": "markdown",
   "id": "a7594936",
   "metadata": {},
   "source": [
    " ### Checking outliers with percentile\n",
    " ##### We can see their is not outliers"
   ]
  },
  {
   "cell_type": "code",
   "execution_count": 1057,
   "id": "dcfef68b",
   "metadata": {},
   "outputs": [
    {
     "data": {
      "text/html": [
       "<div>\n",
       "<style scoped>\n",
       "    .dataframe tbody tr th:only-of-type {\n",
       "        vertical-align: middle;\n",
       "    }\n",
       "\n",
       "    .dataframe tbody tr th {\n",
       "        vertical-align: top;\n",
       "    }\n",
       "\n",
       "    .dataframe thead th {\n",
       "        text-align: right;\n",
       "    }\n",
       "</style>\n",
       "<table border=\"1\" class=\"dataframe\">\n",
       "  <thead>\n",
       "    <tr style=\"text-align: right;\">\n",
       "      <th></th>\n",
       "      <th>Item_Weight</th>\n",
       "      <th>Item_Visibility</th>\n",
       "      <th>Item_MRP</th>\n",
       "      <th>Outlet_Establishment_Year</th>\n",
       "      <th>Item_Outlet_Sales</th>\n",
       "    </tr>\n",
       "  </thead>\n",
       "  <tbody>\n",
       "    <tr>\n",
       "      <th>count</th>\n",
       "      <td>7060.000000</td>\n",
       "      <td>7060.000000</td>\n",
       "      <td>7060.000000</td>\n",
       "      <td>7060.000000</td>\n",
       "      <td>7060.000000</td>\n",
       "    </tr>\n",
       "    <tr>\n",
       "      <th>mean</th>\n",
       "      <td>12.857645</td>\n",
       "      <td>0.063963</td>\n",
       "      <td>141.240683</td>\n",
       "      <td>2000.490935</td>\n",
       "      <td>2118.626808</td>\n",
       "    </tr>\n",
       "    <tr>\n",
       "      <th>std</th>\n",
       "      <td>4.643456</td>\n",
       "      <td>0.048625</td>\n",
       "      <td>62.411888</td>\n",
       "      <td>6.588984</td>\n",
       "      <td>1533.445842</td>\n",
       "    </tr>\n",
       "    <tr>\n",
       "      <th>min</th>\n",
       "      <td>4.555000</td>\n",
       "      <td>0.000000</td>\n",
       "      <td>31.490000</td>\n",
       "      <td>1987.000000</td>\n",
       "      <td>33.290000</td>\n",
       "    </tr>\n",
       "    <tr>\n",
       "      <th>25%</th>\n",
       "      <td>8.773750</td>\n",
       "      <td>0.026768</td>\n",
       "      <td>94.143600</td>\n",
       "      <td>1997.000000</td>\n",
       "      <td>922.798800</td>\n",
       "    </tr>\n",
       "    <tr>\n",
       "      <th>50%</th>\n",
       "      <td>12.600000</td>\n",
       "      <td>0.052493</td>\n",
       "      <td>142.729900</td>\n",
       "      <td>2002.000000</td>\n",
       "      <td>1789.670400</td>\n",
       "    </tr>\n",
       "    <tr>\n",
       "      <th>75%</th>\n",
       "      <td>16.850000</td>\n",
       "      <td>0.092774</td>\n",
       "      <td>186.024000</td>\n",
       "      <td>2007.000000</td>\n",
       "      <td>2966.139000</td>\n",
       "    </tr>\n",
       "    <tr>\n",
       "      <th>max</th>\n",
       "      <td>21.350000</td>\n",
       "      <td>0.311090</td>\n",
       "      <td>266.888400</td>\n",
       "      <td>2009.000000</td>\n",
       "      <td>10256.649000</td>\n",
       "    </tr>\n",
       "  </tbody>\n",
       "</table>\n",
       "</div>"
      ],
      "text/plain": [
       "       Item_Weight  Item_Visibility     Item_MRP  Outlet_Establishment_Year  \\\n",
       "count  7060.000000      7060.000000  7060.000000                7060.000000   \n",
       "mean     12.857645         0.063963   141.240683                2000.490935   \n",
       "std       4.643456         0.048625    62.411888                   6.588984   \n",
       "min       4.555000         0.000000    31.490000                1987.000000   \n",
       "25%       8.773750         0.026768    94.143600                1997.000000   \n",
       "50%      12.600000         0.052493   142.729900                2002.000000   \n",
       "75%      16.850000         0.092774   186.024000                2007.000000   \n",
       "max      21.350000         0.311090   266.888400                2009.000000   \n",
       "\n",
       "       Item_Outlet_Sales  \n",
       "count        7060.000000  \n",
       "mean         2118.626808  \n",
       "std          1533.445842  \n",
       "min            33.290000  \n",
       "25%           922.798800  \n",
       "50%          1789.670400  \n",
       "75%          2966.139000  \n",
       "max         10256.649000  "
      ]
     },
     "execution_count": 1057,
     "metadata": {},
     "output_type": "execute_result"
    }
   ],
   "source": [
    "df.describe()"
   ]
  },
  {
   "cell_type": "markdown",
   "id": "67135279",
   "metadata": {},
   "source": [
    "#### Checking outliers of Item_MRP"
   ]
  },
  {
   "cell_type": "code",
   "execution_count": 1058,
   "id": "0997650b",
   "metadata": {},
   "outputs": [
    {
     "name": "stdout",
     "output_type": "stream",
     "text": [
      "-43.00989999999999 323.44849999999997\n"
     ]
    }
   ],
   "source": [
    "iqr=186.026600-94.412000\n",
    "lower_bound_val = 94.412000 -(1.5 * iqr) \n",
    "upper_bound_val = 186.026600 +(1.5 * iqr) \n",
    "\n",
    "print(lower_bound_val,upper_bound_val)"
   ]
  },
  {
   "cell_type": "markdown",
   "id": "63b60a6e",
   "metadata": {},
   "source": [
    "#### Checking outliers of Item_Weight"
   ]
  },
  {
   "cell_type": "code",
   "execution_count": 1059,
   "id": "99a51901",
   "metadata": {},
   "outputs": [
    {
     "name": "stdout",
     "output_type": "stream",
     "text": [
      "-3.4375 28.7825\n"
     ]
    }
   ],
   "source": [
    "iqr=16.700000-8.645000\n",
    "lower_bound_val = 8.645000 -(1.5 * iqr) \n",
    "upper_bound_val = 16.700000 +(1.5 * iqr) \n",
    "\n",
    "print(lower_bound_val,upper_bound_val)"
   ]
  },
  {
   "cell_type": "markdown",
   "id": "12d1b41c",
   "metadata": {},
   "source": [
    "# Expolarity Data Analysis"
   ]
  },
  {
   "cell_type": "markdown",
   "id": "23f90bf2",
   "metadata": {},
   "source": [
    "### We need to answer these questions."
   ]
  },
  {
   "cell_type": "markdown",
   "id": "3d965b31",
   "metadata": {},
   "source": [
    "1. Which store has most sale rate?\n",
    "2. what fat content product most sale in each area?\n",
    "3. What the outlet size effect on sale rate?\n",
    "4. Visibility role in product sale?\n",
    "5. Which product most and least sale on which store?\n",
    "6. Which top 20 item most sold?\n",
    "7. Which outlet type has most sale?\n",
    "8. Which are the most outlet size store?"
   ]
  },
  {
   "cell_type": "markdown",
   "id": "835afefb",
   "metadata": {},
   "source": [
    "### 1. Which store has most sale rate?"
   ]
  },
  {
   "cell_type": "code",
   "execution_count": 1060,
   "id": "7c3b44f7",
   "metadata": {},
   "outputs": [
    {
     "data": {
      "text/html": [
       "<div>\n",
       "<style scoped>\n",
       "    .dataframe tbody tr th:only-of-type {\n",
       "        vertical-align: middle;\n",
       "    }\n",
       "\n",
       "    .dataframe tbody tr th {\n",
       "        vertical-align: top;\n",
       "    }\n",
       "\n",
       "    .dataframe thead th {\n",
       "        text-align: right;\n",
       "    }\n",
       "</style>\n",
       "<table border=\"1\" class=\"dataframe\">\n",
       "  <thead>\n",
       "    <tr style=\"text-align: right;\">\n",
       "      <th></th>\n",
       "      <th>Outlet_Identifier</th>\n",
       "      <th>Item_Outlet_Sales</th>\n",
       "    </tr>\n",
       "  </thead>\n",
       "  <tbody>\n",
       "    <tr>\n",
       "      <th>0</th>\n",
       "      <td>OUT010</td>\n",
       "      <td>1.883402e+05</td>\n",
       "    </tr>\n",
       "    <tr>\n",
       "      <th>1</th>\n",
       "      <td>OUT013</td>\n",
       "      <td>2.142664e+06</td>\n",
       "    </tr>\n",
       "    <tr>\n",
       "      <th>2</th>\n",
       "      <td>OUT017</td>\n",
       "      <td>2.167465e+06</td>\n",
       "    </tr>\n",
       "    <tr>\n",
       "      <th>3</th>\n",
       "      <td>OUT018</td>\n",
       "      <td>1.851823e+06</td>\n",
       "    </tr>\n",
       "    <tr>\n",
       "      <th>4</th>\n",
       "      <td>OUT035</td>\n",
       "      <td>2.268123e+06</td>\n",
       "    </tr>\n",
       "    <tr>\n",
       "      <th>5</th>\n",
       "      <td>OUT045</td>\n",
       "      <td>2.036725e+06</td>\n",
       "    </tr>\n",
       "    <tr>\n",
       "      <th>6</th>\n",
       "      <td>OUT046</td>\n",
       "      <td>2.118395e+06</td>\n",
       "    </tr>\n",
       "    <tr>\n",
       "      <th>7</th>\n",
       "      <td>OUT049</td>\n",
       "      <td>2.183970e+06</td>\n",
       "    </tr>\n",
       "  </tbody>\n",
       "</table>\n",
       "</div>"
      ],
      "text/plain": [
       "  Outlet_Identifier  Item_Outlet_Sales\n",
       "0            OUT010       1.883402e+05\n",
       "1            OUT013       2.142664e+06\n",
       "2            OUT017       2.167465e+06\n",
       "3            OUT018       1.851823e+06\n",
       "4            OUT035       2.268123e+06\n",
       "5            OUT045       2.036725e+06\n",
       "6            OUT046       2.118395e+06\n",
       "7            OUT049       2.183970e+06"
      ]
     },
     "execution_count": 1060,
     "metadata": {},
     "output_type": "execute_result"
    }
   ],
   "source": [
    "store_vice_sale=df.groupby(['Outlet_Identifier'])['Item_Outlet_Sales'].sum().reset_index()\n",
    "store_vice_sale"
   ]
  },
  {
   "cell_type": "code",
   "execution_count": 1061,
   "id": "56415aa6",
   "metadata": {},
   "outputs": [
    {
     "data": {
      "text/plain": [
       "<BarContainer object of 8 artists>"
      ]
     },
     "execution_count": 1061,
     "metadata": {},
     "output_type": "execute_result"
    },
    {
     "data": {
      "image/png": "[encoded data removed]",
      "text/plain": [
       "<Figure size 1008x432 with 1 Axes>"
      ]
     },
     "metadata": {
      "needs_background": "light"
     },
     "output_type": "display_data"
    }
   ],
   "source": [
    "plt.figure(figsize=(14, 6))\n",
    "plt.bar(store_vice_sale['Outlet_Identifier'],store_vice_sale['Item_Outlet_Sales'])"
   ]
  },
  {
   "cell_type": "markdown",
   "id": "6ab539c4",
   "metadata": {},
   "source": [
    "###### Most lowest sale in OUT010 store and highest on OUT035"
   ]
  },
  {
   "cell_type": "markdown",
   "id": "89116d40",
   "metadata": {},
   "source": [
    "### 2. What fat content product most sale in area?"
   ]
  },
  {
   "cell_type": "code",
   "execution_count": 1062,
   "id": "dcc2827d",
   "metadata": {},
   "outputs": [],
   "source": [
    "area_vice_fate_sale=df.groupby(['Outlet_Location_Type','Item_Fat_Content']).count().reset_index()"
   ]
  },
  {
   "cell_type": "code",
   "execution_count": 1063,
   "id": "fd8b92d8",
   "metadata": {},
   "outputs": [
    {
     "data": {
      "text/plain": [
       "Text(0.5, 1.0, 'Sale of each fate product area-vice')"
      ]
     },
     "execution_count": 1063,
     "metadata": {},
     "output_type": "execute_result"
    },
    {
     "data": {
      "image/png": "[encoded data removed]",
      "text/plain": [
       "<Figure size 432x288 with 1 Axes>"
      ]
     },
     "metadata": {
      "needs_background": "light"
     },
     "output_type": "display_data"
    }
   ],
   "source": [
    "sns.barplot(x='Outlet_Location_Type', y=\"Item_Identifier\", hue=\"Item_Fat_Content\", data=area_vice_fate_sale).set_title(\"Sale of each fate product area-vice\")"
   ]
  },
  {
   "cell_type": "markdown",
   "id": "c493a1ba",
   "metadata": {},
   "source": [
    "###### Low fate has most sale in each area"
   ]
  },
  {
   "cell_type": "markdown",
   "id": "c0493319",
   "metadata": {},
   "source": [
    "### 3. What the outlet size effect on sale?"
   ]
  },
  {
   "cell_type": "code",
   "execution_count": 1064,
   "id": "90ed2ad2",
   "metadata": {},
   "outputs": [],
   "source": [
    "Outlet_Size_Effect=df.groupby(['Outlet_Identifier','Outlet_Size'])['Item_Outlet_Sales'].sum().reset_index()"
   ]
  },
  {
   "cell_type": "code",
   "execution_count": 1065,
   "id": "5f7c40c6",
   "metadata": {},
   "outputs": [
    {
     "data": {
      "text/plain": [
       "<matplotlib.legend.Legend at 0x7fcfaf5c8910>"
      ]
     },
     "execution_count": 1065,
     "metadata": {},
     "output_type": "execute_result"
    },
    {
     "data": {
      "image/png": "[encoded data removed]",
      "text/plain": [
       "<Figure size 1080x432 with 1 Axes>"
      ]
     },
     "metadata": {
      "needs_background": "light"
     },
     "output_type": "display_data"
    }
   ],
   "source": [
    "plt.figure(figsize=(15, 6))\n",
    "sns.barplot(x='Outlet_Identifier', y=\"Item_Outlet_Sales\", hue=\"Outlet_Size\", data=Outlet_Size_Effect).set_title(\"Outlet size effect on sale\")\n",
    "plt.legend(bbox_to_anchor =(0.65, 1.25))"
   ]
  },
  {
   "cell_type": "markdown",
   "id": "99422f9b",
   "metadata": {},
   "source": [
    "#### Outlet size does't effect on sale."
   ]
  },
  {
   "cell_type": "markdown",
   "id": "cfdbc918",
   "metadata": {},
   "source": [
    "### 4. Visibility role in product sale?"
   ]
  },
  {
   "cell_type": "code",
   "execution_count": 1066,
   "id": "40e0a802",
   "metadata": {},
   "outputs": [
    {
     "data": {
      "text/plain": [
       "<AxesSubplot:ylabel='Frequency'>"
      ]
     },
     "execution_count": 1066,
     "metadata": {},
     "output_type": "execute_result"
    },
    {
     "data": {
      "image/png": "[encoded data removed]",
      "text/plain": [
       "<Figure size 432x288 with 1 Axes>"
      ]
     },
     "metadata": {
      "needs_background": "light"
     },
     "output_type": "display_data"
    }
   ],
   "source": [
    "df['Item_Visibility'].plot.hist(bins=12, alpha=0.5)"
   ]
  },
  {
   "cell_type": "code",
   "execution_count": 1067,
   "id": "b95a8f3f",
   "metadata": {},
   "outputs": [],
   "source": [
    "df['Visibility']=0\n",
    "df['Visibility']=pd.cut(df.Item_Visibility,[0,0.05,0.10,0.15,0.20,0.25,0.30]).astype(str)"
   ]
  },
  {
   "cell_type": "code",
   "execution_count": 1068,
   "id": "8ec6ca96",
   "metadata": {},
   "outputs": [
    {
     "data": {
      "text/html": [
       "<div>\n",
       "<style scoped>\n",
       "    .dataframe tbody tr th:only-of-type {\n",
       "        vertical-align: middle;\n",
       "    }\n",
       "\n",
       "    .dataframe tbody tr th {\n",
       "        vertical-align: top;\n",
       "    }\n",
       "\n",
       "    .dataframe thead th {\n",
       "        text-align: right;\n",
       "    }\n",
       "</style>\n",
       "<table border=\"1\" class=\"dataframe\">\n",
       "  <thead>\n",
       "    <tr style=\"text-align: right;\">\n",
       "      <th></th>\n",
       "      <th>Visibility</th>\n",
       "      <th>Item_Type</th>\n",
       "    </tr>\n",
       "  </thead>\n",
       "  <tbody>\n",
       "    <tr>\n",
       "      <th>0</th>\n",
       "      <td>(0.0, 0.05]</td>\n",
       "      <td>2989</td>\n",
       "    </tr>\n",
       "    <tr>\n",
       "      <th>1</th>\n",
       "      <td>(0.05, 0.1]</td>\n",
       "      <td>2117</td>\n",
       "    </tr>\n",
       "    <tr>\n",
       "      <th>2</th>\n",
       "      <td>(0.1, 0.15]</td>\n",
       "      <td>1054</td>\n",
       "    </tr>\n",
       "    <tr>\n",
       "      <th>3</th>\n",
       "      <td>(0.15, 0.2]</td>\n",
       "      <td>402</td>\n",
       "    </tr>\n",
       "    <tr>\n",
       "      <th>4</th>\n",
       "      <td>(0.2, 0.25]</td>\n",
       "      <td>40</td>\n",
       "    </tr>\n",
       "    <tr>\n",
       "      <th>5</th>\n",
       "      <td>(0.25, 0.3]</td>\n",
       "      <td>20</td>\n",
       "    </tr>\n",
       "  </tbody>\n",
       "</table>\n",
       "</div>"
      ],
      "text/plain": [
       "    Visibility  Item_Type\n",
       "0  (0.0, 0.05]       2989\n",
       "1  (0.05, 0.1]       2117\n",
       "2  (0.1, 0.15]       1054\n",
       "3  (0.15, 0.2]        402\n",
       "4  (0.2, 0.25]         40\n",
       "5  (0.25, 0.3]         20"
      ]
     },
     "execution_count": 1068,
     "metadata": {},
     "output_type": "execute_result"
    }
   ],
   "source": [
    "df.groupby(['Visibility'])['Item_Type'].count().reset_index()"
   ]
  },
  {
   "cell_type": "markdown",
   "id": "d50e6817",
   "metadata": {},
   "source": [
    "###### The product those visibility were less most sold. "
   ]
  },
  {
   "cell_type": "markdown",
   "id": "ed6e6b6b",
   "metadata": {},
   "source": [
    "### 5. Which product most and least sale on which store?"
   ]
  },
  {
   "cell_type": "code",
   "execution_count": 1069,
   "id": "fbd7ba11",
   "metadata": {},
   "outputs": [
    {
     "data": {
      "text/html": [
       "<div>\n",
       "<style scoped>\n",
       "    .dataframe tbody tr th:only-of-type {\n",
       "        vertical-align: middle;\n",
       "    }\n",
       "\n",
       "    .dataframe tbody tr th {\n",
       "        vertical-align: top;\n",
       "    }\n",
       "\n",
       "    .dataframe thead th {\n",
       "        text-align: right;\n",
       "    }\n",
       "</style>\n",
       "<table border=\"1\" class=\"dataframe\">\n",
       "  <thead>\n",
       "    <tr style=\"text-align: right;\">\n",
       "      <th></th>\n",
       "      <th>Outlet_Identifier</th>\n",
       "      <th>Item_Type</th>\n",
       "      <th>Item_Outlet_Sales</th>\n",
       "    </tr>\n",
       "  </thead>\n",
       "  <tbody>\n",
       "    <tr>\n",
       "      <th>0</th>\n",
       "      <td>OUT010</td>\n",
       "      <td>Baking Goods</td>\n",
       "      <td>10693.4138</td>\n",
       "    </tr>\n",
       "    <tr>\n",
       "      <th>1</th>\n",
       "      <td>OUT010</td>\n",
       "      <td>Breads</td>\n",
       "      <td>7657.3658</td>\n",
       "    </tr>\n",
       "    <tr>\n",
       "      <th>2</th>\n",
       "      <td>OUT010</td>\n",
       "      <td>Breakfast</td>\n",
       "      <td>4081.3540</td>\n",
       "    </tr>\n",
       "    <tr>\n",
       "      <th>3</th>\n",
       "      <td>OUT010</td>\n",
       "      <td>Canned</td>\n",
       "      <td>9019.5926</td>\n",
       "    </tr>\n",
       "    <tr>\n",
       "      <th>4</th>\n",
       "      <td>OUT010</td>\n",
       "      <td>Dairy</td>\n",
       "      <td>15307.4078</td>\n",
       "    </tr>\n",
       "  </tbody>\n",
       "</table>\n",
       "</div>"
      ],
      "text/plain": [
       "  Outlet_Identifier     Item_Type  Item_Outlet_Sales\n",
       "0            OUT010  Baking Goods         10693.4138\n",
       "1            OUT010        Breads          7657.3658\n",
       "2            OUT010     Breakfast          4081.3540\n",
       "3            OUT010        Canned          9019.5926\n",
       "4            OUT010         Dairy         15307.4078"
      ]
     },
     "execution_count": 1069,
     "metadata": {},
     "output_type": "execute_result"
    }
   ],
   "source": [
    "df.groupby(['Outlet_Identifier','Item_Type'])['Item_Outlet_Sales'].sum().reset_index().head()"
   ]
  },
  {
   "cell_type": "code",
   "execution_count": 1070,
   "id": "d672fd5b",
   "metadata": {},
   "outputs": [
    {
     "data": {
      "image/png": "[encoded data removed]",
      "text/plain": [
       "<Figure size 1728x1440 with 8 Axes>"
      ]
     },
     "metadata": {
      "needs_background": "light"
     },
     "output_type": "display_data"
    }
   ],
   "source": [
    "plt.figure(figsize=(24,20))\n",
    "plotnumber=1\n",
    "for i in df[\"Outlet_Identifier\"].unique():\n",
    "    df1=df[df[\"Outlet_Identifier\"]==i]\n",
    "    df1=df1.groupby([\"Item_Type\"])[\"Item_Outlet_Sales\"].agg([\"sum\"]).sort_values(by=\"sum\",ascending=False)\n",
    "    df1=pd.DataFrame(df1)\n",
    "    df1.reset_index(inplace=True)\n",
    "    df2=df1[(df1[\"sum\"]==df1[\"sum\"].max())|(df1[\"sum\"]==df1[\"sum\"].min())]\n",
    "    if plotnumber<=10 :\n",
    "        plt.subplot(4,3,plotnumber)\n",
    "        plt.bar(df2[\"Item_Type\"],df2[\"sum\"])\n",
    "        plt.title(i)\n",
    "        plt.ylabel(\"Product sale\",fontsize=20)\n",
    "        plt.xlabel(\"Product\",fontsize=10)\n",
    "    plotnumber+=1\n",
    "plt.show()"
   ]
  },
  {
   "cell_type": "markdown",
   "id": "ef5e964b",
   "metadata": {},
   "source": [
    "### 6. Which top 20 item most sold?"
   ]
  },
  {
   "cell_type": "code",
   "execution_count": 1071,
   "id": "803dc086",
   "metadata": {},
   "outputs": [
    {
     "data": {
      "text/html": [
       "<div>\n",
       "<style scoped>\n",
       "    .dataframe tbody tr th:only-of-type {\n",
       "        vertical-align: middle;\n",
       "    }\n",
       "\n",
       "    .dataframe tbody tr th {\n",
       "        vertical-align: top;\n",
       "    }\n",
       "\n",
       "    .dataframe thead th {\n",
       "        text-align: right;\n",
       "    }\n",
       "</style>\n",
       "<table border=\"1\" class=\"dataframe\">\n",
       "  <thead>\n",
       "    <tr style=\"text-align: right;\">\n",
       "      <th></th>\n",
       "      <th>Item_Identifier</th>\n",
       "      <th>Item_Outlet_Sales</th>\n",
       "    </tr>\n",
       "  </thead>\n",
       "  <tbody>\n",
       "    <tr>\n",
       "      <th>156</th>\n",
       "      <td>FDA15</td>\n",
       "      <td>35110.2972</td>\n",
       "    </tr>\n",
       "    <tr>\n",
       "      <th>1206</th>\n",
       "      <td>FDY55</td>\n",
       "      <td>33152.8452</td>\n",
       "    </tr>\n",
       "    <tr>\n",
       "      <th>305</th>\n",
       "      <td>FDD44</td>\n",
       "      <td>32723.4042</td>\n",
       "    </tr>\n",
       "    <tr>\n",
       "      <th>358</th>\n",
       "      <td>FDF05</td>\n",
       "      <td>31032.9380</td>\n",
       "    </tr>\n",
       "    <tr>\n",
       "      <th>614</th>\n",
       "      <td>FDL58</td>\n",
       "      <td>30584.1888</td>\n",
       "    </tr>\n",
       "    <tr>\n",
       "      <th>148</th>\n",
       "      <td>FDA04</td>\n",
       "      <td>30043.5592</td>\n",
       "    </tr>\n",
       "    <tr>\n",
       "      <th>357</th>\n",
       "      <td>FDF04</td>\n",
       "      <td>29707.9960</td>\n",
       "    </tr>\n",
       "    <tr>\n",
       "      <th>1548</th>\n",
       "      <td>NCZ18</td>\n",
       "      <td>28918.3572</td>\n",
       "    </tr>\n",
       "    <tr>\n",
       "      <th>1460</th>\n",
       "      <td>NCQ53</td>\n",
       "      <td>28835.7980</td>\n",
       "    </tr>\n",
       "    <tr>\n",
       "      <th>1226</th>\n",
       "      <td>FDZ20</td>\n",
       "      <td>28739.9228</td>\n",
       "    </tr>\n",
       "    <tr>\n",
       "      <th>1450</th>\n",
       "      <td>NCQ06</td>\n",
       "      <td>27795.1526</td>\n",
       "    </tr>\n",
       "    <tr>\n",
       "      <th>295</th>\n",
       "      <td>FDD29</td>\n",
       "      <td>27650.0082</td>\n",
       "    </tr>\n",
       "    <tr>\n",
       "      <th>201</th>\n",
       "      <td>FDB15</td>\n",
       "      <td>27156.6504</td>\n",
       "    </tr>\n",
       "    <tr>\n",
       "      <th>1538</th>\n",
       "      <td>NCY18</td>\n",
       "      <td>26966.2316</td>\n",
       "    </tr>\n",
       "    <tr>\n",
       "      <th>543</th>\n",
       "      <td>FDK03</td>\n",
       "      <td>26705.2380</td>\n",
       "    </tr>\n",
       "    <tr>\n",
       "      <th>862</th>\n",
       "      <td>FDR59</td>\n",
       "      <td>26689.2588</td>\n",
       "    </tr>\n",
       "    <tr>\n",
       "      <th>537</th>\n",
       "      <td>FDJ55</td>\n",
       "      <td>26329.7268</td>\n",
       "    </tr>\n",
       "    <tr>\n",
       "      <th>613</th>\n",
       "      <td>FDL57</td>\n",
       "      <td>26091.3704</td>\n",
       "    </tr>\n",
       "    <tr>\n",
       "      <th>369</th>\n",
       "      <td>FDF22</td>\n",
       "      <td>25860.3378</td>\n",
       "    </tr>\n",
       "    <tr>\n",
       "      <th>419</th>\n",
       "      <td>FDG45</td>\n",
       "      <td>25486.8240</td>\n",
       "    </tr>\n",
       "  </tbody>\n",
       "</table>\n",
       "</div>"
      ],
      "text/plain": [
       "     Item_Identifier  Item_Outlet_Sales\n",
       "156            FDA15         35110.2972\n",
       "1206           FDY55         33152.8452\n",
       "305            FDD44         32723.4042\n",
       "358            FDF05         31032.9380\n",
       "614            FDL58         30584.1888\n",
       "148            FDA04         30043.5592\n",
       "357            FDF04         29707.9960\n",
       "1548           NCZ18         28918.3572\n",
       "1460           NCQ53         28835.7980\n",
       "1226           FDZ20         28739.9228\n",
       "1450           NCQ06         27795.1526\n",
       "295            FDD29         27650.0082\n",
       "201            FDB15         27156.6504\n",
       "1538           NCY18         26966.2316\n",
       "543            FDK03         26705.2380\n",
       "862            FDR59         26689.2588\n",
       "537            FDJ55         26329.7268\n",
       "613            FDL57         26091.3704\n",
       "369            FDF22         25860.3378\n",
       "419            FDG45         25486.8240"
      ]
     },
     "execution_count": 1071,
     "metadata": {},
     "output_type": "execute_result"
    }
   ],
   "source": [
    "df.groupby(['Item_Identifier'])['Item_Outlet_Sales'].sum().reset_index().nlargest(20, ['Item_Outlet_Sales'])"
   ]
  },
  {
   "cell_type": "markdown",
   "id": "1e5f02cc",
   "metadata": {},
   "source": [
    "### 7. Which outlet type has most sale?"
   ]
  },
  {
   "cell_type": "code",
   "execution_count": 1072,
   "id": "5ed3e988",
   "metadata": {},
   "outputs": [],
   "source": [
    "most_sale_by_outlettype_df=df.groupby(['Outlet_Type'])['Item_Outlet_Sales'].sum().reset_index()"
   ]
  },
  {
   "cell_type": "code",
   "execution_count": 1073,
   "id": "ca739c1e",
   "metadata": {},
   "outputs": [
    {
     "data": {
      "text/plain": [
       "<BarContainer object of 3 artists>"
      ]
     },
     "execution_count": 1073,
     "metadata": {},
     "output_type": "execute_result"
    },
    {
     "data": {
      "image/png": "[encoded data removed]",
      "text/plain": [
       "<Figure size 1008x432 with 1 Axes>"
      ]
     },
     "metadata": {
      "needs_background": "light"
     },
     "output_type": "display_data"
    }
   ],
   "source": [
    "plt.figure(figsize=(14, 6))\n",
    "plt.bar(most_sale_by_outlettype_df['Outlet_Type'],most_sale_by_outlettype_df['Item_Outlet_Sales'])"
   ]
  },
  {
   "cell_type": "markdown",
   "id": "6f843bda",
   "metadata": {},
   "source": [
    "###### Super market type1 has most sale rate"
   ]
  },
  {
   "cell_type": "markdown",
   "id": "3b4c5246",
   "metadata": {},
   "source": [
    "### 8. Which are the most outlet size store?"
   ]
  },
  {
   "cell_type": "code",
   "execution_count": 1074,
   "id": "aba899bc",
   "metadata": {},
   "outputs": [
    {
     "data": {
      "text/plain": [
       "<BarContainer object of 3 artists>"
      ]
     },
     "execution_count": 1074,
     "metadata": {},
     "output_type": "execute_result"
    },
    {
     "data": {
      "image/png": "[encoded data removed]",
      "text/plain": [
       "<Figure size 1008x432 with 1 Axes>"
      ]
     },
     "metadata": {
      "needs_background": "light"
     },
     "output_type": "display_data"
    }
   ],
   "source": [
    "most_outlet_size_store=df.groupby(['Outlet_Type','Outlet_Identifier','Outlet_Size'])['Item_Outlet_Sales'].sum().reset_index()\n",
    "most_outlet_size_store=most_outlet_size_store.groupby(['Outlet_Type'])['Outlet_Size'].count().reset_index()\n",
    "plt.figure(figsize=(14, 6))\n",
    "plt.bar(most_outlet_size_store['Outlet_Type'],most_outlet_size_store['Outlet_Size'])"
   ]
  },
  {
   "cell_type": "markdown",
   "id": "bec74be2",
   "metadata": {},
   "source": [
    "###### As we seen most market are Supermarket Type 1, and they have best selling"
   ]
  },
  {
   "cell_type": "markdown",
   "id": "88292933",
   "metadata": {},
   "source": [
    "# Converting Categorical To Numerical"
   ]
  },
  {
   "cell_type": "code",
   "execution_count": 1075,
   "id": "d586a279",
   "metadata": {},
   "outputs": [],
   "source": [
    "label_encoder = LabelEncoder()\n",
    "df['Outlet_Type']=label_encoder.fit_transform(df['Outlet_Type'])\n",
    "df['Outlet_Location_Type']=label_encoder.fit_transform(df['Outlet_Location_Type'])\n",
    "df['Outlet_Size']=label_encoder.fit_transform(df['Outlet_Size'])\n",
    "df['Item_Identifier']=label_encoder.fit_transform(df['Item_Identifier'])\n",
    "df['Item_Fat_Content']=label_encoder.fit_transform(df['Item_Fat_Content'])\n",
    "df['Outlet_Identifier']=label_encoder.fit_transform(df['Outlet_Identifier'])\n",
    "df['Item_Type']=label_encoder.fit_transform(df['Item_Type'])"
   ]
  },
  {
   "cell_type": "code",
   "execution_count": 1076,
   "id": "82ee1e6e",
   "metadata": {},
   "outputs": [
    {
     "data": {
      "text/html": [
       "<style  type=\"text/css\" >\n",
       "#T_12221_row0_col0,#T_12221_row1_col1,#T_12221_row2_col2,#T_12221_row3_col3,#T_12221_row4_col4,#T_12221_row5_col5,#T_12221_row6_col6,#T_12221_row7_col7,#T_12221_row8_col8{\n",
       "            background-color:  #b40426;\n",
       "            color:  #f1f1f1;\n",
       "        }#T_12221_row0_col1{\n",
       "            background-color:  #5a78e4;\n",
       "            color:  #000000;\n",
       "        }#T_12221_row0_col2{\n",
       "            background-color:  #5f7fe8;\n",
       "            color:  #000000;\n",
       "        }#T_12221_row0_col3{\n",
       "            background-color:  #6a8bef;\n",
       "            color:  #000000;\n",
       "        }#T_12221_row0_col4{\n",
       "            background-color:  #445acc;\n",
       "            color:  #f1f1f1;\n",
       "        }#T_12221_row0_col5,#T_12221_row0_col8,#T_12221_row2_col3{\n",
       "            background-color:  #5673e0;\n",
       "            color:  #000000;\n",
       "        }#T_12221_row0_col6{\n",
       "            background-color:  #85a8fc;\n",
       "            color:  #000000;\n",
       "        }#T_12221_row0_col7,#T_12221_row1_col6,#T_12221_row1_col7,#T_12221_row3_col6,#T_12221_row3_col7,#T_12221_row4_col6,#T_12221_row5_col8,#T_12221_row7_col8{\n",
       "            background-color:  #89acfd;\n",
       "            color:  #000000;\n",
       "        }#T_12221_row1_col0,#T_12221_row1_col3,#T_12221_row2_col4,#T_12221_row2_col5,#T_12221_row2_col8,#T_12221_row3_col1,#T_12221_row6_col7,#T_12221_row7_col2,#T_12221_row7_col6{\n",
       "            background-color:  #3b4cc0;\n",
       "            color:  #f1f1f1;\n",
       "        }#T_12221_row1_col2,#T_12221_row6_col2{\n",
       "            background-color:  #7396f5;\n",
       "            color:  #000000;\n",
       "        }#T_12221_row1_col4,#T_12221_row2_col0,#T_12221_row5_col4,#T_12221_row6_col0,#T_12221_row7_col4{\n",
       "            background-color:  #3d50c3;\n",
       "            color:  #f1f1f1;\n",
       "        }#T_12221_row1_col5,#T_12221_row3_col5,#T_12221_row3_col8,#T_12221_row4_col5{\n",
       "            background-color:  #5977e3;\n",
       "            color:  #000000;\n",
       "        }#T_12221_row1_col8,#T_12221_row3_col2{\n",
       "            background-color:  #5875e1;\n",
       "            color:  #000000;\n",
       "        }#T_12221_row2_col1{\n",
       "            background-color:  #7093f3;\n",
       "            color:  #000000;\n",
       "        }#T_12221_row2_col6{\n",
       "            background-color:  #98b9ff;\n",
       "            color:  #000000;\n",
       "        }#T_12221_row2_col7,#T_12221_row4_col1,#T_12221_row4_col2,#T_12221_row5_col1,#T_12221_row5_col3,#T_12221_row6_col3,#T_12221_row7_col1{\n",
       "            background-color:  #6282ea;\n",
       "            color:  #000000;\n",
       "        }#T_12221_row3_col0{\n",
       "            background-color:  #4a63d3;\n",
       "            color:  #f1f1f1;\n",
       "        }#T_12221_row3_col4{\n",
       "            background-color:  #465ecf;\n",
       "            color:  #f1f1f1;\n",
       "        }#T_12221_row4_col0{\n",
       "            background-color:  #4961d2;\n",
       "            color:  #f1f1f1;\n",
       "        }#T_12221_row4_col3{\n",
       "            background-color:  #6b8df0;\n",
       "            color:  #000000;\n",
       "        }#T_12221_row4_col7{\n",
       "            background-color:  #8badfd;\n",
       "            color:  #000000;\n",
       "        }#T_12221_row4_col8{\n",
       "            background-color:  #f6bda2;\n",
       "            color:  #000000;\n",
       "        }#T_12221_row5_col0{\n",
       "            background-color:  #3f53c6;\n",
       "            color:  #f1f1f1;\n",
       "        }#T_12221_row5_col2,#T_12221_row8_col0{\n",
       "            background-color:  #455cce;\n",
       "            color:  #f1f1f1;\n",
       "        }#T_12221_row5_col6{\n",
       "            background-color:  #c5d6f2;\n",
       "            color:  #000000;\n",
       "        }#T_12221_row5_col7{\n",
       "            background-color:  #bed2f6;\n",
       "            color:  #000000;\n",
       "        }#T_12221_row6_col1,#T_12221_row7_col3{\n",
       "            background-color:  #6180e9;\n",
       "            color:  #000000;\n",
       "        }#T_12221_row6_col4{\n",
       "            background-color:  #3c4ec2;\n",
       "            color:  #f1f1f1;\n",
       "        }#T_12221_row6_col5{\n",
       "            background-color:  #a1c0ff;\n",
       "            color:  #000000;\n",
       "        }#T_12221_row6_col8{\n",
       "            background-color:  #4257c9;\n",
       "            color:  #f1f1f1;\n",
       "        }#T_12221_row7_col0{\n",
       "            background-color:  #4055c8;\n",
       "            color:  #f1f1f1;\n",
       "        }#T_12221_row7_col5{\n",
       "            background-color:  #97b8ff;\n",
       "            color:  #000000;\n",
       "        }#T_12221_row8_col1{\n",
       "            background-color:  #6687ed;\n",
       "            color:  #000000;\n",
       "        }#T_12221_row8_col2{\n",
       "            background-color:  #4b64d5;\n",
       "            color:  #f1f1f1;\n",
       "        }#T_12221_row8_col3{\n",
       "            background-color:  #6788ee;\n",
       "            color:  #000000;\n",
       "        }#T_12221_row8_col4{\n",
       "            background-color:  #f4c5ad;\n",
       "            color:  #000000;\n",
       "        }#T_12221_row8_col5{\n",
       "            background-color:  #8fb1fe;\n",
       "            color:  #000000;\n",
       "        }#T_12221_row8_col6{\n",
       "            background-color:  #7a9df8;\n",
       "            color:  #000000;\n",
       "        }#T_12221_row8_col7{\n",
       "            background-color:  #b9d0f9;\n",
       "            color:  #000000;\n",
       "        }</style><table id=\"T_12221_\" ><thead>    <tr>        <th class=\"blank level0\" ></th>        <th class=\"col_heading level0 col0\" >Item_Weight</th>        <th class=\"col_heading level0 col1\" >Item_Fat_Content</th>        <th class=\"col_heading level0 col2\" >Item_Visibility</th>        <th class=\"col_heading level0 col3\" >Item_Type</th>        <th class=\"col_heading level0 col4\" >Item_MRP</th>        <th class=\"col_heading level0 col5\" >Outlet_Identifier</th>        <th class=\"col_heading level0 col6\" >Outlet_Size</th>        <th class=\"col_heading level0 col7\" >Outlet_Type</th>        <th class=\"col_heading level0 col8\" >Item_Outlet_Sales</th>    </tr></thead><tbody>\n",
       "                <tr>\n",
       "                        <th id=\"T_12221_level0_row0\" class=\"row_heading level0 row0\" >Item_Weight</th>\n",
       "                        <td id=\"T_12221_row0_col0\" class=\"data row0 col0\" >1.000000</td>\n",
       "                        <td id=\"T_12221_row0_col1\" class=\"data row0 col1\" >-0.023238</td>\n",
       "                        <td id=\"T_12221_row0_col2\" class=\"data row0 col2\" >-0.014048</td>\n",
       "                        <td id=\"T_12221_row0_col3\" class=\"data row0 col3\" >0.030765</td>\n",
       "                        <td id=\"T_12221_row0_col4\" class=\"data row0 col4\" >0.027141</td>\n",
       "                        <td id=\"T_12221_row0_col5\" class=\"data row0 col5\" >-0.006993</td>\n",
       "                        <td id=\"T_12221_row0_col6\" class=\"data row0 col6\" >-0.014775</td>\n",
       "                        <td id=\"T_12221_row0_col7\" class=\"data row0 col7\" >-0.001088</td>\n",
       "                        <td id=\"T_12221_row0_col8\" class=\"data row0 col8\" >0.014123</td>\n",
       "            </tr>\n",
       "            <tr>\n",
       "                        <th id=\"T_12221_level0_row1\" class=\"row_heading level0 row1\" >Item_Fat_Content</th>\n",
       "                        <td id=\"T_12221_row1_col0\" class=\"data row1 col0\" >-0.023238</td>\n",
       "                        <td id=\"T_12221_row1_col1\" class=\"data row1 col1\" >1.000000</td>\n",
       "                        <td id=\"T_12221_row1_col2\" class=\"data row1 col2\" >0.053994</td>\n",
       "                        <td id=\"T_12221_row1_col3\" class=\"data row1 col3\" >-0.142228</td>\n",
       "                        <td id=\"T_12221_row1_col4\" class=\"data row1 col4\" >0.001843</td>\n",
       "                        <td id=\"T_12221_row1_col5\" class=\"data row1 col5\" >0.001773</td>\n",
       "                        <td id=\"T_12221_row1_col6\" class=\"data row1 col6\" >-0.000486</td>\n",
       "                        <td id=\"T_12221_row1_col7\" class=\"data row1 col7\" >0.001455</td>\n",
       "                        <td id=\"T_12221_row1_col8\" class=\"data row1 col8\" >0.017424</td>\n",
       "            </tr>\n",
       "            <tr>\n",
       "                        <th id=\"T_12221_level0_row2\" class=\"row_heading level0 row2\" >Item_Visibility</th>\n",
       "                        <td id=\"T_12221_row2_col0\" class=\"data row2 col0\" >-0.014048</td>\n",
       "                        <td id=\"T_12221_row2_col1\" class=\"data row2 col1\" >0.053994</td>\n",
       "                        <td id=\"T_12221_row2_col2\" class=\"data row2 col2\" >1.000000</td>\n",
       "                        <td id=\"T_12221_row2_col3\" class=\"data row2 col3\" >-0.038977</td>\n",
       "                        <td id=\"T_12221_row2_col4\" class=\"data row2 col4\" >-0.006061</td>\n",
       "                        <td id=\"T_12221_row2_col5\" class=\"data row2 col5\" >-0.109911</td>\n",
       "                        <td id=\"T_12221_row2_col6\" class=\"data row2 col6\" >0.053436</td>\n",
       "                        <td id=\"T_12221_row2_col7\" class=\"data row2 col7\" >-0.150666</td>\n",
       "                        <td id=\"T_12221_row2_col8\" class=\"data row2 col8\" >-0.085334</td>\n",
       "            </tr>\n",
       "            <tr>\n",
       "                        <th id=\"T_12221_level0_row3\" class=\"row_heading level0 row3\" >Item_Type</th>\n",
       "                        <td id=\"T_12221_row3_col0\" class=\"data row3 col0\" >0.030765</td>\n",
       "                        <td id=\"T_12221_row3_col1\" class=\"data row3 col1\" >-0.142228</td>\n",
       "                        <td id=\"T_12221_row3_col2\" class=\"data row3 col2\" >-0.038977</td>\n",
       "                        <td id=\"T_12221_row3_col3\" class=\"data row3 col3\" >1.000000</td>\n",
       "                        <td id=\"T_12221_row3_col4\" class=\"data row3 col4\" >0.035628</td>\n",
       "                        <td id=\"T_12221_row3_col5\" class=\"data row3 col5\" >0.000780</td>\n",
       "                        <td id=\"T_12221_row3_col6\" class=\"data row3 col6\" >0.001455</td>\n",
       "                        <td id=\"T_12221_row3_col7\" class=\"data row3 col7\" >-0.000922</td>\n",
       "                        <td id=\"T_12221_row3_col8\" class=\"data row3 col8\" >0.022231</td>\n",
       "            </tr>\n",
       "            <tr>\n",
       "                        <th id=\"T_12221_level0_row4\" class=\"row_heading level0 row4\" >Item_MRP</th>\n",
       "                        <td id=\"T_12221_row4_col0\" class=\"data row4 col0\" >0.027141</td>\n",
       "                        <td id=\"T_12221_row4_col1\" class=\"data row4 col1\" >0.001843</td>\n",
       "                        <td id=\"T_12221_row4_col2\" class=\"data row4 col2\" >-0.006061</td>\n",
       "                        <td id=\"T_12221_row4_col3\" class=\"data row4 col3\" >0.035628</td>\n",
       "                        <td id=\"T_12221_row4_col4\" class=\"data row4 col4\" >1.000000</td>\n",
       "                        <td id=\"T_12221_row4_col5\" class=\"data row4 col5\" >0.002156</td>\n",
       "                        <td id=\"T_12221_row4_col6\" class=\"data row4 col6\" >0.000397</td>\n",
       "                        <td id=\"T_12221_row4_col7\" class=\"data row4 col7\" >0.003307</td>\n",
       "                        <td id=\"T_12221_row4_col8\" class=\"data row4 col8\" >0.620961</td>\n",
       "            </tr>\n",
       "            <tr>\n",
       "                        <th id=\"T_12221_level0_row5\" class=\"row_heading level0 row5\" >Outlet_Identifier</th>\n",
       "                        <td id=\"T_12221_row5_col0\" class=\"data row5 col0\" >-0.006993</td>\n",
       "                        <td id=\"T_12221_row5_col1\" class=\"data row5 col1\" >0.001773</td>\n",
       "                        <td id=\"T_12221_row5_col2\" class=\"data row5 col2\" >-0.109911</td>\n",
       "                        <td id=\"T_12221_row5_col3\" class=\"data row5 col3\" >0.000780</td>\n",
       "                        <td id=\"T_12221_row5_col4\" class=\"data row5 col4\" >0.002156</td>\n",
       "                        <td id=\"T_12221_row5_col5\" class=\"data row5 col5\" >1.000000</td>\n",
       "                        <td id=\"T_12221_row5_col6\" class=\"data row5 col6\" >0.229989</td>\n",
       "                        <td id=\"T_12221_row5_col7\" class=\"data row5 col7\" >0.199126</td>\n",
       "                        <td id=\"T_12221_row5_col8\" class=\"data row5 col8\" >0.174302</td>\n",
       "            </tr>\n",
       "            <tr>\n",
       "                        <th id=\"T_12221_level0_row6\" class=\"row_heading level0 row6\" >Outlet_Size</th>\n",
       "                        <td id=\"T_12221_row6_col0\" class=\"data row6 col0\" >-0.014775</td>\n",
       "                        <td id=\"T_12221_row6_col1\" class=\"data row6 col1\" >-0.000486</td>\n",
       "                        <td id=\"T_12221_row6_col2\" class=\"data row6 col2\" >0.053436</td>\n",
       "                        <td id=\"T_12221_row6_col3\" class=\"data row6 col3\" >0.001455</td>\n",
       "                        <td id=\"T_12221_row6_col4\" class=\"data row6 col4\" >0.000397</td>\n",
       "                        <td id=\"T_12221_row6_col5\" class=\"data row6 col5\" >0.229989</td>\n",
       "                        <td id=\"T_12221_row6_col6\" class=\"data row6 col6\" >1.000000</td>\n",
       "                        <td id=\"T_12221_row6_col7\" class=\"data row6 col7\" >-0.317601</td>\n",
       "                        <td id=\"T_12221_row6_col8\" class=\"data row6 col8\" >-0.056164</td>\n",
       "            </tr>\n",
       "            <tr>\n",
       "                        <th id=\"T_12221_level0_row7\" class=\"row_heading level0 row7\" >Outlet_Type</th>\n",
       "                        <td id=\"T_12221_row7_col0\" class=\"data row7 col0\" >-0.001088</td>\n",
       "                        <td id=\"T_12221_row7_col1\" class=\"data row7 col1\" >0.001455</td>\n",
       "                        <td id=\"T_12221_row7_col2\" class=\"data row7 col2\" >-0.150666</td>\n",
       "                        <td id=\"T_12221_row7_col3\" class=\"data row7 col3\" >-0.000922</td>\n",
       "                        <td id=\"T_12221_row7_col4\" class=\"data row7 col4\" >0.003307</td>\n",
       "                        <td id=\"T_12221_row7_col5\" class=\"data row7 col5\" >0.199126</td>\n",
       "                        <td id=\"T_12221_row7_col6\" class=\"data row7 col6\" >-0.317601</td>\n",
       "                        <td id=\"T_12221_row7_col7\" class=\"data row7 col7\" >1.000000</td>\n",
       "                        <td id=\"T_12221_row7_col8\" class=\"data row7 col8\" >0.177184</td>\n",
       "            </tr>\n",
       "            <tr>\n",
       "                        <th id=\"T_12221_level0_row8\" class=\"row_heading level0 row8\" >Item_Outlet_Sales</th>\n",
       "                        <td id=\"T_12221_row8_col0\" class=\"data row8 col0\" >0.014123</td>\n",
       "                        <td id=\"T_12221_row8_col1\" class=\"data row8 col1\" >0.017424</td>\n",
       "                        <td id=\"T_12221_row8_col2\" class=\"data row8 col2\" >-0.085334</td>\n",
       "                        <td id=\"T_12221_row8_col3\" class=\"data row8 col3\" >0.022231</td>\n",
       "                        <td id=\"T_12221_row8_col4\" class=\"data row8 col4\" >0.620961</td>\n",
       "                        <td id=\"T_12221_row8_col5\" class=\"data row8 col5\" >0.174302</td>\n",
       "                        <td id=\"T_12221_row8_col6\" class=\"data row8 col6\" >-0.056164</td>\n",
       "                        <td id=\"T_12221_row8_col7\" class=\"data row8 col7\" >0.177184</td>\n",
       "                        <td id=\"T_12221_row8_col8\" class=\"data row8 col8\" >1.000000</td>\n",
       "            </tr>\n",
       "    </tbody></table>"
      ],
      "text/plain": [
       "<pandas.io.formats.style.Styler at 0x7fcfaf7f45e0>"
      ]
     },
     "execution_count": 1076,
     "metadata": {},
     "output_type": "execute_result"
    }
   ],
   "source": [
    "df_model=df.drop(columns=['Outlet_Establishment_Year','Visibility','Outlet_Location_Type','Item_Identifier'])\n",
    "df_model['Item_Visibility'].fillna(value=df_model['Item_Visibility'].mean())\n",
    "corr=df_model.corr(method ='pearson')\n",
    "corr.style.background_gradient(cmap='coolwarm')"
   ]
  },
  {
   "cell_type": "markdown",
   "id": "1ec9f8b0",
   "metadata": {},
   "source": [
    "# Seperating Training And Test Data"
   ]
  },
  {
   "cell_type": "code",
   "execution_count": 1077,
   "id": "3d9da531",
   "metadata": {},
   "outputs": [],
   "source": [
    "X=df_model.iloc[:,:-1]\n",
    "y=df_model.iloc[:,-1]"
   ]
  },
  {
   "cell_type": "code",
   "execution_count": 1078,
   "id": "a6a26b02",
   "metadata": {},
   "outputs": [],
   "source": [
    "X_train, X_test, y_train, y_test = train_test_split(X, y, test_size=0.2, random_state=42)"
   ]
  },
  {
   "cell_type": "markdown",
   "id": "01ba4765",
   "metadata": {},
   "source": [
    "# Running The Models"
   ]
  },
  {
   "cell_type": "markdown",
   "id": "c9389c62",
   "metadata": {},
   "source": [
    "### Linear Model"
   ]
  },
  {
   "cell_type": "code",
   "execution_count": 1079,
   "id": "89c58ce8",
   "metadata": {},
   "outputs": [],
   "source": [
    "from sklearn.linear_model import LinearRegression"
   ]
  },
  {
   "cell_type": "code",
   "execution_count": 1080,
   "id": "7c1153a0",
   "metadata": {},
   "outputs": [
    {
     "data": {
      "text/plain": [
       "0.4663187120944995"
      ]
     },
     "execution_count": 1080,
     "metadata": {},
     "output_type": "execute_result"
    }
   ],
   "source": [
    "reg = LinearRegression().fit(X_train, y_train)\n",
    "reg.score(X_test, y_test)"
   ]
  },
  {
   "cell_type": "code",
   "execution_count": 1081,
   "id": "a3e1e329",
   "metadata": {},
   "outputs": [],
   "source": [
    "from sklearn import linear_model"
   ]
  },
  {
   "cell_type": "code",
   "execution_count": 1082,
   "id": "f6cce209",
   "metadata": {},
   "outputs": [
    {
     "data": {
      "text/plain": [
       "0.4662777983475346"
      ]
     },
     "execution_count": 1082,
     "metadata": {},
     "output_type": "execute_result"
    }
   ],
   "source": [
    "reg = linear_model.Ridge(alpha=.5)\n",
    "reg.fit(X_train, y_train)\n",
    "reg.score(X_test, y_test)"
   ]
  },
  {
   "cell_type": "code",
   "execution_count": 1083,
   "id": "7bffee08",
   "metadata": {},
   "outputs": [
    {
     "data": {
      "text/plain": [
       "0.47670297258358263"
      ]
     },
     "execution_count": 1083,
     "metadata": {},
     "output_type": "execute_result"
    }
   ],
   "source": [
    "from xgboost import XGBRegressor\n",
    "model = XGBRegressor()\n",
    "model.fit(X_train, y_train)\n",
    "model.score(X_test, y_test)"
   ]
  },
  {
   "cell_type": "code",
   "execution_count": 1084,
   "id": "2f6e8f49",
   "metadata": {},
   "outputs": [],
   "source": [
    "from numpy import loadtxt\n",
    "from xgboost import XGBClassifier\n",
    "from sklearn.model_selection import train_test_split\n",
    "from sklearn.metrics import accuracy_score"
   ]
  },
  {
   "cell_type": "code",
   "execution_count": 1086,
   "id": "7b24d92f",
   "metadata": {},
   "outputs": [
    {
     "ename": "ValueError",
     "evalue": "Invalid classes inferred from unique values of `y`.  Expected: [   0    1    2 ... 2747 2748 2749], got [  33.29     35.2874   36.619  ... 9069.5276 9664.7528 9779.9362]",
     "output_type": "error",
     "traceback": [
      "\u001b[0;31m---------------------------------------------------------------------------\u001b[0m",
      "\u001b[0;31mValueError\u001b[0m                                Traceback (most recent call last)",
      "\u001b[0;32m<ipython-input-1086-e71d9407dea9>\u001b[0m in \u001b[0;36m<module>\u001b[0;34m\u001b[0m\n\u001b[1;32m      1\u001b[0m \u001b[0mmodel\u001b[0m \u001b[0;34m=\u001b[0m \u001b[0mXGBClassifier\u001b[0m\u001b[0;34m(\u001b[0m\u001b[0;34m)\u001b[0m\u001b[0;34m\u001b[0m\u001b[0;34m\u001b[0m\u001b[0m\n\u001b[0;32m----> 2\u001b[0;31m \u001b[0mmodel\u001b[0m\u001b[0;34m.\u001b[0m\u001b[0mfit\u001b[0m\u001b[0;34m(\u001b[0m\u001b[0mX_train\u001b[0m\u001b[0;34m,\u001b[0m \u001b[0my_train\u001b[0m\u001b[0;34m)\u001b[0m\u001b[0;34m\u001b[0m\u001b[0;34m\u001b[0m\u001b[0m\n\u001b[0m",
      "\u001b[0;32m~/opt/anaconda3/lib/python3.8/site-packages/xgboost/core.py\u001b[0m in \u001b[0;36minner_f\u001b[0;34m(*args, **kwargs)\u001b[0m\n\u001b[1;32m    573\u001b[0m         \u001b[0;32mfor\u001b[0m \u001b[0mk\u001b[0m\u001b[0;34m,\u001b[0m \u001b[0marg\u001b[0m \u001b[0;32min\u001b[0m \u001b[0mzip\u001b[0m\u001b[0;34m(\u001b[0m\u001b[0msig\u001b[0m\u001b[0;34m.\u001b[0m\u001b[0mparameters\u001b[0m\u001b[0;34m,\u001b[0m \u001b[0margs\u001b[0m\u001b[0;34m)\u001b[0m\u001b[0;34m:\u001b[0m\u001b[0;34m\u001b[0m\u001b[0;34m\u001b[0m\u001b[0m\n\u001b[1;32m    574\u001b[0m             \u001b[0mkwargs\u001b[0m\u001b[0;34m[\u001b[0m\u001b[0mk\u001b[0m\u001b[0;34m]\u001b[0m \u001b[0;34m=\u001b[0m \u001b[0marg\u001b[0m\u001b[0;34m\u001b[0m\u001b[0;34m\u001b[0m\u001b[0m\n\u001b[0;32m--> 575\u001b[0;31m         \u001b[0;32mreturn\u001b[0m \u001b[0mf\u001b[0m\u001b[0;34m(\u001b[0m\u001b[0;34m**\u001b[0m\u001b[0mkwargs\u001b[0m\u001b[0;34m)\u001b[0m\u001b[0;34m\u001b[0m\u001b[0;34m\u001b[0m\u001b[0m\n\u001b[0m\u001b[1;32m    576\u001b[0m \u001b[0;34m\u001b[0m\u001b[0m\n\u001b[1;32m    577\u001b[0m     \u001b[0;32mreturn\u001b[0m \u001b[0minner_f\u001b[0m\u001b[0;34m\u001b[0m\u001b[0;34m\u001b[0m\u001b[0m\n",
      "\u001b[0;32m~/opt/anaconda3/lib/python3.8/site-packages/xgboost/sklearn.py\u001b[0m in \u001b[0;36mfit\u001b[0;34m(self, X, y, sample_weight, base_margin, eval_set, eval_metric, early_stopping_rounds, verbose, xgb_model, sample_weight_eval_set, base_margin_eval_set, feature_weights, callbacks)\u001b[0m\n\u001b[1;32m   1355\u001b[0m             \u001b[0;32mor\u001b[0m \u001b[0;32mnot\u001b[0m \u001b[0;34m(\u001b[0m\u001b[0mself\u001b[0m\u001b[0;34m.\u001b[0m\u001b[0mclasses_\u001b[0m \u001b[0;34m==\u001b[0m \u001b[0mexpected_classes\u001b[0m\u001b[0;34m)\u001b[0m\u001b[0;34m.\u001b[0m\u001b[0mall\u001b[0m\u001b[0;34m(\u001b[0m\u001b[0;34m)\u001b[0m\u001b[0;34m\u001b[0m\u001b[0;34m\u001b[0m\u001b[0m\n\u001b[1;32m   1356\u001b[0m         ):\n\u001b[0;32m-> 1357\u001b[0;31m             raise ValueError(\n\u001b[0m\u001b[1;32m   1358\u001b[0m                 \u001b[0;34mf\"Invalid classes inferred from unique values of `y`.  \"\u001b[0m\u001b[0;34m\u001b[0m\u001b[0;34m\u001b[0m\u001b[0m\n\u001b[1;32m   1359\u001b[0m                 \u001b[0;34mf\"Expected: {expected_classes}, got {self.classes_}\"\u001b[0m\u001b[0;34m\u001b[0m\u001b[0;34m\u001b[0m\u001b[0m\n",
      "\u001b[0;31mValueError\u001b[0m: Invalid classes inferred from unique values of `y`.  Expected: [   0    1    2 ... 2747 2748 2749], got [  33.29     35.2874   36.619  ... 9069.5276 9664.7528 9779.9362]"
     ]
    }
   ],
   "source": [
    "model = XGBClassifier()\n",
    "model.fit(X_train, y_train)"
   ]
  },
  {
   "cell_type": "code",
   "execution_count": null,
   "id": "7ce46223",
   "metadata": {},
   "outputs": [],
   "source": [
    "# Hyper Parameter Tuning XGB And GBR\n"
   ]
  },
  {
   "cell_type": "code",
   "execution_count": null,
   "id": "1bf0a63f",
   "metadata": {},
   "outputs": [],
   "source": [
    "# Standard Scaling 06m Robust Scaling\n"
   ]
  },
  {
   "cell_type": "code",
   "execution_count": null,
   "id": "91519dc9",
   "metadata": {},
   "outputs": [],
   "source": [
    "# Final Predictions On The Test Dataset\n"
   ]
  },
  {
   "cell_type": "code",
   "execution_count": null,
   "id": "de676df5",
   "metadata": {},
   "outputs": [],
   "source": [
    "# Saving The Final Model"
   ]
  }
 ],
 "metadata": {
  "kernelspec": {
   "display_name": "Python 3",
   "language": "python",
   "name": "python3"
  },
  "language_info": {
   "codemirror_mode": {
    "name": "ipython",
    "version": 3
   },
   "file_extension": ".py",
   "mimetype": "text/x-python",
   "name": "python",
   "nbconvert_exporter": "python",
   "pygments_lexer": "ipython3",
   "version": "3.8.8"
  }
 },
 "nbformat": 4,
 "nbformat_minor": 5
}

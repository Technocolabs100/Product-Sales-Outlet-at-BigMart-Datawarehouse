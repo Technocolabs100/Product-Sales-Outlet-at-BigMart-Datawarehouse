{
 "cells": [
  {
   "cell_type": "markdown",
   "id": "3a8e37b4",
   "metadata": {},
   "source": [
    "## Project Description\n",
    "\n",
    "The data scientists at BigMart have collected 2013 sales data for 1559 products across 10 stores in different cities. Also, certain attributes of each product and store have been defined. The aim of this data science project is to build a predictive model and find out the sales of each product at a particular store.\n",
    "Using this model, BigMart will try to understand the properties of products and stores which play a key role in increasing sales.\n",
    " The data has missing values as some stores do not report all the data due to technical glitches. Hence, it will be required to treat them accordingly.\n"
   ]
  },
  {
   "cell_type": "markdown",
   "id": "dc9ce4ff",
   "metadata": {},
   "source": [
    "### 1.Goal \n",
    "The Goal of this project is To build the predictive model to find out the sales of each product at a particular store.\n",
    "So, that BigMart will try to understand the properties of products and stores which play a key role in increasing sales."
   ]
  },
  {
   "cell_type": "markdown",
   "id": "282034af",
   "metadata": {},
   "source": [
    "### 2.Hypothesis Generation\n",
    "\n",
    "**Hypothesis Generation Based On Various Factors;**\n",
    "\n",
    "###### 1. Population Density & Demographics\n",
    "\n",
    "* The Population of market area plays big role in sales. If the Mart is located in high population density area it's more likely to increase sales and vice-versa.\n",
    "* Similarly, what kind of financially capable people live in a radius of an outlet can greatly cause sales volumn. \n",
    "\n",
    "* Demographics plays important role in sales of certain product. Imagine a town where most of the population is young, what prodcut is most like to make high sale? offcourse 'Drinks' and Trendy stuff.\n",
    "\n",
    "###### 2. Max Retail Price & Discount\n",
    "\n",
    "* It's obvious that MRP and discount plays key role in sales of certain product. If the MRP is low and Discount amount is high it's more like to make high sales and vice-versa. \n",
    "\n",
    "###### 3. Location\n",
    "\n",
    "* The location where the Mart is located is very important if Mart is located center of city or in front side of the key area that Mart more likely to make more sale that Mart that are located in deep side of the city.\n",
    "\n",
    "###### 4. Age Of an Outlet.\n",
    "\n",
    "* Age of an outlet can affect the sales in positive and negative way. In some cases long estabilished outlet may have earned repution and loyal customer than newly introduce outlet. on the other hand some people may catagorize old outlet as out dated or would like to try new somewhere else. so, Age of an outlet might affect sales.\n",
    "\n",
    "\n",
    "###### 6. Manufacturer\n",
    "* Sales of certain product depends up on Manufacturer of a product. People prefer product that are Manufactured by well known and trusted Manufacturer than newly estabilished one and failed one.\n",
    "\n",
    "\n",
    "###### 8. Payment Options\n",
    "\n",
    "* In the age of digitalization sales can be affected by payment options. while most of outlet accept online payment in current trend people may also like to buy product with crypto. "
   ]
  },
  {
   "cell_type": "code",
   "execution_count": 1,
   "id": "5daa6513",
   "metadata": {},
   "outputs": [],
   "source": [
    "import warnings\n",
    "warnings.filterwarnings('ignore')\n",
    "import numpy as np\n",
    "import pandas as pd\n",
    "import matplotlib.pyplot as plt\n",
    "import seaborn as sns\n",
    "import dtale\n",
    "from sklearn.model_selection import train_test_split\n",
    "from sklearn.linear_model import LinearRegression, Ridge\n",
    "from sklearn.ensemble import RandomForestRegressor\n",
    "from sklearn.compose import ColumnTransformer\n",
    "from sklearn.impute import SimpleImputer\n",
    "from sklearn.preprocessing import LabelEncoder, OneHotEncoder\n",
    "# from category_encoders import OrdinalEncoder, OneHotEncoder\n",
    "from sklearn.pipeline import make_pipeline, Pipeline\n",
    "from sklearn.metrics import mean_absolute_error, mean_squared_error, r2_score\n",
    "%matplotlib inline"
   ]
  },
  {
   "cell_type": "markdown",
   "id": "f952e69c",
   "metadata": {},
   "source": [
    "### Loading the Sales data\n"
   ]
  },
  {
   "cell_type": "code",
   "execution_count": 2,
   "id": "c7003e3b",
   "metadata": {},
   "outputs": [
    {
     "data": {
      "text/html": [
       "<div>\n",
       "<style scoped>\n",
       "    .dataframe tbody tr th:only-of-type {\n",
       "        vertical-align: middle;\n",
       "    }\n",
       "\n",
       "    .dataframe tbody tr th {\n",
       "        vertical-align: top;\n",
       "    }\n",
       "\n",
       "    .dataframe thead th {\n",
       "        text-align: right;\n",
       "    }\n",
       "</style>\n",
       "<table border=\"1\" class=\"dataframe\">\n",
       "  <thead>\n",
       "    <tr style=\"text-align: right;\">\n",
       "      <th></th>\n",
       "      <th>Item_Weight</th>\n",
       "      <th>Item_Fat_Content</th>\n",
       "      <th>Item_Visibility</th>\n",
       "      <th>Item_Type</th>\n",
       "      <th>Item_MRP</th>\n",
       "      <th>Outlet_Identifier</th>\n",
       "      <th>Outlet_Establishment_Year</th>\n",
       "      <th>Outlet_Size</th>\n",
       "      <th>Outlet_Location_Type</th>\n",
       "      <th>Outlet_Type</th>\n",
       "      <th>Item_Outlet_Sales</th>\n",
       "    </tr>\n",
       "    <tr>\n",
       "      <th>Item_Identifier</th>\n",
       "      <th></th>\n",
       "      <th></th>\n",
       "      <th></th>\n",
       "      <th></th>\n",
       "      <th></th>\n",
       "      <th></th>\n",
       "      <th></th>\n",
       "      <th></th>\n",
       "      <th></th>\n",
       "      <th></th>\n",
       "      <th></th>\n",
       "    </tr>\n",
       "  </thead>\n",
       "  <tbody>\n",
       "    <tr>\n",
       "      <th>FDA15</th>\n",
       "      <td>9.30</td>\n",
       "      <td>Low Fat</td>\n",
       "      <td>0.016047</td>\n",
       "      <td>Dairy</td>\n",
       "      <td>249.8092</td>\n",
       "      <td>OUT049</td>\n",
       "      <td>1999</td>\n",
       "      <td>Medium</td>\n",
       "      <td>Tier 1</td>\n",
       "      <td>Supermarket Type1</td>\n",
       "      <td>3735.1380</td>\n",
       "    </tr>\n",
       "    <tr>\n",
       "      <th>DRC01</th>\n",
       "      <td>5.92</td>\n",
       "      <td>Regular</td>\n",
       "      <td>0.019278</td>\n",
       "      <td>Soft Drinks</td>\n",
       "      <td>48.2692</td>\n",
       "      <td>OUT018</td>\n",
       "      <td>2009</td>\n",
       "      <td>Medium</td>\n",
       "      <td>Tier 3</td>\n",
       "      <td>Supermarket Type2</td>\n",
       "      <td>443.4228</td>\n",
       "    </tr>\n",
       "    <tr>\n",
       "      <th>FDN15</th>\n",
       "      <td>17.50</td>\n",
       "      <td>Low Fat</td>\n",
       "      <td>0.016760</td>\n",
       "      <td>Meat</td>\n",
       "      <td>141.6180</td>\n",
       "      <td>OUT049</td>\n",
       "      <td>1999</td>\n",
       "      <td>Medium</td>\n",
       "      <td>Tier 1</td>\n",
       "      <td>Supermarket Type1</td>\n",
       "      <td>2097.2700</td>\n",
       "    </tr>\n",
       "    <tr>\n",
       "      <th>FDX07</th>\n",
       "      <td>19.20</td>\n",
       "      <td>Regular</td>\n",
       "      <td>0.000000</td>\n",
       "      <td>Fruits and Vegetables</td>\n",
       "      <td>182.0950</td>\n",
       "      <td>OUT010</td>\n",
       "      <td>1998</td>\n",
       "      <td>NaN</td>\n",
       "      <td>Tier 3</td>\n",
       "      <td>Grocery Store</td>\n",
       "      <td>732.3800</td>\n",
       "    </tr>\n",
       "    <tr>\n",
       "      <th>NCD19</th>\n",
       "      <td>8.93</td>\n",
       "      <td>Low Fat</td>\n",
       "      <td>0.000000</td>\n",
       "      <td>Household</td>\n",
       "      <td>53.8614</td>\n",
       "      <td>OUT013</td>\n",
       "      <td>1987</td>\n",
       "      <td>High</td>\n",
       "      <td>Tier 3</td>\n",
       "      <td>Supermarket Type1</td>\n",
       "      <td>994.7052</td>\n",
       "    </tr>\n",
       "  </tbody>\n",
       "</table>\n",
       "</div>"
      ],
      "text/plain": [
       "                 Item_Weight Item_Fat_Content  Item_Visibility  \\\n",
       "Item_Identifier                                                  \n",
       "FDA15                   9.30          Low Fat         0.016047   \n",
       "DRC01                   5.92          Regular         0.019278   \n",
       "FDN15                  17.50          Low Fat         0.016760   \n",
       "FDX07                  19.20          Regular         0.000000   \n",
       "NCD19                   8.93          Low Fat         0.000000   \n",
       "\n",
       "                             Item_Type  Item_MRP Outlet_Identifier  \\\n",
       "Item_Identifier                                                      \n",
       "FDA15                            Dairy  249.8092            OUT049   \n",
       "DRC01                      Soft Drinks   48.2692            OUT018   \n",
       "FDN15                             Meat  141.6180            OUT049   \n",
       "FDX07            Fruits and Vegetables  182.0950            OUT010   \n",
       "NCD19                        Household   53.8614            OUT013   \n",
       "\n",
       "                 Outlet_Establishment_Year Outlet_Size Outlet_Location_Type  \\\n",
       "Item_Identifier                                                               \n",
       "FDA15                                 1999      Medium               Tier 1   \n",
       "DRC01                                 2009      Medium               Tier 3   \n",
       "FDN15                                 1999      Medium               Tier 1   \n",
       "FDX07                                 1998         NaN               Tier 3   \n",
       "NCD19                                 1987        High               Tier 3   \n",
       "\n",
       "                       Outlet_Type  Item_Outlet_Sales  \n",
       "Item_Identifier                                        \n",
       "FDA15            Supermarket Type1          3735.1380  \n",
       "DRC01            Supermarket Type2           443.4228  \n",
       "FDN15            Supermarket Type1          2097.2700  \n",
       "FDX07                Grocery Store           732.3800  \n",
       "NCD19            Supermarket Type1           994.7052  "
      ]
     },
     "execution_count": 2,
     "metadata": {},
     "output_type": "execute_result"
    }
   ],
   "source": [
    "df = pd.read_csv('train.csv').set_index('Item_Identifier')\n",
    "df_test = pd.read_csv('test.csv').set_index('Item_Identifier')\n",
    "df.head()"
   ]
  },
  {
   "cell_type": "code",
   "execution_count": 3,
   "id": "e60788f5",
   "metadata": {},
   "outputs": [],
   "source": [
    "Outlet_Identifier = df_test.Outlet_Identifier"
   ]
  },
  {
   "cell_type": "code",
   "execution_count": 4,
   "id": "06a34f16",
   "metadata": {},
   "outputs": [],
   "source": [
    "#dtale.show(df)"
   ]
  },
  {
   "cell_type": "code",
   "execution_count": 5,
   "id": "7fcd33fc",
   "metadata": {},
   "outputs": [
    {
     "data": {
      "text/plain": [
       "array(['Dairy', 'Soft Drinks', 'Meat', 'Fruits and Vegetables',\n",
       "       'Household', 'Baking Goods', 'Snack Foods', 'Frozen Foods',\n",
       "       'Breakfast', 'Health and Hygiene', 'Hard Drinks', 'Canned',\n",
       "       'Breads', 'Starchy Foods', 'Others', 'Seafood'], dtype=object)"
      ]
     },
     "execution_count": 5,
     "metadata": {},
     "output_type": "execute_result"
    }
   ],
   "source": [
    "df.Item_Type.unique()"
   ]
  },
  {
   "cell_type": "code",
   "execution_count": 6,
   "id": "36848a0d",
   "metadata": {},
   "outputs": [
    {
     "name": "stdout",
     "output_type": "stream",
     "text": [
      "<class 'pandas.core.frame.DataFrame'>\n",
      "Index: 8523 entries, FDA15 to DRG01\n",
      "Data columns (total 11 columns):\n",
      " #   Column                     Non-Null Count  Dtype  \n",
      "---  ------                     --------------  -----  \n",
      " 0   Item_Weight                7060 non-null   float64\n",
      " 1   Item_Fat_Content           8523 non-null   object \n",
      " 2   Item_Visibility            8523 non-null   float64\n",
      " 3   Item_Type                  8523 non-null   object \n",
      " 4   Item_MRP                   8523 non-null   float64\n",
      " 5   Outlet_Identifier          8523 non-null   object \n",
      " 6   Outlet_Establishment_Year  8523 non-null   int64  \n",
      " 7   Outlet_Size                6113 non-null   object \n",
      " 8   Outlet_Location_Type       8523 non-null   object \n",
      " 9   Outlet_Type                8523 non-null   object \n",
      " 10  Item_Outlet_Sales          8523 non-null   float64\n",
      "dtypes: float64(4), int64(1), object(6)\n",
      "memory usage: 799.0+ KB\n"
     ]
    }
   ],
   "source": [
    "# Concise summary of train DataFrame\n",
    "df.info()"
   ]
  },
  {
   "cell_type": "code",
   "execution_count": 7,
   "id": "6143b2ca",
   "metadata": {},
   "outputs": [
    {
     "name": "stdout",
     "output_type": "stream",
     "text": [
      "Rows: 8523\n",
      "Columns: 11\n"
     ]
    }
   ],
   "source": [
    "print('Rows:', df.shape[0])\n",
    "print('Columns:', df.shape[1])"
   ]
  },
  {
   "cell_type": "code",
   "execution_count": 8,
   "id": "58e569f4",
   "metadata": {},
   "outputs": [
    {
     "data": {
      "text/html": [
       "<div>\n",
       "<style scoped>\n",
       "    .dataframe tbody tr th:only-of-type {\n",
       "        vertical-align: middle;\n",
       "    }\n",
       "\n",
       "    .dataframe tbody tr th {\n",
       "        vertical-align: top;\n",
       "    }\n",
       "\n",
       "    .dataframe thead th {\n",
       "        text-align: right;\n",
       "    }\n",
       "</style>\n",
       "<table border=\"1\" class=\"dataframe\">\n",
       "  <thead>\n",
       "    <tr style=\"text-align: right;\">\n",
       "      <th></th>\n",
       "      <th>Item_Weight</th>\n",
       "      <th>Item_Visibility</th>\n",
       "      <th>Item_MRP</th>\n",
       "      <th>Item_Outlet_Sales</th>\n",
       "    </tr>\n",
       "  </thead>\n",
       "  <tbody>\n",
       "    <tr>\n",
       "      <th>count</th>\n",
       "      <td>7060.000000</td>\n",
       "      <td>8523.000000</td>\n",
       "      <td>8523.000000</td>\n",
       "      <td>8523.000000</td>\n",
       "    </tr>\n",
       "    <tr>\n",
       "      <th>mean</th>\n",
       "      <td>12.857645</td>\n",
       "      <td>0.066132</td>\n",
       "      <td>140.992782</td>\n",
       "      <td>2181.288914</td>\n",
       "    </tr>\n",
       "    <tr>\n",
       "      <th>std</th>\n",
       "      <td>4.643456</td>\n",
       "      <td>0.051598</td>\n",
       "      <td>62.275067</td>\n",
       "      <td>1706.499616</td>\n",
       "    </tr>\n",
       "    <tr>\n",
       "      <th>min</th>\n",
       "      <td>4.555000</td>\n",
       "      <td>0.000000</td>\n",
       "      <td>31.290000</td>\n",
       "      <td>33.290000</td>\n",
       "    </tr>\n",
       "    <tr>\n",
       "      <th>25%</th>\n",
       "      <td>8.773750</td>\n",
       "      <td>0.026989</td>\n",
       "      <td>93.826500</td>\n",
       "      <td>834.247400</td>\n",
       "    </tr>\n",
       "    <tr>\n",
       "      <th>50%</th>\n",
       "      <td>12.600000</td>\n",
       "      <td>0.053931</td>\n",
       "      <td>143.012800</td>\n",
       "      <td>1794.331000</td>\n",
       "    </tr>\n",
       "    <tr>\n",
       "      <th>75%</th>\n",
       "      <td>16.850000</td>\n",
       "      <td>0.094585</td>\n",
       "      <td>185.643700</td>\n",
       "      <td>3101.296400</td>\n",
       "    </tr>\n",
       "    <tr>\n",
       "      <th>max</th>\n",
       "      <td>21.350000</td>\n",
       "      <td>0.328391</td>\n",
       "      <td>266.888400</td>\n",
       "      <td>13086.964800</td>\n",
       "    </tr>\n",
       "  </tbody>\n",
       "</table>\n",
       "</div>"
      ],
      "text/plain": [
       "       Item_Weight  Item_Visibility     Item_MRP  Item_Outlet_Sales\n",
       "count  7060.000000      8523.000000  8523.000000        8523.000000\n",
       "mean     12.857645         0.066132   140.992782        2181.288914\n",
       "std       4.643456         0.051598    62.275067        1706.499616\n",
       "min       4.555000         0.000000    31.290000          33.290000\n",
       "25%       8.773750         0.026989    93.826500         834.247400\n",
       "50%      12.600000         0.053931   143.012800        1794.331000\n",
       "75%      16.850000         0.094585   185.643700        3101.296400\n",
       "max      21.350000         0.328391   266.888400       13086.964800"
      ]
     },
     "execution_count": 8,
     "metadata": {},
     "output_type": "execute_result"
    }
   ],
   "source": [
    "df.drop('Outlet_Establishment_Year', axis = 1).describe()"
   ]
  },
  {
   "cell_type": "markdown",
   "id": "543a9655",
   "metadata": {},
   "source": [
    "### Data Exploration"
   ]
  },
  {
   "cell_type": "markdown",
   "id": "5085cda7",
   "metadata": {},
   "source": [
    "* #### Dealing With Mis-entered values in columns"
   ]
  },
  {
   "cell_type": "code",
   "execution_count": 9,
   "id": "294484e0",
   "metadata": {},
   "outputs": [
    {
     "data": {
      "text/plain": [
       "array(['Low Fat', 'Regular', 'low fat', 'LF', 'reg'], dtype=object)"
      ]
     },
     "execution_count": 9,
     "metadata": {},
     "output_type": "execute_result"
    }
   ],
   "source": [
    "df.Item_Fat_Content.unique()"
   ]
  },
  {
   "cell_type": "code",
   "execution_count": 10,
   "id": "5f62b30d",
   "metadata": {},
   "outputs": [],
   "source": [
    "#replace LF by Low Fat and reg by Regular in Item_Fat_Content column\n",
    "df['Item_Fat_Content'] = df['Item_Fat_Content'].str.replace('LF','Low Fat')\n",
    "df['Item_Fat_Content'] = df['Item_Fat_Content'].str.replace('low fat','Low Fat')\n",
    "df['Item_Fat_Content'] = df['Item_Fat_Content'].str.replace('reg','Regular')\n",
    "\n",
    "##replace LF by Low Fat and reg by Regular in Item_Fat_Content column in test dataset\n",
    "df_test['Item_Fat_Content'] = df_test['Item_Fat_Content'].str.replace('LF','Low Fat')\n",
    "df_test['Item_Fat_Content'] = df_test['Item_Fat_Content'].str.replace('low fat','Low Fat')\n",
    "df_test['Item_Fat_Content'] = df_test['Item_Fat_Content'].str.replace('reg','Regular')"
   ]
  },
  {
   "cell_type": "markdown",
   "id": "d59e8480",
   "metadata": {},
   "source": [
    "* ##### Dealing with Nan values Columns\n"
   ]
  },
  {
   "cell_type": "code",
   "execution_count": 11,
   "id": "5cda1531",
   "metadata": {},
   "outputs": [
    {
     "data": {
      "text/plain": [
       "Item_Weight                  17.165317\n",
       "Item_Fat_Content              0.000000\n",
       "Item_Visibility               0.000000\n",
       "Item_Type                     0.000000\n",
       "Item_MRP                      0.000000\n",
       "Outlet_Identifier             0.000000\n",
       "Outlet_Establishment_Year     0.000000\n",
       "Outlet_Size                  28.276428\n",
       "Outlet_Location_Type          0.000000\n",
       "Outlet_Type                   0.000000\n",
       "Item_Outlet_Sales             0.000000\n",
       "dtype: float64"
      ]
     },
     "execution_count": 11,
     "metadata": {},
     "output_type": "execute_result"
    }
   ],
   "source": [
    "df.isnull().sum()/len(df)*100"
   ]
  },
  {
   "cell_type": "code",
   "execution_count": 12,
   "id": "f9e48b95",
   "metadata": {},
   "outputs": [
    {
     "data": {
      "text/plain": [
       "count    7060.000000\n",
       "mean       12.857645\n",
       "std         4.643456\n",
       "min         4.555000\n",
       "25%         8.773750\n",
       "50%        12.600000\n",
       "75%        16.850000\n",
       "max        21.350000\n",
       "Name: Item_Weight, dtype: float64"
      ]
     },
     "execution_count": 12,
     "metadata": {},
     "output_type": "execute_result"
    }
   ],
   "source": [
    "df.Item_Weight.describe()"
   ]
  },
  {
   "cell_type": "code",
   "execution_count": 13,
   "id": "4d17fd9f",
   "metadata": {},
   "outputs": [
    {
     "name": "stdout",
     "output_type": "stream",
     "text": [
      "Count Outlet Type:\n",
      " Medium    2793\n",
      "Small     2388\n",
      "High       932\n",
      "Name: Outlet_Size, dtype: int64 \n",
      " Most Frqeuent Outlet type; 0    Medium\n",
      "Name: Outlet_Size, dtype: object\n"
     ]
    }
   ],
   "source": [
    "print('Count Outlet Type:\\n',df.Outlet_Size.value_counts(),\n",
    "      \n",
    "      '\\n Most Frqeuent Outlet type;', df.Outlet_Size.mode()\n",
    "     )\n"
   ]
  },
  {
   "cell_type": "code",
   "execution_count": 14,
   "id": "da561579",
   "metadata": {},
   "outputs": [],
   "source": [
    "#Dealing with missing values in train dataset\n",
    "df.Item_Weight.fillna(df.Item_Weight.mean(),inplace = True)\n",
    "df.Outlet_Size.fillna('Medium', inplace = True)\n",
    "\n",
    "#Dealing with missing values in test dataset\n",
    "df_test.Item_Weight.fillna(df.Item_Weight.mean(),inplace = True)\n",
    "df_test.Outlet_Size.fillna('Medium', inplace = True)"
   ]
  },
  {
   "cell_type": "code",
   "execution_count": 15,
   "id": "fc7f3493",
   "metadata": {},
   "outputs": [
    {
     "data": {
      "text/plain": [
       "Item_Weight                  0.0\n",
       "Item_Fat_Content             0.0\n",
       "Item_Visibility              0.0\n",
       "Item_Type                    0.0\n",
       "Item_MRP                     0.0\n",
       "Outlet_Identifier            0.0\n",
       "Outlet_Establishment_Year    0.0\n",
       "Outlet_Size                  0.0\n",
       "Outlet_Location_Type         0.0\n",
       "Outlet_Type                  0.0\n",
       "Item_Outlet_Sales            0.0\n",
       "dtype: float64"
      ]
     },
     "execution_count": 15,
     "metadata": {},
     "output_type": "execute_result"
    }
   ],
   "source": [
    "df.isnull().sum()/len(df)*100"
   ]
  },
  {
   "cell_type": "code",
   "execution_count": 16,
   "id": "e208deb2",
   "metadata": {
    "scrolled": true
   },
   "outputs": [
    {
     "data": {
      "text/plain": [
       "Item_Weight                  0.0\n",
       "Item_Fat_Content             0.0\n",
       "Item_Visibility              0.0\n",
       "Item_Type                    0.0\n",
       "Item_MRP                     0.0\n",
       "Outlet_Identifier            0.0\n",
       "Outlet_Establishment_Year    0.0\n",
       "Outlet_Size                  0.0\n",
       "Outlet_Location_Type         0.0\n",
       "Outlet_Type                  0.0\n",
       "dtype: float64"
      ]
     },
     "execution_count": 16,
     "metadata": {},
     "output_type": "execute_result"
    }
   ],
   "source": [
    "df_test.isnull().sum()/len(df)*100"
   ]
  },
  {
   "cell_type": "markdown",
   "id": "0b65a216",
   "metadata": {},
   "source": [
    "* #### Creating New column"
   ]
  },
  {
   "cell_type": "code",
   "execution_count": 17,
   "id": "fe5efd3f",
   "metadata": {},
   "outputs": [],
   "source": [
    "df['Age'] = 2022 - df['Outlet_Establishment_Year'].astype(int) \n",
    "df.drop('Outlet_Establishment_Year', axis = 1, inplace = True)\n",
    "\n",
    "#for test data\n",
    "df_test['Age'] = 2022 - df_test['Outlet_Establishment_Year'].astype(int) \n",
    "df_test.drop('Outlet_Establishment_Year', axis = 1, inplace = True)"
   ]
  },
  {
   "cell_type": "markdown",
   "id": "fd94dffd",
   "metadata": {},
   "source": [
    "### Exploratory Data Analysis\n"
   ]
  },
  {
   "cell_type": "code",
   "execution_count": 18,
   "id": "5dcf8dba",
   "metadata": {},
   "outputs": [],
   "source": [
    "sns.set_style('darkgrid')"
   ]
  },
  {
   "cell_type": "code",
   "execution_count": 19,
   "id": "44b246ae",
   "metadata": {},
   "outputs": [
    {
     "data": {
      "text/plain": [
       "Text(0.5, 1.0, 'Distribution of Item_MRP ')"
      ]
     },
     "execution_count": 19,
     "metadata": {},
     "output_type": "execute_result"
    },
    {
     "data": {
      "image/png": "[encoded data removed]",
      "text/plain": [
       "<Figure size 432x288 with 1 Axes>"
      ]
     },
     "metadata": {},
     "output_type": "display_data"
    }
   ],
   "source": [
    "df.Item_MRP.plot(kind = 'kde');\n",
    "plt.title('Distribution of Item_MRP ')"
   ]
  },
  {
   "cell_type": "code",
   "execution_count": 20,
   "id": "a1a9e012",
   "metadata": {},
   "outputs": [
    {
     "data": {
      "image/png": "[encoded data removed]",
      "text/plain": [
       "<Figure size 432x288 with 1 Axes>"
      ]
     },
     "metadata": {},
     "output_type": "display_data"
    }
   ],
   "source": [
    "plt.hist(df.Item_Weight, bins = 40, density = True)\n",
    "plt.title('Distrribution of Item_Weight');"
   ]
  },
  {
   "cell_type": "markdown",
   "id": "83575c20",
   "metadata": {},
   "source": [
    "* ####  Looking for high cardinality column"
   ]
  },
  {
   "cell_type": "code",
   "execution_count": 21,
   "id": "c256b7d8",
   "metadata": {},
   "outputs": [
    {
     "name": "stdout",
     "output_type": "stream",
     "text": [
      "Item_Fat_Content         2\n",
      "Item_Type               16\n",
      "Outlet_Identifier       10\n",
      "Outlet_Size              3\n",
      "Outlet_Location_Type     3\n",
      "Outlet_Type              4\n",
      "dtype: int64\n"
     ]
    },
    {
     "data": {
      "text/plain": [
       "[]"
      ]
     },
     "execution_count": 21,
     "metadata": {},
     "output_type": "execute_result"
    }
   ],
   "source": [
    "print(df.select_dtypes('object').nunique())\n",
    "\n",
    "# for c in df:\n",
    "#     if df[c].dtype == 'object' and df[c].nunique() > 20:\n",
    "#         df.drop(columns = c, inplace = True)\n",
    "# df.shape\n",
    "col = [c for c in df if df[c].dtype == 'object' and df[c].nunique() > 20]\n",
    "col"
   ]
  },
  {
   "cell_type": "markdown",
   "id": "19c7dcae",
   "metadata": {},
   "source": [
    "* #### Removing Outliers"
   ]
  },
  {
   "cell_type": "code",
   "execution_count": 22,
   "id": "71b68d8a",
   "metadata": {},
   "outputs": [
    {
     "data": {
      "image/png": "[encoded data removed]",
      "text/plain": [
       "<Figure size 432x288 with 1 Axes>"
      ]
     },
     "metadata": {},
     "output_type": "display_data"
    }
   ],
   "source": [
    "box = df.select_dtypes('number').drop('Age', axis = 1)\n",
    "plt.boxplot(box.values, labels = box.columns);"
   ]
  },
  {
   "cell_type": "code",
   "execution_count": 23,
   "id": "91feaefe",
   "metadata": {},
   "outputs": [],
   "source": [
    "#for outlet sale\n",
    "low, high = df.Item_Outlet_Sales.quantile([0.01, 0.99])\n",
    "mask_sales = df.Item_Outlet_Sales.between(low,high)\n",
    "df = df[mask_sales]"
   ]
  },
  {
   "cell_type": "markdown",
   "id": "8d4babc4",
   "metadata": {},
   "source": [
    "* ####   Multicollinarity"
   ]
  },
  {
   "cell_type": "code",
   "execution_count": 24,
   "id": "1a76dd62",
   "metadata": {
    "scrolled": true
   },
   "outputs": [
    {
     "data": {
      "image/png": "[encoded data removed]",
      "text/plain": [
       "<Figure size 432x288 with 2 Axes>"
      ]
     },
     "metadata": {},
     "output_type": "display_data"
    }
   ],
   "source": [
    "corr = df.select_dtypes('number').drop(columns = ['Item_Outlet_Sales']).corr()\n",
    "sns.heatmap(corr, annot = True);"
   ]
  },
  {
   "cell_type": "code",
   "execution_count": null,
   "id": "72489e32",
   "metadata": {},
   "outputs": [],
   "source": []
  },
  {
   "cell_type": "code",
   "execution_count": 25,
   "id": "cf5c5931",
   "metadata": {},
   "outputs": [],
   "source": [
    "# Alternative for above steps\n",
    "# For cleaness of code we can create wrange function\n",
    "# def wrangle(filepath):\n",
    "    \n",
    "#     #loading data\n",
    "#     df = pd.read_csv(filepath).set_index('Item_Identifier')\n",
    "#     #df_test1 = pd.read_csv('test.csv')\n",
    "    \n",
    "#     #replace LF by Low Fat and reg by Regular in Item_Fat_Content column\n",
    "#     df['Item_Fat_Content'] = df['Item_Fat_Content'].str.replace('LF','Low Fat')\n",
    "#     df['Item_Fat_Content'] = df['Item_Fat_Content'].str.replace('low fat','Low Fat')\n",
    "#     df['Item_Fat_Content'] = df['Item_Fat_Content'].str.replace('reg','Regular')\n",
    "\n",
    "#     #Dealing with missing values in train dataset\n",
    "#     df.Item_Weight.fillna(df.Item_Weight.median(),inplace = True)\n",
    "#     df.Outlet_Size.fillna('Medium', inplace = True)\n",
    "    \n",
    "#     #Creating New column 'Age'\n",
    "#     df['Age'] = 2022 - df['Outlet_Establishment_Year'].astype(int) \n",
    "#     df.drop('Outlet_Establishment_Year', axis = 1, inplace = True)\n",
    "\n",
    "#     #removing high cardinality columns if there is \n",
    "#     #col = [c for c in df1 if df1[c].dtype == 'object' and df1[c].nunique() > 20]\n",
    "#     #df1.drop(columns = col, inplace = True)\n",
    "    \n",
    "   \n",
    "    \n",
    "    \n",
    "#     return df\n",
    "# df = wrangle('train.csv')\n",
    "# df1 = wrangle('test.csv')\n",
    "\n",
    "# #removing outliers\n",
    "# #(since test.csv does not contain 'Item_Outlet_Sales' it'll through error if we try to write this code inside wrangle function)\n",
    "# low, high = df.Item_Outlet_Sales.quantile([0.01, 0.99])\n",
    "# mask_sales = df.Item_Outlet_Sales.between(low,high)\n",
    "# df = df[mask_sales]\n",
    "\n",
    "# \"\"\""
   ]
  },
  {
   "cell_type": "code",
   "execution_count": 26,
   "id": "be9d2c34",
   "metadata": {},
   "outputs": [
    {
     "data": {
      "image/png": "[encoded data removed]",
      "text/plain": [
       "<Figure size 432x288 with 1 Axes>"
      ]
     },
     "metadata": {},
     "output_type": "display_data"
    }
   ],
   "source": [
    "sns.countplot(df.Item_Fat_Content)\n",
    "plt.title('Number of each item in Item_Fat_Content ');"
   ]
  },
  {
   "cell_type": "code",
   "execution_count": 27,
   "id": "a4fcddd1",
   "metadata": {},
   "outputs": [
    {
     "data": {
      "text/plain": [
       "Index(['Item_Weight', 'Item_Fat_Content', 'Item_Visibility', 'Item_Type',\n",
       "       'Item_MRP', 'Outlet_Identifier', 'Outlet_Size', 'Outlet_Location_Type',\n",
       "       'Outlet_Type', 'Item_Outlet_Sales', 'Age'],\n",
       "      dtype='object')"
      ]
     },
     "execution_count": 27,
     "metadata": {},
     "output_type": "execute_result"
    }
   ],
   "source": [
    "df.columns"
   ]
  },
  {
   "cell_type": "code",
   "execution_count": 28,
   "id": "2ff9fd3c",
   "metadata": {},
   "outputs": [
    {
     "data": {
      "text/html": [
       "<div>\n",
       "<style scoped>\n",
       "    .dataframe tbody tr th:only-of-type {\n",
       "        vertical-align: middle;\n",
       "    }\n",
       "\n",
       "    .dataframe tbody tr th {\n",
       "        vertical-align: top;\n",
       "    }\n",
       "\n",
       "    .dataframe thead th {\n",
       "        text-align: right;\n",
       "    }\n",
       "</style>\n",
       "<table border=\"1\" class=\"dataframe\">\n",
       "  <thead>\n",
       "    <tr style=\"text-align: right;\">\n",
       "      <th></th>\n",
       "      <th>Item_Weight</th>\n",
       "      <th>Item_Fat_Content</th>\n",
       "      <th>Item_Visibility</th>\n",
       "      <th>Item_Type</th>\n",
       "      <th>Item_MRP</th>\n",
       "      <th>Outlet_Identifier</th>\n",
       "      <th>Outlet_Size</th>\n",
       "      <th>Outlet_Location_Type</th>\n",
       "      <th>Outlet_Type</th>\n",
       "      <th>Item_Outlet_Sales</th>\n",
       "      <th>Age</th>\n",
       "    </tr>\n",
       "    <tr>\n",
       "      <th>Item_Identifier</th>\n",
       "      <th></th>\n",
       "      <th></th>\n",
       "      <th></th>\n",
       "      <th></th>\n",
       "      <th></th>\n",
       "      <th></th>\n",
       "      <th></th>\n",
       "      <th></th>\n",
       "      <th></th>\n",
       "      <th></th>\n",
       "      <th></th>\n",
       "    </tr>\n",
       "  </thead>\n",
       "  <tbody>\n",
       "    <tr>\n",
       "      <th>FDA15</th>\n",
       "      <td>9.30</td>\n",
       "      <td>Low Fat</td>\n",
       "      <td>0.016047</td>\n",
       "      <td>Dairy</td>\n",
       "      <td>249.8092</td>\n",
       "      <td>OUT049</td>\n",
       "      <td>Medium</td>\n",
       "      <td>Tier 1</td>\n",
       "      <td>Supermarket Type1</td>\n",
       "      <td>3735.1380</td>\n",
       "      <td>23</td>\n",
       "    </tr>\n",
       "    <tr>\n",
       "      <th>DRC01</th>\n",
       "      <td>5.92</td>\n",
       "      <td>Regular</td>\n",
       "      <td>0.019278</td>\n",
       "      <td>Soft Drinks</td>\n",
       "      <td>48.2692</td>\n",
       "      <td>OUT018</td>\n",
       "      <td>Medium</td>\n",
       "      <td>Tier 3</td>\n",
       "      <td>Supermarket Type2</td>\n",
       "      <td>443.4228</td>\n",
       "      <td>13</td>\n",
       "    </tr>\n",
       "    <tr>\n",
       "      <th>FDN15</th>\n",
       "      <td>17.50</td>\n",
       "      <td>Low Fat</td>\n",
       "      <td>0.016760</td>\n",
       "      <td>Meat</td>\n",
       "      <td>141.6180</td>\n",
       "      <td>OUT049</td>\n",
       "      <td>Medium</td>\n",
       "      <td>Tier 1</td>\n",
       "      <td>Supermarket Type1</td>\n",
       "      <td>2097.2700</td>\n",
       "      <td>23</td>\n",
       "    </tr>\n",
       "    <tr>\n",
       "      <th>FDX07</th>\n",
       "      <td>19.20</td>\n",
       "      <td>Regular</td>\n",
       "      <td>0.000000</td>\n",
       "      <td>Fruits and Vegetables</td>\n",
       "      <td>182.0950</td>\n",
       "      <td>OUT010</td>\n",
       "      <td>Medium</td>\n",
       "      <td>Tier 3</td>\n",
       "      <td>Grocery Store</td>\n",
       "      <td>732.3800</td>\n",
       "      <td>24</td>\n",
       "    </tr>\n",
       "    <tr>\n",
       "      <th>NCD19</th>\n",
       "      <td>8.93</td>\n",
       "      <td>Low Fat</td>\n",
       "      <td>0.000000</td>\n",
       "      <td>Household</td>\n",
       "      <td>53.8614</td>\n",
       "      <td>OUT013</td>\n",
       "      <td>High</td>\n",
       "      <td>Tier 3</td>\n",
       "      <td>Supermarket Type1</td>\n",
       "      <td>994.7052</td>\n",
       "      <td>35</td>\n",
       "    </tr>\n",
       "  </tbody>\n",
       "</table>\n",
       "</div>"
      ],
      "text/plain": [
       "                 Item_Weight Item_Fat_Content  Item_Visibility  \\\n",
       "Item_Identifier                                                  \n",
       "FDA15                   9.30          Low Fat         0.016047   \n",
       "DRC01                   5.92          Regular         0.019278   \n",
       "FDN15                  17.50          Low Fat         0.016760   \n",
       "FDX07                  19.20          Regular         0.000000   \n",
       "NCD19                   8.93          Low Fat         0.000000   \n",
       "\n",
       "                             Item_Type  Item_MRP Outlet_Identifier  \\\n",
       "Item_Identifier                                                      \n",
       "FDA15                            Dairy  249.8092            OUT049   \n",
       "DRC01                      Soft Drinks   48.2692            OUT018   \n",
       "FDN15                             Meat  141.6180            OUT049   \n",
       "FDX07            Fruits and Vegetables  182.0950            OUT010   \n",
       "NCD19                        Household   53.8614            OUT013   \n",
       "\n",
       "                Outlet_Size Outlet_Location_Type        Outlet_Type  \\\n",
       "Item_Identifier                                                       \n",
       "FDA15                Medium               Tier 1  Supermarket Type1   \n",
       "DRC01                Medium               Tier 3  Supermarket Type2   \n",
       "FDN15                Medium               Tier 1  Supermarket Type1   \n",
       "FDX07                Medium               Tier 3      Grocery Store   \n",
       "NCD19                  High               Tier 3  Supermarket Type1   \n",
       "\n",
       "                 Item_Outlet_Sales  Age  \n",
       "Item_Identifier                          \n",
       "FDA15                    3735.1380   23  \n",
       "DRC01                     443.4228   13  \n",
       "FDN15                    2097.2700   23  \n",
       "FDX07                     732.3800   24  \n",
       "NCD19                     994.7052   35  "
      ]
     },
     "execution_count": 28,
     "metadata": {},
     "output_type": "execute_result"
    }
   ],
   "source": [
    "df.head()"
   ]
  },
  {
   "cell_type": "code",
   "execution_count": 29,
   "id": "a5e39ae6",
   "metadata": {},
   "outputs": [
    {
     "data": {
      "text/plain": [
       "array(['Medium', 'High', 'Small'], dtype=object)"
      ]
     },
     "execution_count": 29,
     "metadata": {},
     "output_type": "execute_result"
    }
   ],
   "source": [
    "df.Outlet_Size.unique()"
   ]
  },
  {
   "cell_type": "code",
   "execution_count": 30,
   "id": "11f07f1f",
   "metadata": {},
   "outputs": [
    {
     "data": {
      "image/png": "[encoded data removed]",
      "text/plain": [
       "<Figure size 720x360 with 1 Axes>"
      ]
     },
     "metadata": {},
     "output_type": "display_data"
    }
   ],
   "source": [
    "plt.figure(figsize = (10,5))\n",
    "plt.pie(df.groupby('Outlet_Size')['Item_Outlet_Sales'].mean(), \n",
    "    labels = ['Medium', 'High', 'Small'], \n",
    "    explode = [0.1,0,0], autopct = '% 0.2f')\n",
    "plt.title('Sales By Outlet Size');"
   ]
  },
  {
   "cell_type": "code",
   "execution_count": 31,
   "id": "1d697fb7",
   "metadata": {},
   "outputs": [
    {
     "data": {
      "text/plain": [
       "514"
      ]
     },
     "execution_count": 31,
     "metadata": {},
     "output_type": "execute_result"
    }
   ],
   "source": [
    "(df['Age'] == 24).sum()"
   ]
  },
  {
   "cell_type": "code",
   "execution_count": 32,
   "id": "3522a82c",
   "metadata": {},
   "outputs": [
    {
     "data": {
      "image/png": "[encoded data removed]",
      "text/plain": [
       "<Figure size 432x288 with 1 Axes>"
      ]
     },
     "metadata": {},
     "output_type": "display_data"
    }
   ],
   "source": [
    "sns.countplot(df.Outlet_Type)\n",
    "plt.xticks(rotation = 'vertical')\n",
    "plt.title('Count of Each Outlet Type ');"
   ]
  },
  {
   "cell_type": "code",
   "execution_count": 33,
   "id": "0b0baffc",
   "metadata": {},
   "outputs": [
    {
     "data": {
      "text/plain": [
       "Text(0.5, 1.0, 'Sales by Outlet Type')"
      ]
     },
     "execution_count": 33,
     "metadata": {},
     "output_type": "execute_result"
    },
    {
     "data": {
      "image/png": "[encoded data removed]",
      "text/plain": [
       "<Figure size 432x288 with 1 Axes>"
      ]
     },
     "metadata": {},
     "output_type": "display_data"
    }
   ],
   "source": [
    "df.groupby('Outlet_Type')['Item_Outlet_Sales'].mean().sort_values(ascending = False).plot(kind = 'bar')\n",
    "plt.title('Sales by Outlet Type')"
   ]
  },
  {
   "cell_type": "code",
   "execution_count": 34,
   "id": "0f568fa8",
   "metadata": {},
   "outputs": [
    {
     "data": {
      "text/plain": [
       "<AxesSubplot:xlabel='Outlet_Location_Type', ylabel='Item_Outlet_Sales'>"
      ]
     },
     "execution_count": 34,
     "metadata": {},
     "output_type": "execute_result"
    },
    {
     "data": {
      "image/png": "[encoded data removed]",
      "text/plain": [
       "<Figure size 720x360 with 1 Axes>"
      ]
     },
     "metadata": {},
     "output_type": "display_data"
    }
   ],
   "source": [
    "plt.figure(figsize = (10,5))\n",
    "sns.barplot(x = 'Outlet_Location_Type', y = 'Item_Outlet_Sales',hue = 'Outlet_Type', data = df)"
   ]
  },
  {
   "cell_type": "code",
   "execution_count": 35,
   "id": "98f41a92",
   "metadata": {},
   "outputs": [
    {
     "data": {
      "text/plain": [
       "Item_Fat_Content\n",
       "Low Fat    2111.061976\n",
       "Regular    2186.877169\n",
       "Name: Item_Outlet_Sales, dtype: float64"
      ]
     },
     "execution_count": 35,
     "metadata": {},
     "output_type": "execute_result"
    }
   ],
   "source": [
    "df.groupby('Item_Fat_Content')['Item_Outlet_Sales'].mean()"
   ]
  },
  {
   "cell_type": "markdown",
   "id": "dd49e19e",
   "metadata": {},
   "source": [
    "#### Feature Selection "
   ]
  },
  {
   "cell_type": "code",
   "execution_count": 36,
   "id": "4db1c5ef",
   "metadata": {},
   "outputs": [
    {
     "data": {
      "text/plain": [
       "Index(['Item_Weight', 'Item_Fat_Content', 'Item_Visibility', 'Item_Type',\n",
       "       'Item_MRP', 'Outlet_Identifier', 'Outlet_Size', 'Outlet_Location_Type',\n",
       "       'Outlet_Type', 'Item_Outlet_Sales', 'Age'],\n",
       "      dtype='object')"
      ]
     },
     "execution_count": 36,
     "metadata": {},
     "output_type": "execute_result"
    }
   ],
   "source": [
    "df.columns"
   ]
  },
  {
   "cell_type": "code",
   "execution_count": 37,
   "id": "eff5eab6",
   "metadata": {},
   "outputs": [],
   "source": [
    "#Drop Outlet_Identifier\n",
    "df.drop('Outlet_Identifier', axis = 1, inplace = True)\n",
    "df_test.drop(columns = ['Outlet_Identifier'], inplace = True)"
   ]
  },
  {
   "cell_type": "code",
   "execution_count": 38,
   "id": "182a382d",
   "metadata": {},
   "outputs": [],
   "source": [
    "#select X matrix\n",
    "X = df.drop('Item_Outlet_Sales', axis = 1)\n",
    "\n",
    "#select target varaible \n",
    "y = df.Item_Outlet_Sales"
   ]
  },
  {
   "cell_type": "code",
   "execution_count": 39,
   "id": "561b0e00",
   "metadata": {},
   "outputs": [
    {
     "name": "stdout",
     "output_type": "stream",
     "text": [
      "Shape X-matrics: (8352, 9)\n",
      "Shape Y-series: (8352,)\n"
     ]
    }
   ],
   "source": [
    "print('Shape X-matrics:', X.shape)\n",
    "print('Shape Y-series:', y.shape)"
   ]
  },
  {
   "cell_type": "markdown",
   "id": "83ba6397",
   "metadata": {},
   "source": [
    "### Split \n"
   ]
  },
  {
   "cell_type": "code",
   "execution_count": 40,
   "id": "889badaa",
   "metadata": {},
   "outputs": [],
   "source": [
    "X_train_full, X_val_full, y_train, y_val = train_test_split(X,y, train_size = 0.80, random_state = 0)"
   ]
  },
  {
   "cell_type": "code",
   "execution_count": 41,
   "id": "79ff9726",
   "metadata": {},
   "outputs": [],
   "source": [
    "categorical_col = [c for c in X_train_full if X_train_full[c].dtype == 'object']\n",
    "numerical_col = [c for c in X_train_full if  X_train_full[c].dtype in('int64', 'float64', 'int32')]"
   ]
  },
  {
   "cell_type": "code",
   "execution_count": 42,
   "id": "138b228b",
   "metadata": {},
   "outputs": [],
   "source": [
    "my_cols = numerical_col + categorical_col\n",
    "X_train = X_train_full[my_cols].copy()\n",
    "X_val = X_val_full[my_cols].copy()"
   ]
  },
  {
   "cell_type": "code",
   "execution_count": 43,
   "id": "a0db6f83",
   "metadata": {},
   "outputs": [
    {
     "data": {
      "text/plain": [
       "['Item_Weight',\n",
       " 'Item_Visibility',\n",
       " 'Item_MRP',\n",
       " 'Age',\n",
       " 'Item_Fat_Content',\n",
       " 'Item_Type',\n",
       " 'Outlet_Size',\n",
       " 'Outlet_Location_Type',\n",
       " 'Outlet_Type']"
      ]
     },
     "execution_count": 43,
     "metadata": {},
     "output_type": "execute_result"
    }
   ],
   "source": [
    "my_cols"
   ]
  },
  {
   "cell_type": "code",
   "execution_count": 44,
   "id": "f82e9ba6",
   "metadata": {},
   "outputs": [],
   "source": [
    "#preprocessing for numerical data\n",
    "numerical_transformer = SimpleImputer(strategy = 'constant')\n",
    "\n",
    "#preprocessing for categorical data\n",
    "categorical_transformer = Pipeline(steps = [\n",
    "    \n",
    "    ('imputer', SimpleImputer(strategy = 'most_frequent')),\n",
    "    ('oh', OneHotEncoder(handle_unknown = 'ignore'))\n",
    "])\n",
    "\n",
    "# Bundle preprocessing for numerical and categorical data\n",
    "preprocessor = ColumnTransformer(transformers = [\n",
    "    ('num', numerical_transformer, numerical_col),\n",
    "    ('cat', categorical_transformer, categorical_col),\n",
    "    \n",
    "])"
   ]
  },
  {
   "cell_type": "markdown",
   "id": "397d21e6",
   "metadata": {},
   "source": [
    "### Define The Model"
   ]
  },
  {
   "cell_type": "markdown",
   "id": "1f17f5e5",
   "metadata": {},
   "source": [
    "* ### Linear Regression"
   ]
  },
  {
   "cell_type": "code",
   "execution_count": 45,
   "id": "50721eaa",
   "metadata": {},
   "outputs": [],
   "source": [
    "model = LinearRegression()"
   ]
  },
  {
   "cell_type": "markdown",
   "id": "b8df0d22",
   "metadata": {},
   "source": [
    "#### Create and Evaluate the Pipeline"
   ]
  },
  {
   "cell_type": "code",
   "execution_count": 46,
   "id": "a53cf633",
   "metadata": {},
   "outputs": [],
   "source": [
    "my_pipeline1 = Pipeline(steps = [\n",
    "    ('preprocessor', preprocessor),\n",
    "    ('model', model)\n",
    "])"
   ]
  },
  {
   "cell_type": "code",
   "execution_count": 47,
   "id": "c9db72f9",
   "metadata": {},
   "outputs": [
    {
     "data": {
      "text/plain": [
       "Pipeline(steps=[('preprocessor',\n",
       "                 ColumnTransformer(transformers=[('num',\n",
       "                                                  SimpleImputer(strategy='constant'),\n",
       "                                                  ['Item_Weight',\n",
       "                                                   'Item_Visibility',\n",
       "                                                   'Item_MRP', 'Age']),\n",
       "                                                 ('cat',\n",
       "                                                  Pipeline(steps=[('imputer',\n",
       "                                                                   SimpleImputer(strategy='most_frequent')),\n",
       "                                                                  ('oh',\n",
       "                                                                   OneHotEncoder(handle_unknown='ignore'))]),\n",
       "                                                  ['Item_Fat_Content',\n",
       "                                                   'Item_Type', 'Outlet_Size',\n",
       "                                                   'Outlet_Location_Type',\n",
       "                                                   'Outlet_Type'])])),\n",
       "                ('model', LinearRegression())])"
      ]
     },
     "execution_count": 47,
     "metadata": {},
     "output_type": "execute_result"
    }
   ],
   "source": [
    "# Preprocessing of training data, fit model \n",
    "my_pipeline1.fit(X_train, y_train)"
   ]
  },
  {
   "cell_type": "code",
   "execution_count": 48,
   "id": "28b53d22",
   "metadata": {},
   "outputs": [],
   "source": [
    "# Preprocessing of validation data, get predictions\n",
    "preds1 = my_pipeline1.predict(X_val)"
   ]
  },
  {
   "cell_type": "markdown",
   "id": "49d18762",
   "metadata": {},
   "source": [
    "#### Evaluate the model"
   ]
  },
  {
   "cell_type": "code",
   "execution_count": 49,
   "id": "94d9fd9e",
   "metadata": {},
   "outputs": [
    {
     "name": "stdout",
     "output_type": "stream",
     "text": [
      "MAE: 782.22\n",
      "R2: 0.16\n"
     ]
    }
   ],
   "source": [
    "MAE1 = mean_absolute_error(preds1, y_val)\n",
    "R2_1  = r2_score(preds1, y_val)\n",
    "print('MAE:', round(MAE1, 2))\n",
    "print('R2:', round(R2_1, 2))\n"
   ]
  },
  {
   "cell_type": "code",
   "execution_count": 50,
   "id": "7237d5bc",
   "metadata": {},
   "outputs": [
    {
     "name": "stdout",
     "output_type": "stream",
     "text": [
      "Model: Linear Regression \n",
      "Method: pipeline\n",
      "R2 On Test Dataset: -1.68\n"
     ]
    }
   ],
   "source": [
    "#model performance On test dataset\n",
    "predt = my_pipeline1.predict(df_test)\n",
    "print('Model: Linear Regression \\nMethod: pipeline\\nR2 On Test Dataset:',round(r2_score(predt[:1671], y_val),2))"
   ]
  },
  {
   "cell_type": "markdown",
   "id": "fb7ce8a6",
   "metadata": {},
   "source": [
    "* ### Ridge Regression"
   ]
  },
  {
   "cell_type": "code",
   "execution_count": 51,
   "id": "7fea2dae",
   "metadata": {},
   "outputs": [],
   "source": [
    "from category_encoders import OrdinalEncoder, OneHotEncoder"
   ]
  },
  {
   "cell_type": "code",
   "execution_count": 52,
   "id": "6cf8cf71",
   "metadata": {},
   "outputs": [],
   "source": [
    "my_pipeline2 = make_pipeline(\n",
    "    OneHotEncoder(use_cat_names = True),\n",
    "    Ridge()\n",
    ")"
   ]
  },
  {
   "cell_type": "code",
   "execution_count": 53,
   "id": "3616ac3c",
   "metadata": {},
   "outputs": [
    {
     "data": {
      "text/plain": [
       "Pipeline(steps=[('onehotencoder',\n",
       "                 OneHotEncoder(cols=['Item_Fat_Content', 'Item_Type',\n",
       "                                     'Outlet_Size', 'Outlet_Location_Type',\n",
       "                                     'Outlet_Type'],\n",
       "                               use_cat_names=True)),\n",
       "                ('ridge', Ridge())])"
      ]
     },
     "execution_count": 53,
     "metadata": {},
     "output_type": "execute_result"
    }
   ],
   "source": [
    "my_pipeline2.fit(X,y)"
   ]
  },
  {
   "cell_type": "code",
   "execution_count": 54,
   "id": "163dbf31",
   "metadata": {},
   "outputs": [],
   "source": [
    "preds2 = my_pipeline2.predict(X_val_full)"
   ]
  },
  {
   "cell_type": "markdown",
   "id": "b35a1411",
   "metadata": {},
   "source": [
    "#### Evaluate the model"
   ]
  },
  {
   "cell_type": "code",
   "execution_count": 55,
   "id": "175ebd72",
   "metadata": {},
   "outputs": [
    {
     "name": "stdout",
     "output_type": "stream",
     "text": [
      "MAE: 778.8\n",
      "R2: 0.17\n"
     ]
    }
   ],
   "source": [
    "MAE2 = mean_absolute_error(preds2, y_val)\n",
    "R2_2 = r2_score(preds2, y_val)\n",
    "print('MAE:', round(MAE2, 2))\n",
    "print('R2:', round(R2_2, 2))"
   ]
  },
  {
   "cell_type": "code",
   "execution_count": 56,
   "id": "dbef863c",
   "metadata": {},
   "outputs": [
    {
     "name": "stdout",
     "output_type": "stream",
     "text": [
      "Model: Ridge Regression \n",
      "Method: make_pipeline\n",
      "R2 On Test Dataset: -1.67\n"
     ]
    }
   ],
   "source": [
    "#model performance On test dataset\n",
    "predst1 = my_pipeline2.predict(df_test)\n",
    "print('Model: Ridge Regression \\nMethod: make_pipeline\\nR2 On Test Dataset:',round(r2_score(predst1[:1671], y_val),2))"
   ]
  },
  {
   "cell_type": "markdown",
   "id": "8220f041",
   "metadata": {},
   "source": [
    "* ### Random Forest"
   ]
  },
  {
   "cell_type": "code",
   "execution_count": 57,
   "id": "25357731",
   "metadata": {},
   "outputs": [],
   "source": [
    "my_pipeline3 = make_pipeline(\n",
    "    \n",
    "    OneHotEncoder(use_cat_names = True),\n",
    "    RandomForestRegressor(n_estimators = 100, random_state = 1)\n",
    ")"
   ]
  },
  {
   "cell_type": "code",
   "execution_count": 58,
   "id": "0387b66d",
   "metadata": {},
   "outputs": [
    {
     "data": {
      "text/plain": [
       "Pipeline(steps=[('onehotencoder',\n",
       "                 OneHotEncoder(cols=['Item_Fat_Content', 'Item_Type',\n",
       "                                     'Outlet_Size', 'Outlet_Location_Type',\n",
       "                                     'Outlet_Type'],\n",
       "                               use_cat_names=True)),\n",
       "                ('randomforestregressor',\n",
       "                 RandomForestRegressor(random_state=1))])"
      ]
     },
     "execution_count": 58,
     "metadata": {},
     "output_type": "execute_result"
    }
   ],
   "source": [
    "my_pipeline3.fit(X_train_full,y_train)"
   ]
  },
  {
   "cell_type": "code",
   "execution_count": 59,
   "id": "23d30e92",
   "metadata": {},
   "outputs": [],
   "source": [
    "preds3 = my_pipeline3.predict(X_val_full)"
   ]
  },
  {
   "cell_type": "markdown",
   "id": "dd7e968b",
   "metadata": {},
   "source": [
    "#### Evaluate the model"
   ]
  },
  {
   "cell_type": "code",
   "execution_count": 60,
   "id": "7efd7323",
   "metadata": {},
   "outputs": [
    {
     "name": "stdout",
     "output_type": "stream",
     "text": [
      "MAE: 771.78\n",
      "R2: 0.27\n"
     ]
    }
   ],
   "source": [
    "MAE3 = mean_absolute_error(preds3, y_val)\n",
    "R2_3 = r2_score(preds3, y_val)\n",
    "print('MAE:', round(MAE3, 2))\n",
    "print('R2:', round(R2_3, 2))\n"
   ]
  },
  {
   "cell_type": "code",
   "execution_count": 61,
   "id": "b8c1c0ce",
   "metadata": {},
   "outputs": [
    {
     "name": "stdout",
     "output_type": "stream",
     "text": [
      "Model: RandomForestRegressor \n",
      "Method: make_pipeline\n",
      "R2 On Test Dataset: -1.42\n"
     ]
    }
   ],
   "source": [
    "#model performance On test dataset\n",
    "predst2 = my_pipeline3.predict(df_test)\n",
    "print('Model: RandomForestRegressor \\nMethod: make_pipeline\\nR2 On Test Dataset:',round(r2_score(predst2[:1671], y_val),2))"
   ]
  },
  {
   "cell_type": "markdown",
   "id": "60cfaa14",
   "metadata": {},
   "source": [
    "* ### XGBoost Regressor"
   ]
  },
  {
   "cell_type": "code",
   "execution_count": 62,
   "id": "790eebea",
   "metadata": {},
   "outputs": [],
   "source": [
    "from xgboost import XGBRegressor"
   ]
  },
  {
   "cell_type": "code",
   "execution_count": 63,
   "id": "e43c388f",
   "metadata": {},
   "outputs": [],
   "source": [
    "xgb = XGBRegressor()"
   ]
  },
  {
   "cell_type": "code",
   "execution_count": 64,
   "id": "e06fe006",
   "metadata": {},
   "outputs": [],
   "source": [
    "my_pipelinex = Pipeline(steps = [\n",
    "    ('preprocessor', preprocessor),\n",
    "    ('model', xgb)\n",
    "])"
   ]
  },
  {
   "cell_type": "code",
   "execution_count": 65,
   "id": "d904a492",
   "metadata": {},
   "outputs": [
    {
     "data": {
      "text/plain": [
       "Pipeline(steps=[('preprocessor',\n",
       "                 ColumnTransformer(transformers=[('num',\n",
       "                                                  SimpleImputer(strategy='constant'),\n",
       "                                                  ['Item_Weight',\n",
       "                                                   'Item_Visibility',\n",
       "                                                   'Item_MRP', 'Age']),\n",
       "                                                 ('cat',\n",
       "                                                  Pipeline(steps=[('imputer',\n",
       "                                                                   SimpleImputer(strategy='most_frequent')),\n",
       "                                                                  ('oh',\n",
       "                                                                   OneHotEncoder(handle_unknown='ignore'))]),\n",
       "                                                  ['Item_Fat_Content',\n",
       "                                                   'Item_Type', 'Outlet_Size',\n",
       "                                                   'Outlet_Location_Type',...\n",
       "                              gamma=0, gpu_id=-1, grow_policy='depthwise',\n",
       "                              importance_type=None, interaction_constraints='',\n",
       "                              learning_rate=0.300000012, max_bin=256,\n",
       "                              max_cat_to_onehot=4, max_delta_step=0,\n",
       "                              max_depth=6, max_leaves=0, min_child_weight=1,\n",
       "                              missing=nan, monotone_constraints='()',\n",
       "                              n_estimators=100, n_jobs=0, num_parallel_tree=1,\n",
       "                              predictor='auto', random_state=0, reg_alpha=0,\n",
       "                              reg_lambda=1, ...))])"
      ]
     },
     "execution_count": 65,
     "metadata": {},
     "output_type": "execute_result"
    }
   ],
   "source": [
    "my_pipelinex.fit(X_train, y_train)"
   ]
  },
  {
   "cell_type": "code",
   "execution_count": 66,
   "id": "d2635edd",
   "metadata": {},
   "outputs": [],
   "source": [
    "predsx = my_pipelinex.predict(X_val)"
   ]
  },
  {
   "cell_type": "markdown",
   "id": "ef81a05a",
   "metadata": {},
   "source": [
    "#### Evaluate the model"
   ]
  },
  {
   "cell_type": "code",
   "execution_count": 67,
   "id": "38b29a21",
   "metadata": {},
   "outputs": [
    {
     "name": "stdout",
     "output_type": "stream",
     "text": [
      "MAE: 790.23\n",
      "R2: 0.26\n"
     ]
    }
   ],
   "source": [
    "MAE4 = mean_absolute_error(predsx, y_val)\n",
    "R2_4 = r2_score(predsx, y_val)\n",
    "print('MAE:', round(MAE4, 2))\n",
    "print('R2:', round(R2_4, 2))"
   ]
  },
  {
   "cell_type": "code",
   "execution_count": 68,
   "id": "77c92c14",
   "metadata": {
    "scrolled": true
   },
   "outputs": [
    {
     "name": "stdout",
     "output_type": "stream",
     "text": [
      "Model: XGBRegressor \n",
      "Method: Pipeline\n",
      "R2 On Test Dataset: -1.38\n"
     ]
    }
   ],
   "source": [
    "#model performance with test dataset\n",
    "predstx = my_pipelinex.predict(df_test)\n",
    "print('Model: XGBRegressor \\nMethod: Pipeline\\nR2 On Test Dataset:',round(r2_score(predstx[:1671], y_val),2))"
   ]
  },
  {
   "cell_type": "code",
   "execution_count": 69,
   "id": "c2c97bbc",
   "metadata": {},
   "outputs": [],
   "source": [
    "#make_pipeline\n",
    "my_pipelinex1 = make_pipeline(\n",
    "    \n",
    "    OneHotEncoder(use_cat_names = True),\n",
    "    XGBRegressor(max_depth= 14, max_cat_to_onehot = 16)\n",
    "\n",
    ")"
   ]
  },
  {
   "cell_type": "code",
   "execution_count": 70,
   "id": "ea8907ea",
   "metadata": {},
   "outputs": [
    {
     "data": {
      "text/plain": [
       "Pipeline(steps=[('onehotencoder',\n",
       "                 OneHotEncoder(cols=['Item_Fat_Content', 'Item_Type',\n",
       "                                     'Outlet_Size', 'Outlet_Location_Type',\n",
       "                                     'Outlet_Type'],\n",
       "                               use_cat_names=True)),\n",
       "                ('xgbregressor',\n",
       "                 XGBRegressor(base_score=0.5, booster='gbtree', callbacks=None,\n",
       "                              colsample_bylevel=1, colsample_bynode=1,\n",
       "                              colsample_bytree=1, early_stopping_rounds=None,\n",
       "                              enable_categorical=False, eval_me...\n",
       "                              gamma=0, gpu_id=-1, grow_policy='depthwise',\n",
       "                              importance_type=None, interaction_constraints='',\n",
       "                              learning_rate=0.300000012, max_bin=256,\n",
       "                              max_cat_to_onehot=16, max_delta_step=0,\n",
       "                              max_depth=14, max_leaves=0, min_child_weight=1,\n",
       "                              missing=nan, monotone_constraints='()',\n",
       "                              n_estimators=100, n_jobs=0, num_parallel_tree=1,\n",
       "                              predictor='auto', random_state=0, reg_alpha=0,\n",
       "                              reg_lambda=1, ...))])"
      ]
     },
     "execution_count": 70,
     "metadata": {},
     "output_type": "execute_result"
    }
   ],
   "source": [
    "my_pipelinex1.fit(X_train_full, y_train)"
   ]
  },
  {
   "cell_type": "code",
   "execution_count": 71,
   "id": "9756272b",
   "metadata": {},
   "outputs": [],
   "source": [
    "predsx1 = my_pipelinex1.predict(X_val_full)"
   ]
  },
  {
   "cell_type": "code",
   "execution_count": 72,
   "id": "efed7b35",
   "metadata": {},
   "outputs": [
    {
     "name": "stdout",
     "output_type": "stream",
     "text": [
      "MAE: 860.13\n",
      "R2: 0.2\n"
     ]
    }
   ],
   "source": [
    "MAE5 = mean_absolute_error(predsx1, y_val)\n",
    "R2_5 = r2_score(predsx1, y_val)\n",
    "print('MAE:', round(MAE5, 2))\n",
    "print('R2:', round(R2_5, 2))"
   ]
  },
  {
   "cell_type": "code",
   "execution_count": 73,
   "id": "f2933eb3",
   "metadata": {
    "scrolled": true
   },
   "outputs": [
    {
     "name": "stdout",
     "output_type": "stream",
     "text": [
      "Model: XGBRegressor \n",
      "Method: make_pipeline\n",
      "R2 On Test Dataset: -1.22\n"
     ]
    }
   ],
   "source": [
    "#model performance with test dataset\n",
    "predstx1 = my_pipelinex1.predict(df_test)\n",
    "print('Model: XGBRegressor \\nMethod: make_pipeline\\nR2 On Test Dataset:',round(r2_score(predstx1[:1671], y_val),2))"
   ]
  },
  {
   "cell_type": "code",
   "execution_count": 74,
   "id": "75474894",
   "metadata": {},
   "outputs": [],
   "source": [
    "submission = pd.DataFrame({'outlet_sales': predstx1,\n",
    "             'Outlet_Identifier': Outlet_Identifier.values}, df_test.index)"
   ]
  },
  {
   "cell_type": "code",
   "execution_count": 75,
   "id": "299d360e",
   "metadata": {},
   "outputs": [
    {
     "data": {
      "text/html": [
       "<div>\n",
       "<style scoped>\n",
       "    .dataframe tbody tr th:only-of-type {\n",
       "        vertical-align: middle;\n",
       "    }\n",
       "\n",
       "    .dataframe tbody tr th {\n",
       "        vertical-align: top;\n",
       "    }\n",
       "\n",
       "    .dataframe thead th {\n",
       "        text-align: right;\n",
       "    }\n",
       "</style>\n",
       "<table border=\"1\" class=\"dataframe\">\n",
       "  <thead>\n",
       "    <tr style=\"text-align: right;\">\n",
       "      <th></th>\n",
       "      <th>outlet_sales</th>\n",
       "      <th>Outlet_Identifier</th>\n",
       "    </tr>\n",
       "    <tr>\n",
       "      <th>Item_Identifier</th>\n",
       "      <th></th>\n",
       "      <th></th>\n",
       "    </tr>\n",
       "  </thead>\n",
       "  <tbody>\n",
       "    <tr>\n",
       "      <th>FDW58</th>\n",
       "      <td>747.225403</td>\n",
       "      <td>OUT049</td>\n",
       "    </tr>\n",
       "    <tr>\n",
       "      <th>FDW14</th>\n",
       "      <td>1100.686646</td>\n",
       "      <td>OUT017</td>\n",
       "    </tr>\n",
       "    <tr>\n",
       "      <th>NCN55</th>\n",
       "      <td>882.479492</td>\n",
       "      <td>OUT010</td>\n",
       "    </tr>\n",
       "    <tr>\n",
       "      <th>FDQ58</th>\n",
       "      <td>1133.895996</td>\n",
       "      <td>OUT017</td>\n",
       "    </tr>\n",
       "    <tr>\n",
       "      <th>FDY38</th>\n",
       "      <td>3753.950439</td>\n",
       "      <td>OUT027</td>\n",
       "    </tr>\n",
       "  </tbody>\n",
       "</table>\n",
       "</div>"
      ],
      "text/plain": [
       "                 outlet_sales Outlet_Identifier\n",
       "Item_Identifier                                \n",
       "FDW58              747.225403            OUT049\n",
       "FDW14             1100.686646            OUT017\n",
       "NCN55              882.479492            OUT010\n",
       "FDQ58             1133.895996            OUT017\n",
       "FDY38             3753.950439            OUT027"
      ]
     },
     "execution_count": 75,
     "metadata": {},
     "output_type": "execute_result"
    }
   ],
   "source": [
    "submission.head()"
   ]
  },
  {
   "cell_type": "code",
   "execution_count": 76,
   "id": "4b7c7483",
   "metadata": {},
   "outputs": [
    {
     "data": {
      "text/html": [
       "<div>\n",
       "<style scoped>\n",
       "    .dataframe tbody tr th:only-of-type {\n",
       "        vertical-align: middle;\n",
       "    }\n",
       "\n",
       "    .dataframe tbody tr th {\n",
       "        vertical-align: top;\n",
       "    }\n",
       "\n",
       "    .dataframe thead th {\n",
       "        text-align: right;\n",
       "    }\n",
       "</style>\n",
       "<table border=\"1\" class=\"dataframe\">\n",
       "  <thead>\n",
       "    <tr style=\"text-align: right;\">\n",
       "      <th></th>\n",
       "      <th>Item_Weight</th>\n",
       "      <th>Item_Fat_Content</th>\n",
       "      <th>Item_Visibility</th>\n",
       "      <th>Item_Type</th>\n",
       "      <th>Item_MRP</th>\n",
       "      <th>Outlet_Size</th>\n",
       "      <th>Outlet_Location_Type</th>\n",
       "      <th>Outlet_Type</th>\n",
       "      <th>Item_Outlet_Sales</th>\n",
       "      <th>Age</th>\n",
       "    </tr>\n",
       "    <tr>\n",
       "      <th>Item_Identifier</th>\n",
       "      <th></th>\n",
       "      <th></th>\n",
       "      <th></th>\n",
       "      <th></th>\n",
       "      <th></th>\n",
       "      <th></th>\n",
       "      <th></th>\n",
       "      <th></th>\n",
       "      <th></th>\n",
       "      <th></th>\n",
       "    </tr>\n",
       "  </thead>\n",
       "  <tbody>\n",
       "    <tr>\n",
       "      <th>FDA15</th>\n",
       "      <td>9.30</td>\n",
       "      <td>Low Fat</td>\n",
       "      <td>0.016047</td>\n",
       "      <td>Dairy</td>\n",
       "      <td>249.8092</td>\n",
       "      <td>Medium</td>\n",
       "      <td>Tier 1</td>\n",
       "      <td>Supermarket Type1</td>\n",
       "      <td>3735.1380</td>\n",
       "      <td>23</td>\n",
       "    </tr>\n",
       "    <tr>\n",
       "      <th>DRC01</th>\n",
       "      <td>5.92</td>\n",
       "      <td>Regular</td>\n",
       "      <td>0.019278</td>\n",
       "      <td>Soft Drinks</td>\n",
       "      <td>48.2692</td>\n",
       "      <td>Medium</td>\n",
       "      <td>Tier 3</td>\n",
       "      <td>Supermarket Type2</td>\n",
       "      <td>443.4228</td>\n",
       "      <td>13</td>\n",
       "    </tr>\n",
       "    <tr>\n",
       "      <th>FDN15</th>\n",
       "      <td>17.50</td>\n",
       "      <td>Low Fat</td>\n",
       "      <td>0.016760</td>\n",
       "      <td>Meat</td>\n",
       "      <td>141.6180</td>\n",
       "      <td>Medium</td>\n",
       "      <td>Tier 1</td>\n",
       "      <td>Supermarket Type1</td>\n",
       "      <td>2097.2700</td>\n",
       "      <td>23</td>\n",
       "    </tr>\n",
       "    <tr>\n",
       "      <th>FDX07</th>\n",
       "      <td>19.20</td>\n",
       "      <td>Regular</td>\n",
       "      <td>0.000000</td>\n",
       "      <td>Fruits and Vegetables</td>\n",
       "      <td>182.0950</td>\n",
       "      <td>Medium</td>\n",
       "      <td>Tier 3</td>\n",
       "      <td>Grocery Store</td>\n",
       "      <td>732.3800</td>\n",
       "      <td>24</td>\n",
       "    </tr>\n",
       "    <tr>\n",
       "      <th>NCD19</th>\n",
       "      <td>8.93</td>\n",
       "      <td>Low Fat</td>\n",
       "      <td>0.000000</td>\n",
       "      <td>Household</td>\n",
       "      <td>53.8614</td>\n",
       "      <td>High</td>\n",
       "      <td>Tier 3</td>\n",
       "      <td>Supermarket Type1</td>\n",
       "      <td>994.7052</td>\n",
       "      <td>35</td>\n",
       "    </tr>\n",
       "  </tbody>\n",
       "</table>\n",
       "</div>"
      ],
      "text/plain": [
       "                 Item_Weight Item_Fat_Content  Item_Visibility  \\\n",
       "Item_Identifier                                                  \n",
       "FDA15                   9.30          Low Fat         0.016047   \n",
       "DRC01                   5.92          Regular         0.019278   \n",
       "FDN15                  17.50          Low Fat         0.016760   \n",
       "FDX07                  19.20          Regular         0.000000   \n",
       "NCD19                   8.93          Low Fat         0.000000   \n",
       "\n",
       "                             Item_Type  Item_MRP Outlet_Size  \\\n",
       "Item_Identifier                                                \n",
       "FDA15                            Dairy  249.8092      Medium   \n",
       "DRC01                      Soft Drinks   48.2692      Medium   \n",
       "FDN15                             Meat  141.6180      Medium   \n",
       "FDX07            Fruits and Vegetables  182.0950      Medium   \n",
       "NCD19                        Household   53.8614        High   \n",
       "\n",
       "                Outlet_Location_Type        Outlet_Type  Item_Outlet_Sales  \\\n",
       "Item_Identifier                                                              \n",
       "FDA15                         Tier 1  Supermarket Type1          3735.1380   \n",
       "DRC01                         Tier 3  Supermarket Type2           443.4228   \n",
       "FDN15                         Tier 1  Supermarket Type1          2097.2700   \n",
       "FDX07                         Tier 3      Grocery Store           732.3800   \n",
       "NCD19                         Tier 3  Supermarket Type1           994.7052   \n",
       "\n",
       "                 Age  \n",
       "Item_Identifier       \n",
       "FDA15             23  \n",
       "DRC01             13  \n",
       "FDN15             23  \n",
       "FDX07             24  \n",
       "NCD19             35  "
      ]
     },
     "execution_count": 76,
     "metadata": {},
     "output_type": "execute_result"
    }
   ],
   "source": [
    "df.head()"
   ]
  },
  {
   "cell_type": "markdown",
   "id": "de0dfbde",
   "metadata": {},
   "source": [
    "### Hyperparameters Tuning"
   ]
  },
  {
   "cell_type": "code",
   "execution_count": 77,
   "id": "e73f8937",
   "metadata": {},
   "outputs": [
    {
     "name": "stdout",
     "output_type": "stream",
     "text": [
      "When depth is 4, min_child_weight is 0, gamma is 0  MAE: 755.01\n",
      "When depth is 4, min_child_weight is 0, gamma is 0  R2: 0.54\n",
      "When depth is 4, min_child_weight is 0, gamma is 0  R2_score of Test Dataset: -0.7092705611326047\n",
      "\n",
      "When depth is 4, min_child_weight is 0, gamma is 2  MAE: 755.01\n",
      "When depth is 4, min_child_weight is 0, gamma is 2  R2: 0.54\n",
      "When depth is 4, min_child_weight is 0, gamma is 2  R2_score of Test Dataset: -0.7092705611326047\n",
      "\n",
      "When depth is 4, min_child_weight is 0, gamma is 4  MAE: 755.01\n",
      "When depth is 4, min_child_weight is 0, gamma is 4  R2: 0.54\n",
      "When depth is 4, min_child_weight is 0, gamma is 4  R2_score of Test Dataset: -0.7092705611326047\n",
      "\n",
      "When depth is 4, min_child_weight is 2, gamma is 0  MAE: 764.02\n",
      "When depth is 4, min_child_weight is 2, gamma is 0  R2: 0.53\n",
      "When depth is 4, min_child_weight is 2, gamma is 0  R2_score of Test Dataset: -0.687218073579714\n",
      "\n",
      "When depth is 4, min_child_weight is 2, gamma is 2  MAE: 764.02\n",
      "When depth is 4, min_child_weight is 2, gamma is 2  R2: 0.53\n",
      "When depth is 4, min_child_weight is 2, gamma is 2  R2_score of Test Dataset: -0.687218073579714\n",
      "\n",
      "When depth is 4, min_child_weight is 2, gamma is 4  MAE: 764.02\n",
      "When depth is 4, min_child_weight is 2, gamma is 4  R2: 0.53\n",
      "When depth is 4, min_child_weight is 2, gamma is 4  R2_score of Test Dataset: -0.687218073579714\n",
      "\n",
      "When depth is 4, min_child_weight is 4, gamma is 0  MAE: 756.12\n",
      "When depth is 4, min_child_weight is 4, gamma is 0  R2: 0.54\n",
      "When depth is 4, min_child_weight is 4, gamma is 0  R2_score of Test Dataset: -0.6825664336440185\n",
      "\n",
      "When depth is 4, min_child_weight is 4, gamma is 2  MAE: 756.12\n",
      "When depth is 4, min_child_weight is 4, gamma is 2  R2: 0.54\n",
      "When depth is 4, min_child_weight is 4, gamma is 2  R2_score of Test Dataset: -0.6825664336440185\n",
      "\n",
      "When depth is 4, min_child_weight is 4, gamma is 4  MAE: 756.12\n",
      "When depth is 4, min_child_weight is 4, gamma is 4  R2: 0.54\n",
      "When depth is 4, min_child_weight is 4, gamma is 4  R2_score of Test Dataset: -0.6825664336440185\n",
      "\n",
      "When depth is 4, min_child_weight is 6, gamma is 0  MAE: 761.9\n",
      "When depth is 4, min_child_weight is 6, gamma is 0  R2: 0.54\n",
      "When depth is 4, min_child_weight is 6, gamma is 0  R2_score of Test Dataset: -0.6727121635064304\n",
      "\n",
      "When depth is 4, min_child_weight is 6, gamma is 2  MAE: 761.9\n",
      "When depth is 4, min_child_weight is 6, gamma is 2  R2: 0.54\n",
      "When depth is 4, min_child_weight is 6, gamma is 2  R2_score of Test Dataset: -0.6727121635064304\n",
      "\n",
      "When depth is 4, min_child_weight is 6, gamma is 4  MAE: 761.9\n",
      "When depth is 4, min_child_weight is 6, gamma is 4  R2: 0.54\n",
      "When depth is 4, min_child_weight is 6, gamma is 4  R2_score of Test Dataset: -0.6727121635064304\n",
      "\n",
      "When depth is 6, min_child_weight is 0, gamma is 0  MAE: 784.96\n",
      "When depth is 6, min_child_weight is 0, gamma is 0  R2: 0.51\n",
      "When depth is 6, min_child_weight is 0, gamma is 0  R2_score of Test Dataset: -0.7522453667969708\n",
      "\n",
      "When depth is 6, min_child_weight is 0, gamma is 2  MAE: 784.96\n",
      "When depth is 6, min_child_weight is 0, gamma is 2  R2: 0.51\n",
      "When depth is 6, min_child_weight is 0, gamma is 2  R2_score of Test Dataset: -0.7522453667969708\n",
      "\n",
      "When depth is 6, min_child_weight is 0, gamma is 4  MAE: 784.96\n",
      "When depth is 6, min_child_weight is 0, gamma is 4  R2: 0.51\n",
      "When depth is 6, min_child_weight is 0, gamma is 4  R2_score of Test Dataset: -0.7522453667969708\n",
      "\n",
      "When depth is 6, min_child_weight is 2, gamma is 0  MAE: 791.94\n",
      "When depth is 6, min_child_weight is 2, gamma is 0  R2: 0.5\n",
      "When depth is 6, min_child_weight is 2, gamma is 0  R2_score of Test Dataset: -0.7483001308743915\n",
      "\n",
      "When depth is 6, min_child_weight is 2, gamma is 2  MAE: 791.94\n",
      "When depth is 6, min_child_weight is 2, gamma is 2  R2: 0.5\n",
      "When depth is 6, min_child_weight is 2, gamma is 2  R2_score of Test Dataset: -0.7483001308743915\n",
      "\n",
      "When depth is 6, min_child_weight is 2, gamma is 4  MAE: 791.94\n",
      "When depth is 6, min_child_weight is 2, gamma is 4  R2: 0.5\n",
      "When depth is 6, min_child_weight is 2, gamma is 4  R2_score of Test Dataset: -0.7483001308743915\n",
      "\n",
      "When depth is 6, min_child_weight is 4, gamma is 0  MAE: 793.36\n",
      "When depth is 6, min_child_weight is 4, gamma is 0  R2: 0.5\n",
      "When depth is 6, min_child_weight is 4, gamma is 0  R2_score of Test Dataset: -0.7376379556123793\n",
      "\n",
      "When depth is 6, min_child_weight is 4, gamma is 2  MAE: 793.36\n",
      "When depth is 6, min_child_weight is 4, gamma is 2  R2: 0.5\n",
      "When depth is 6, min_child_weight is 4, gamma is 2  R2_score of Test Dataset: -0.7376379556123793\n",
      "\n",
      "When depth is 6, min_child_weight is 4, gamma is 4  MAE: 793.36\n",
      "When depth is 6, min_child_weight is 4, gamma is 4  R2: 0.5\n",
      "When depth is 6, min_child_weight is 4, gamma is 4  R2_score of Test Dataset: -0.7376379556123793\n",
      "\n",
      "When depth is 6, min_child_weight is 6, gamma is 0  MAE: 793.05\n",
      "When depth is 6, min_child_weight is 6, gamma is 0  R2: 0.5\n",
      "When depth is 6, min_child_weight is 6, gamma is 0  R2_score of Test Dataset: -0.7219934757696338\n",
      "\n",
      "When depth is 6, min_child_weight is 6, gamma is 2  MAE: 793.05\n",
      "When depth is 6, min_child_weight is 6, gamma is 2  R2: 0.5\n",
      "When depth is 6, min_child_weight is 6, gamma is 2  R2_score of Test Dataset: -0.7219934757696338\n",
      "\n",
      "When depth is 6, min_child_weight is 6, gamma is 4  MAE: 793.05\n",
      "When depth is 6, min_child_weight is 6, gamma is 4  R2: 0.5\n",
      "When depth is 6, min_child_weight is 6, gamma is 4  R2_score of Test Dataset: -0.7219934757696338\n",
      "\n",
      "When depth is 8, min_child_weight is 0, gamma is 0  MAE: 820.77\n",
      "When depth is 8, min_child_weight is 0, gamma is 0  R2: 0.47\n",
      "When depth is 8, min_child_weight is 0, gamma is 0  R2_score of Test Dataset: -0.7875887888462338\n",
      "\n",
      "When depth is 8, min_child_weight is 0, gamma is 2  MAE: 820.77\n",
      "When depth is 8, min_child_weight is 0, gamma is 2  R2: 0.47\n",
      "When depth is 8, min_child_weight is 0, gamma is 2  R2_score of Test Dataset: -0.7875887847693401\n",
      "\n",
      "When depth is 8, min_child_weight is 0, gamma is 4  MAE: 820.77\n",
      "When depth is 8, min_child_weight is 0, gamma is 4  R2: 0.47\n",
      "When depth is 8, min_child_weight is 0, gamma is 4  R2_score of Test Dataset: -0.7876078311924648\n",
      "\n",
      "When depth is 8, min_child_weight is 2, gamma is 0  MAE: 818.82\n",
      "When depth is 8, min_child_weight is 2, gamma is 0  R2: 0.47\n",
      "When depth is 8, min_child_weight is 2, gamma is 0  R2_score of Test Dataset: -0.7834263111739099\n",
      "\n",
      "When depth is 8, min_child_weight is 2, gamma is 2  MAE: 818.82\n",
      "When depth is 8, min_child_weight is 2, gamma is 2  R2: 0.47\n",
      "When depth is 8, min_child_weight is 2, gamma is 2  R2_score of Test Dataset: -0.7834263111739099\n",
      "\n",
      "When depth is 8, min_child_weight is 2, gamma is 4  MAE: 818.82\n",
      "When depth is 8, min_child_weight is 2, gamma is 4  R2: 0.47\n",
      "When depth is 8, min_child_weight is 2, gamma is 4  R2_score of Test Dataset: -0.7834263111739099\n",
      "\n",
      "When depth is 8, min_child_weight is 4, gamma is 0  MAE: 817.62\n",
      "When depth is 8, min_child_weight is 4, gamma is 0  R2: 0.47\n",
      "When depth is 8, min_child_weight is 4, gamma is 0  R2_score of Test Dataset: -0.7814052365964801\n",
      "\n",
      "When depth is 8, min_child_weight is 4, gamma is 2  MAE: 817.62\n",
      "When depth is 8, min_child_weight is 4, gamma is 2  R2: 0.47\n",
      "When depth is 8, min_child_weight is 4, gamma is 2  R2_score of Test Dataset: -0.7814052365964801\n",
      "\n",
      "When depth is 8, min_child_weight is 4, gamma is 4  MAE: 817.62\n",
      "When depth is 8, min_child_weight is 4, gamma is 4  R2: 0.47\n",
      "When depth is 8, min_child_weight is 4, gamma is 4  R2_score of Test Dataset: -0.7814052365964801\n",
      "\n",
      "When depth is 8, min_child_weight is 6, gamma is 0  MAE: 822.08\n",
      "When depth is 8, min_child_weight is 6, gamma is 0  R2: 0.47\n",
      "When depth is 8, min_child_weight is 6, gamma is 0  R2_score of Test Dataset: -0.7506363185908238\n",
      "\n",
      "When depth is 8, min_child_weight is 6, gamma is 2  MAE: 822.08\n",
      "When depth is 8, min_child_weight is 6, gamma is 2  R2: 0.47\n",
      "When depth is 8, min_child_weight is 6, gamma is 2  R2_score of Test Dataset: -0.7506363185908238\n",
      "\n",
      "When depth is 8, min_child_weight is 6, gamma is 4  MAE: 822.08\n",
      "When depth is 8, min_child_weight is 6, gamma is 4  R2: 0.47\n",
      "When depth is 8, min_child_weight is 6, gamma is 4  R2_score of Test Dataset: -0.7506363185908238\n",
      "\n",
      "When depth is 10, min_child_weight is 0, gamma is 0  MAE: 837.07\n",
      "When depth is 10, min_child_weight is 0, gamma is 0  R2: 0.44\n",
      "When depth is 10, min_child_weight is 0, gamma is 0  R2_score of Test Dataset: -0.8020483315990286\n",
      "\n"
     ]
    },
    {
     "name": "stdout",
     "output_type": "stream",
     "text": [
      "When depth is 10, min_child_weight is 0, gamma is 2  MAE: 840.96\n",
      "When depth is 10, min_child_weight is 0, gamma is 2  R2: 0.45\n",
      "When depth is 10, min_child_weight is 0, gamma is 2  R2_score of Test Dataset: -0.8100319474071163\n",
      "\n",
      "When depth is 10, min_child_weight is 0, gamma is 4  MAE: 842.2\n",
      "When depth is 10, min_child_weight is 0, gamma is 4  R2: 0.45\n",
      "When depth is 10, min_child_weight is 0, gamma is 4  R2_score of Test Dataset: -0.8081191004077697\n",
      "\n",
      "When depth is 10, min_child_weight is 2, gamma is 0  MAE: 857.67\n",
      "When depth is 10, min_child_weight is 2, gamma is 0  R2: 0.42\n",
      "When depth is 10, min_child_weight is 2, gamma is 0  R2_score of Test Dataset: -0.8001802959316888\n",
      "\n",
      "When depth is 10, min_child_weight is 2, gamma is 2  MAE: 857.67\n",
      "When depth is 10, min_child_weight is 2, gamma is 2  R2: 0.42\n",
      "When depth is 10, min_child_weight is 2, gamma is 2  R2_score of Test Dataset: -0.8001802959316888\n",
      "\n",
      "When depth is 10, min_child_weight is 2, gamma is 4  MAE: 857.67\n",
      "When depth is 10, min_child_weight is 2, gamma is 4  R2: 0.42\n",
      "When depth is 10, min_child_weight is 2, gamma is 4  R2_score of Test Dataset: -0.8001802959316888\n",
      "\n",
      "When depth is 10, min_child_weight is 4, gamma is 0  MAE: 841.69\n",
      "When depth is 10, min_child_weight is 4, gamma is 0  R2: 0.45\n",
      "When depth is 10, min_child_weight is 4, gamma is 0  R2_score of Test Dataset: -0.7946147657510043\n",
      "\n",
      "When depth is 10, min_child_weight is 4, gamma is 2  MAE: 841.69\n",
      "When depth is 10, min_child_weight is 4, gamma is 2  R2: 0.45\n",
      "When depth is 10, min_child_weight is 4, gamma is 2  R2_score of Test Dataset: -0.7946147657510043\n",
      "\n",
      "When depth is 10, min_child_weight is 4, gamma is 4  MAE: 841.69\n",
      "When depth is 10, min_child_weight is 4, gamma is 4  R2: 0.45\n",
      "When depth is 10, min_child_weight is 4, gamma is 4  R2_score of Test Dataset: -0.7946147657510043\n",
      "\n",
      "When depth is 10, min_child_weight is 6, gamma is 0  MAE: 834.51\n",
      "When depth is 10, min_child_weight is 6, gamma is 0  R2: 0.45\n",
      "When depth is 10, min_child_weight is 6, gamma is 0  R2_score of Test Dataset: -0.7819520085385332\n",
      "\n",
      "When depth is 10, min_child_weight is 6, gamma is 2  MAE: 834.51\n",
      "When depth is 10, min_child_weight is 6, gamma is 2  R2: 0.45\n",
      "When depth is 10, min_child_weight is 6, gamma is 2  R2_score of Test Dataset: -0.7819520085385332\n",
      "\n",
      "When depth is 10, min_child_weight is 6, gamma is 4  MAE: 834.51\n",
      "When depth is 10, min_child_weight is 6, gamma is 4  R2: 0.45\n",
      "When depth is 10, min_child_weight is 6, gamma is 4  R2_score of Test Dataset: -0.7819520085385332\n",
      "\n"
     ]
    }
   ],
   "source": [
    "def get_r2(max_depth, min_child, gamma):\n",
    "    \n",
    "    for depth in max_depth: \n",
    "        for m in min_child:\n",
    "            for g in gamma:\n",
    "                \n",
    "                #make_pipeline\n",
    "                my_pipelinex1 = make_pipeline(\n",
    "\n",
    "                    OneHotEncoder(use_cat_names = True),\n",
    "                    XGBRegressor(n_estimators=100, max_depth = depth, min_child_weight = m, gamma = g))\n",
    "\n",
    "                my_pipelinex1.fit(X_train_full, y_train)\n",
    "                y_preds = my_pipelinex1.predict(X_val_full)\n",
    "                mea = round(mean_absolute_error(y_val, y_preds), 2)\n",
    "                R2 = round(r2_score(y_val, y_preds), 2)\n",
    "                test_r2 = r2_score(y_val, my_pipelinex1.predict(df_test[:1671]))\n",
    "\n",
    "                print(f'When depth is {depth}, min_child_weight is {m}, gamma is {g}  MAE: {mea}')\n",
    "                print(f'When depth is {depth}, min_child_weight is {m}, gamma is {g}  R2: {R2}')\n",
    "                print(f'When depth is {depth}, min_child_weight is {m}, gamma is {g}  R2_score of Test Dataset: {test_r2}\\n')\n",
    "\n",
    "d = range(4,12,2)\n",
    "m = range(0,8,2)\n",
    "g = range(0,6, 2)\n",
    "\n",
    "\n",
    "get_r2(d,m,g)"
   ]
  },
  {
   "cell_type": "code",
   "execution_count": 78,
   "id": "918a68d4",
   "metadata": {},
   "outputs": [],
   "source": [
    "from sklearn.preprocessing import StandardScaler,MinMaxScaler,MaxAbsScaler,RobustScaler"
   ]
  },
  {
   "cell_type": "markdown",
   "id": "8df49e67",
   "metadata": {},
   "source": [
    "### Standard Scaling"
   ]
  },
  {
   "cell_type": "code",
   "execution_count": 79,
   "id": "1acf85ca",
   "metadata": {},
   "outputs": [],
   "source": [
    "m = XGBRegressor(n_estimators=100, max_depth = 4, min_child_weight = 4, gamma = 0)"
   ]
  },
  {
   "cell_type": "code",
   "execution_count": 80,
   "id": "780e0219",
   "metadata": {},
   "outputs": [
    {
     "data": {
      "text/plain": [
       "array([[-1.42164192, -0.371132  ,  0.21585641, -1.08610448],\n",
       "       [-0.00584874, -0.21888641, -1.69175923,  1.55913916],\n",
       "       [ 1.48262977, -0.837763  ,  0.66209021, -0.72538944],\n",
       "       ...,\n",
       "       [ 0.89590821, -0.76272702,  1.72383386, -1.08610448],\n",
       "       [-0.30100375,  0.25078175, -0.93367714,  1.31866247],\n",
       "       [-1.58357707,  0.95404875,  0.34166752, -0.72538944]])"
      ]
     },
     "execution_count": 80,
     "metadata": {},
     "output_type": "execute_result"
    }
   ],
   "source": [
    "#Creating StandardScaler Object\n",
    "scaler = StandardScaler()\n",
    "\n",
    "X_train = scaler.fit_transform(X_train_full.select_dtypes('number'))\n",
    "X_test = scaler.transform(X_val_full.select_dtypes('number'))\n",
    "\n",
    "#Seeing the scaled values of X_train\n",
    "X_train"
   ]
  },
  {
   "cell_type": "code",
   "execution_count": 81,
   "id": "d2b2b5f2",
   "metadata": {},
   "outputs": [
    {
     "data": {
      "text/plain": [
       "XGBRegressor(base_score=0.5, booster='gbtree', callbacks=None,\n",
       "             colsample_bylevel=1, colsample_bynode=1, colsample_bytree=1,\n",
       "             early_stopping_rounds=None, enable_categorical=False,\n",
       "             eval_metric=None, gamma=0, gpu_id=-1, grow_policy='depthwise',\n",
       "             importance_type=None, interaction_constraints='',\n",
       "             learning_rate=0.300000012, max_bin=256, max_cat_to_onehot=4,\n",
       "             max_delta_step=0, max_depth=4, max_leaves=0, min_child_weight=4,\n",
       "             missing=nan, monotone_constraints='()', n_estimators=100, n_jobs=0,\n",
       "             num_parallel_tree=1, predictor='auto', random_state=0, reg_alpha=0,\n",
       "             reg_lambda=1, ...)"
      ]
     },
     "execution_count": 81,
     "metadata": {},
     "output_type": "execute_result"
    }
   ],
   "source": [
    "m.fit(X_train, y_train)"
   ]
  },
  {
   "cell_type": "code",
   "execution_count": 82,
   "id": "05dae528",
   "metadata": {},
   "outputs": [],
   "source": [
    "preds = m.predict(X_test)"
   ]
  },
  {
   "cell_type": "code",
   "execution_count": 83,
   "id": "93f5a8c9",
   "metadata": {},
   "outputs": [
    {
     "data": {
      "text/plain": [
       "-0.21840290769788506"
      ]
     },
     "execution_count": 83,
     "metadata": {},
     "output_type": "execute_result"
    }
   ],
   "source": [
    "r2_score(preds, y_val)"
   ]
  },
  {
   "cell_type": "code",
   "execution_count": 84,
   "id": "4541a8fb",
   "metadata": {},
   "outputs": [
    {
     "data": {
      "text/plain": [
       "901.6683816961373"
      ]
     },
     "execution_count": 84,
     "metadata": {},
     "output_type": "execute_result"
    }
   ],
   "source": [
    "mean_absolute_error(preds, y_val)"
   ]
  },
  {
   "cell_type": "markdown",
   "id": "f76b1931",
   "metadata": {},
   "source": [
    "###   Robust Scaling"
   ]
  },
  {
   "cell_type": "code",
   "execution_count": 85,
   "id": "b60a9740",
   "metadata": {},
   "outputs": [],
   "source": [
    "rob = RobustScaler()"
   ]
  },
  {
   "cell_type": "code",
   "execution_count": 86,
   "id": "be59604b",
   "metadata": {},
   "outputs": [],
   "source": [
    "X_train = rob.fit_transform(X_train_full.select_dtypes('number'))\n",
    "X_test = rob.fit_transform(X_val_full.select_dtypes('number'))"
   ]
  },
  {
   "cell_type": "code",
   "execution_count": 87,
   "id": "4020b8af",
   "metadata": {},
   "outputs": [
    {
     "data": {
      "text/plain": [
       "XGBRegressor(base_score=0.5, booster='gbtree', callbacks=None,\n",
       "             colsample_bylevel=1, colsample_bynode=1, colsample_bytree=1,\n",
       "             early_stopping_rounds=None, enable_categorical=False,\n",
       "             eval_metric=None, gamma=0, gpu_id=-1, grow_policy='depthwise',\n",
       "             importance_type=None, interaction_constraints='',\n",
       "             learning_rate=0.300000012, max_bin=256, max_cat_to_onehot=4,\n",
       "             max_delta_step=0, max_depth=4, max_leaves=0, min_child_weight=4,\n",
       "             missing=nan, monotone_constraints='()', n_estimators=100, n_jobs=0,\n",
       "             num_parallel_tree=1, predictor='auto', random_state=0, reg_alpha=0,\n",
       "             reg_lambda=1, ...)"
      ]
     },
     "execution_count": 87,
     "metadata": {},
     "output_type": "execute_result"
    }
   ],
   "source": [
    "m.fit(X_train, y_train)"
   ]
  },
  {
   "cell_type": "code",
   "execution_count": 88,
   "id": "37913c9b",
   "metadata": {},
   "outputs": [],
   "source": [
    "preds = m.predict(X_test)"
   ]
  },
  {
   "cell_type": "code",
   "execution_count": 89,
   "id": "713ce088",
   "metadata": {},
   "outputs": [
    {
     "data": {
      "text/plain": [
       "894.6726979628748"
      ]
     },
     "execution_count": 89,
     "metadata": {},
     "output_type": "execute_result"
    }
   ],
   "source": [
    "mean_absolute_error(preds, y_val)"
   ]
  },
  {
   "cell_type": "code",
   "execution_count": 90,
   "id": "a0579dc7",
   "metadata": {},
   "outputs": [
    {
     "data": {
      "text/plain": [
       "-0.22202057494326155"
      ]
     },
     "execution_count": 90,
     "metadata": {},
     "output_type": "execute_result"
    }
   ],
   "source": [
    "r2_score(preds, y_val)"
   ]
  },
  {
   "cell_type": "markdown",
   "id": "a65e08bc",
   "metadata": {},
   "source": [
    "### Final Model"
   ]
  },
  {
   "cell_type": "code",
   "execution_count": 91,
   "id": "029c5eea",
   "metadata": {},
   "outputs": [],
   "source": [
    "model = make_pipeline(\n",
    "    \n",
    "    OneHotEncoder(use_cat_names = True),\n",
    "    XGBRegressor(n_estimators=100, max_depth = 4, min_child_weight = 4, gamma = 0)\n",
    "    \n",
    "    )\n",
    "model.fit(X_train_full, y_train)\n",
    "y_preds = model.predict(X_val_full)\n",
    "mea = round(mean_absolute_error(y_val, y_preds), 2)\n",
    "R2 = round(r2_score(y_val, y_preds), 2)\n",
    "test_r2 = round(r2_score(y_val, model.predict(df_test[:1671])),2)"
   ]
  },
  {
   "cell_type": "code",
   "execution_count": 92,
   "id": "c0f6591a",
   "metadata": {},
   "outputs": [
    {
     "name": "stdout",
     "output_type": "stream",
     "text": [
      "MAE: 756.12\n",
      "R2: 0.54\n",
      "Model: XGBRegressor \n",
      "R2_score On Test Dataset: -0.68\n"
     ]
    }
   ],
   "source": [
    "print('Model: XGBRegressor\\nMAE:', round(mea, 2))\n",
    "print('R2:', round(R2, 2))\n",
    "print('R2_score On Test Dataset:', round(test_r2,2))"
   ]
  },
  {
   "cell_type": "code",
   "execution_count": 93,
   "id": "9bef4906",
   "metadata": {},
   "outputs": [
    {
     "data": {
      "text/html": [
       "<div>\n",
       "<style scoped>\n",
       "    .dataframe tbody tr th:only-of-type {\n",
       "        vertical-align: middle;\n",
       "    }\n",
       "\n",
       "    .dataframe tbody tr th {\n",
       "        vertical-align: top;\n",
       "    }\n",
       "\n",
       "    .dataframe thead th {\n",
       "        text-align: right;\n",
       "    }\n",
       "</style>\n",
       "<table border=\"1\" class=\"dataframe\">\n",
       "  <thead>\n",
       "    <tr style=\"text-align: right;\">\n",
       "      <th></th>\n",
       "      <th>outlet_sales</th>\n",
       "      <th>Outlet_Identifier</th>\n",
       "    </tr>\n",
       "    <tr>\n",
       "      <th>Item_Identifier</th>\n",
       "      <th></th>\n",
       "      <th></th>\n",
       "    </tr>\n",
       "  </thead>\n",
       "  <tbody>\n",
       "    <tr>\n",
       "      <th>FDW58</th>\n",
       "      <td>1551.805664</td>\n",
       "      <td>OUT049</td>\n",
       "    </tr>\n",
       "    <tr>\n",
       "      <th>FDW14</th>\n",
       "      <td>1524.264526</td>\n",
       "      <td>OUT017</td>\n",
       "    </tr>\n",
       "    <tr>\n",
       "      <th>NCN55</th>\n",
       "      <td>899.932800</td>\n",
       "      <td>OUT010</td>\n",
       "    </tr>\n",
       "    <tr>\n",
       "      <th>FDQ58</th>\n",
       "      <td>2265.935547</td>\n",
       "      <td>OUT017</td>\n",
       "    </tr>\n",
       "    <tr>\n",
       "      <th>FDY38</th>\n",
       "      <td>4932.419434</td>\n",
       "      <td>OUT027</td>\n",
       "    </tr>\n",
       "  </tbody>\n",
       "</table>\n",
       "</div>"
      ],
      "text/plain": [
       "                 outlet_sales Outlet_Identifier\n",
       "Item_Identifier                                \n",
       "FDW58             1551.805664            OUT049\n",
       "FDW14             1524.264526            OUT017\n",
       "NCN55              899.932800            OUT010\n",
       "FDQ58             2265.935547            OUT017\n",
       "FDY38             4932.419434            OUT027"
      ]
     },
     "execution_count": 93,
     "metadata": {},
     "output_type": "execute_result"
    }
   ],
   "source": [
    "test_pred = model.predict(df_test)\n",
    "submission1 = pd.DataFrame({'outlet_sales': test_pred,\n",
    "             'Outlet_Identifier': Outlet_Identifier.values}, df_test.index)\n",
    "submission1.head()"
   ]
  },
  {
   "cell_type": "markdown",
   "id": "900414eb",
   "metadata": {},
   "source": [
    "### Summary"
   ]
  },
  {
   "cell_type": "markdown",
   "id": "f65260b4",
   "metadata": {},
   "source": [
    "In this project we wrangle the data, visualized some data, analyzed the correlation between sales and varabiles and could not find high correlation between sales and any varaible. Furthermore we build the different models like Linear Regression, Ridge Regression, DecisiontreeRegressor and XGBoost Regressor.And above all models we found that XGBoost is best performing model for our data with Mean absolute error of around 755 and R2 score of 0.54.\n",
    "\n",
    "However there are many varaibles like, population of city where an outlet is located or population in certain radius of an outlet, manufacturer, discount and demographic information which was not included in this dataset. These varaibles would have played great role in predicting sales of certain product and an outlet.\n",
    "\n",
    "so future project would definetly be building predictive model based on above mentioned varaibles for more accurate prediction or results.\n",
    "\n",
    "\n"
   ]
  }
 ],
 "metadata": {
  "kernelspec": {
   "display_name": "Python 3 (ipykernel)",
   "language": "python",
   "name": "python3"
  },
  "language_info": {
   "codemirror_mode": {
    "name": "ipython",
    "version": 3
   },
   "file_extension": ".py",
   "mimetype": "text/x-python",
   "name": "python",
   "nbconvert_exporter": "python",
   "pygments_lexer": "ipython3",
   "version": "3.9.12"
  }
 },
 "nbformat": 4,
 "nbformat_minor": 5
}
